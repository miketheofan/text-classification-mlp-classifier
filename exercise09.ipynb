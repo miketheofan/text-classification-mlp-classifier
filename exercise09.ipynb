{
  "nbformat": 4,
  "nbformat_minor": 0,
  "metadata": {
    "colab": {
      "provenance": [],
      "gpuType": "T4"
    },
    "kernelspec": {
      "name": "python3",
      "display_name": "Python 3"
    },
    "language_info": {
      "name": "python"
    },
    "accelerator": "GPU"
  },
  "cells": [
    {
      "cell_type": "markdown",
      "source": [
        "# Exercise 9: Sentiment Classification with an MLP\n",
        "\n",
        "In this notebook, we will:\n",
        "1. Load and inspect the IMDB sentiment dataset (train/test) provided in the local `aclImdb/` directory.\n",
        "2. Preprocess texts and extract features (e.g., TF-IDF).\n",
        "3. Define an MLP classifier with dropout for regularization.\n",
        "4. Train and evaluate the model.\n",
        "\n",
        "We structure the code using Python classes, each explained in the Markdown cells that precede them.\n",
        "\n"
      ],
      "metadata": {
        "id": "3DKpdpMdWFFS"
      }
    },
    {
      "cell_type": "markdown",
      "source": [
        "## Imports"
      ],
      "metadata": {
        "id": "b-I-FWFX1PGI"
      }
    },
    {
      "cell_type": "code",
      "source": [
        "# Core libraries\n",
        "import os\n",
        "import io\n",
        "import string\n",
        "import copy\n",
        "import numpy as np\n",
        "import pandas as pd\n",
        "import matplotlib.pyplot as plt\n",
        "from tqdm import tqdm\n",
        "\n",
        "# Natural Language Processing (NLP)\n",
        "import nltk\n",
        "from nltk.corpus import stopwords\n",
        "from nltk.tokenize import sent_tokenize, word_tokenize\n",
        "from sklearn.datasets import fetch_20newsgroups\n",
        "from sklearn.feature_extraction.text import CountVectorizer, TfidfVectorizer\n",
        "import gensim.downloader as api\n",
        "\n",
        "# Data preprocessing & evaluation\n",
        "from sklearn.model_selection import train_test_split, ParameterGrid\n",
        "from sklearn.metrics import (\n",
        "    accuracy_score, precision_score, recall_score,\n",
        "    f1_score, precision_recall_curve, auc\n",
        ")\n",
        "\n",
        "# Dimensionality reduction\n",
        "from sklearn.decomposition import TruncatedSVD\n",
        "\n",
        "# PyTorch\n",
        "import torch\n",
        "import torch.nn as nn\n",
        "import torch.optim as optim\n",
        "from torch.utils.data import TensorDataset, DataLoader\n",
        "\n",
        "# Downloading data from the web\n",
        "import requests\n",
        "import gzip\n",
        "\n",
        "from collections import defaultdict, Counter\n",
        "\n",
        "# Download required NLTK resources\n",
        "nltk.download('punkt')\n",
        "nltk.download('stopwords')\n"
      ],
      "metadata": {
        "colab": {
          "base_uri": "https://localhost:8080/"
        },
        "collapsed": true,
        "id": "hHcNZfvYPsTW",
        "outputId": "09968a29-b5dd-4ff5-d2ed-8a95be737c8c"
      },
      "execution_count": 68,
      "outputs": [
        {
          "output_type": "stream",
          "name": "stderr",
          "text": [
            "[nltk_data] Downloading package punkt to /root/nltk_data...\n",
            "[nltk_data]   Package punkt is already up-to-date!\n",
            "[nltk_data] Downloading package stopwords to /root/nltk_data...\n",
            "[nltk_data]   Package stopwords is already up-to-date!\n"
          ]
        },
        {
          "output_type": "execute_result",
          "data": {
            "text/plain": [
              "True"
            ]
          },
          "metadata": {},
          "execution_count": 68
        }
      ]
    },
    {
      "cell_type": "code",
      "source": [
        "device = torch.device('cuda') if torch.cuda.is_available() else torch.device('cpu')\n",
        "print(device)"
      ],
      "metadata": {
        "colab": {
          "base_uri": "https://localhost:8080/"
        },
        "id": "A6oXphpvYtQq",
        "outputId": "971c856f-dc87-4f51-9c83-61d510ab6ac9"
      },
      "execution_count": 16,
      "outputs": [
        {
          "output_type": "stream",
          "name": "stdout",
          "text": [
            "cuda\n"
          ]
        }
      ]
    },
    {
      "cell_type": "markdown",
      "source": [
        "## Dataset retrieval"
      ],
      "metadata": {
        "id": "_NoS1tu41SV4"
      }
    },
    {
      "cell_type": "code",
      "source": [
        "# Function to download Large Movie Review Dataset\n",
        "def download_movie_reviews_dataset():\n",
        "    \"\"\"Download and prepare the IMDB Large Movie Review Dataset.\"\"\"\n",
        "    print(\"Downloading IMDB Large Movie Review Dataset...\")\n",
        "    url = \"https://ai.stanford.edu/~amaas/data/sentiment/aclImdb_v1.tar.gz\"\n",
        "\n",
        "    # Download the dataset\n",
        "    response = requests.get(url, stream=True)\n",
        "    compressed_file = io.BytesIO(response.content)\n",
        "\n",
        "    # Extract the tar.gz file\n",
        "    with gzip.open(compressed_file, 'rb') as f_in:\n",
        "        with open('aclImdb_v1.tar', 'wb') as f_out:\n",
        "            f_out.write(f_in.read())\n",
        "\n",
        "    # Extract the tar file\n",
        "    import tarfile\n",
        "    with tarfile.open('aclImdb_v1.tar', 'r') as tar:\n",
        "        tar.extractall()\n",
        "\n",
        "    # Clean up\n",
        "    os.remove('aclImdb_v1.tar')\n",
        "\n",
        "    # Load the dataset\n",
        "    def load_reviews(directory, label):\n",
        "        reviews = []\n",
        "        for filename in os.listdir(directory):\n",
        "            if filename.endswith('.txt'):\n",
        "                with open(os.path.join(directory, filename), 'r', encoding='utf-8') as f:\n",
        "                    reviews.append((f.read(), label))\n",
        "        return reviews\n",
        "\n",
        "    # Load positive and negative reviews from both train and test sets\n",
        "    positive_train = load_reviews('aclImdb/train/pos', 'positive')\n",
        "    negative_train = load_reviews('aclImdb/train/neg', 'negative')\n",
        "    positive_test = load_reviews('aclImdb/test/pos', 'positive')\n",
        "    negative_test = load_reviews('aclImdb/test/neg', 'negative')\n",
        "\n",
        "    # Combine all data\n",
        "    all_data = positive_train + negative_train + positive_test + negative_test\n",
        "\n",
        "    # Convert to DataFrame\n",
        "    df = pd.DataFrame(all_data, columns=['text', 'sentiment'])\n",
        "\n",
        "    # Shuffle the data\n",
        "    df = df.sample(frac=1, random_state=42).reset_index(drop=True)\n",
        "\n",
        "    print(f\"Dataset loaded! Total samples: {len(df)}\")\n",
        "    return df\n",
        "\n",
        "df = download_movie_reviews_dataset()\n"
      ],
      "metadata": {
        "colab": {
          "base_uri": "https://localhost:8080/"
        },
        "id": "okO4w845PdmL",
        "outputId": "955c9147-7fb5-4452-b92b-73562858d2eb"
      },
      "execution_count": 28,
      "outputs": [
        {
          "output_type": "stream",
          "name": "stdout",
          "text": [
            "Downloading IMDB Large Movie Review Dataset...\n",
            "Dataset loaded! Total samples: 50000\n"
          ]
        }
      ]
    },
    {
      "cell_type": "code",
      "source": [
        "df"
      ],
      "metadata": {
        "colab": {
          "base_uri": "https://localhost:8080/",
          "height": 423
        },
        "id": "YG8psKLQQNX8",
        "outputId": "123f6bc5-4aec-4d33-bd36-7cf3353749d7"
      },
      "execution_count": 29,
      "outputs": [
        {
          "output_type": "execute_result",
          "data": {
            "text/plain": [
              "                                                    text sentiment\n",
              "0      Being a fan of Saint Etienne and the City of L...  positive\n",
              "1      A lawyer is drawn into a deadly game of cat an...  positive\n",
              "2      I caught this movie on my local movie channel,...  positive\n",
              "3      Hollow Man starts as brilliant but flawed scie...  positive\n",
              "4      I just recently viewed Shame which is directed...  negative\n",
              "...                                                  ...       ...\n",
              "49995  This movie is among my favorite foreign films,...  positive\n",
              "49996  Well, if you set aside the fact that this movi...  negative\n",
              "49997  This little cheapy is notable only because it ...  negative\n",
              "49998  Fascinating I approached I Am Curious (Yellow)...  positive\n",
              "49999  Around the late 1970's, animator Don Bluth, fr...  negative\n",
              "\n",
              "[50000 rows x 2 columns]"
            ],
            "text/html": [
              "\n",
              "  <div id=\"df-2e5ae282-9161-43c5-be72-5fe1d52d763b\" class=\"colab-df-container\">\n",
              "    <div>\n",
              "<style scoped>\n",
              "    .dataframe tbody tr th:only-of-type {\n",
              "        vertical-align: middle;\n",
              "    }\n",
              "\n",
              "    .dataframe tbody tr th {\n",
              "        vertical-align: top;\n",
              "    }\n",
              "\n",
              "    .dataframe thead th {\n",
              "        text-align: right;\n",
              "    }\n",
              "</style>\n",
              "<table border=\"1\" class=\"dataframe\">\n",
              "  <thead>\n",
              "    <tr style=\"text-align: right;\">\n",
              "      <th></th>\n",
              "      <th>text</th>\n",
              "      <th>sentiment</th>\n",
              "    </tr>\n",
              "  </thead>\n",
              "  <tbody>\n",
              "    <tr>\n",
              "      <th>0</th>\n",
              "      <td>Being a fan of Saint Etienne and the City of L...</td>\n",
              "      <td>positive</td>\n",
              "    </tr>\n",
              "    <tr>\n",
              "      <th>1</th>\n",
              "      <td>A lawyer is drawn into a deadly game of cat an...</td>\n",
              "      <td>positive</td>\n",
              "    </tr>\n",
              "    <tr>\n",
              "      <th>2</th>\n",
              "      <td>I caught this movie on my local movie channel,...</td>\n",
              "      <td>positive</td>\n",
              "    </tr>\n",
              "    <tr>\n",
              "      <th>3</th>\n",
              "      <td>Hollow Man starts as brilliant but flawed scie...</td>\n",
              "      <td>positive</td>\n",
              "    </tr>\n",
              "    <tr>\n",
              "      <th>4</th>\n",
              "      <td>I just recently viewed Shame which is directed...</td>\n",
              "      <td>negative</td>\n",
              "    </tr>\n",
              "    <tr>\n",
              "      <th>...</th>\n",
              "      <td>...</td>\n",
              "      <td>...</td>\n",
              "    </tr>\n",
              "    <tr>\n",
              "      <th>49995</th>\n",
              "      <td>This movie is among my favorite foreign films,...</td>\n",
              "      <td>positive</td>\n",
              "    </tr>\n",
              "    <tr>\n",
              "      <th>49996</th>\n",
              "      <td>Well, if you set aside the fact that this movi...</td>\n",
              "      <td>negative</td>\n",
              "    </tr>\n",
              "    <tr>\n",
              "      <th>49997</th>\n",
              "      <td>This little cheapy is notable only because it ...</td>\n",
              "      <td>negative</td>\n",
              "    </tr>\n",
              "    <tr>\n",
              "      <th>49998</th>\n",
              "      <td>Fascinating I approached I Am Curious (Yellow)...</td>\n",
              "      <td>positive</td>\n",
              "    </tr>\n",
              "    <tr>\n",
              "      <th>49999</th>\n",
              "      <td>Around the late 1970's, animator Don Bluth, fr...</td>\n",
              "      <td>negative</td>\n",
              "    </tr>\n",
              "  </tbody>\n",
              "</table>\n",
              "<p>50000 rows × 2 columns</p>\n",
              "</div>\n",
              "    <div class=\"colab-df-buttons\">\n",
              "\n",
              "  <div class=\"colab-df-container\">\n",
              "    <button class=\"colab-df-convert\" onclick=\"convertToInteractive('df-2e5ae282-9161-43c5-be72-5fe1d52d763b')\"\n",
              "            title=\"Convert this dataframe to an interactive table.\"\n",
              "            style=\"display:none;\">\n",
              "\n",
              "  <svg xmlns=\"http://www.w3.org/2000/svg\" height=\"24px\" viewBox=\"0 -960 960 960\">\n",
              "    <path d=\"M120-120v-720h720v720H120Zm60-500h600v-160H180v160Zm220 220h160v-160H400v160Zm0 220h160v-160H400v160ZM180-400h160v-160H180v160Zm440 0h160v-160H620v160ZM180-180h160v-160H180v160Zm440 0h160v-160H620v160Z\"/>\n",
              "  </svg>\n",
              "    </button>\n",
              "\n",
              "  <style>\n",
              "    .colab-df-container {\n",
              "      display:flex;\n",
              "      gap: 12px;\n",
              "    }\n",
              "\n",
              "    .colab-df-convert {\n",
              "      background-color: #E8F0FE;\n",
              "      border: none;\n",
              "      border-radius: 50%;\n",
              "      cursor: pointer;\n",
              "      display: none;\n",
              "      fill: #1967D2;\n",
              "      height: 32px;\n",
              "      padding: 0 0 0 0;\n",
              "      width: 32px;\n",
              "    }\n",
              "\n",
              "    .colab-df-convert:hover {\n",
              "      background-color: #E2EBFA;\n",
              "      box-shadow: 0px 1px 2px rgba(60, 64, 67, 0.3), 0px 1px 3px 1px rgba(60, 64, 67, 0.15);\n",
              "      fill: #174EA6;\n",
              "    }\n",
              "\n",
              "    .colab-df-buttons div {\n",
              "      margin-bottom: 4px;\n",
              "    }\n",
              "\n",
              "    [theme=dark] .colab-df-convert {\n",
              "      background-color: #3B4455;\n",
              "      fill: #D2E3FC;\n",
              "    }\n",
              "\n",
              "    [theme=dark] .colab-df-convert:hover {\n",
              "      background-color: #434B5C;\n",
              "      box-shadow: 0px 1px 3px 1px rgba(0, 0, 0, 0.15);\n",
              "      filter: drop-shadow(0px 1px 2px rgba(0, 0, 0, 0.3));\n",
              "      fill: #FFFFFF;\n",
              "    }\n",
              "  </style>\n",
              "\n",
              "    <script>\n",
              "      const buttonEl =\n",
              "        document.querySelector('#df-2e5ae282-9161-43c5-be72-5fe1d52d763b button.colab-df-convert');\n",
              "      buttonEl.style.display =\n",
              "        google.colab.kernel.accessAllowed ? 'block' : 'none';\n",
              "\n",
              "      async function convertToInteractive(key) {\n",
              "        const element = document.querySelector('#df-2e5ae282-9161-43c5-be72-5fe1d52d763b');\n",
              "        const dataTable =\n",
              "          await google.colab.kernel.invokeFunction('convertToInteractive',\n",
              "                                                    [key], {});\n",
              "        if (!dataTable) return;\n",
              "\n",
              "        const docLinkHtml = 'Like what you see? Visit the ' +\n",
              "          '<a target=\"_blank\" href=https://colab.research.google.com/notebooks/data_table.ipynb>data table notebook</a>'\n",
              "          + ' to learn more about interactive tables.';\n",
              "        element.innerHTML = '';\n",
              "        dataTable['output_type'] = 'display_data';\n",
              "        await google.colab.output.renderOutput(dataTable, element);\n",
              "        const docLink = document.createElement('div');\n",
              "        docLink.innerHTML = docLinkHtml;\n",
              "        element.appendChild(docLink);\n",
              "      }\n",
              "    </script>\n",
              "  </div>\n",
              "\n",
              "\n",
              "    <div id=\"df-14e0a806-e49b-4d6e-b443-980370af6aae\">\n",
              "      <button class=\"colab-df-quickchart\" onclick=\"quickchart('df-14e0a806-e49b-4d6e-b443-980370af6aae')\"\n",
              "                title=\"Suggest charts\"\n",
              "                style=\"display:none;\">\n",
              "\n",
              "<svg xmlns=\"http://www.w3.org/2000/svg\" height=\"24px\"viewBox=\"0 0 24 24\"\n",
              "     width=\"24px\">\n",
              "    <g>\n",
              "        <path d=\"M19 3H5c-1.1 0-2 .9-2 2v14c0 1.1.9 2 2 2h14c1.1 0 2-.9 2-2V5c0-1.1-.9-2-2-2zM9 17H7v-7h2v7zm4 0h-2V7h2v10zm4 0h-2v-4h2v4z\"/>\n",
              "    </g>\n",
              "</svg>\n",
              "      </button>\n",
              "\n",
              "<style>\n",
              "  .colab-df-quickchart {\n",
              "      --bg-color: #E8F0FE;\n",
              "      --fill-color: #1967D2;\n",
              "      --hover-bg-color: #E2EBFA;\n",
              "      --hover-fill-color: #174EA6;\n",
              "      --disabled-fill-color: #AAA;\n",
              "      --disabled-bg-color: #DDD;\n",
              "  }\n",
              "\n",
              "  [theme=dark] .colab-df-quickchart {\n",
              "      --bg-color: #3B4455;\n",
              "      --fill-color: #D2E3FC;\n",
              "      --hover-bg-color: #434B5C;\n",
              "      --hover-fill-color: #FFFFFF;\n",
              "      --disabled-bg-color: #3B4455;\n",
              "      --disabled-fill-color: #666;\n",
              "  }\n",
              "\n",
              "  .colab-df-quickchart {\n",
              "    background-color: var(--bg-color);\n",
              "    border: none;\n",
              "    border-radius: 50%;\n",
              "    cursor: pointer;\n",
              "    display: none;\n",
              "    fill: var(--fill-color);\n",
              "    height: 32px;\n",
              "    padding: 0;\n",
              "    width: 32px;\n",
              "  }\n",
              "\n",
              "  .colab-df-quickchart:hover {\n",
              "    background-color: var(--hover-bg-color);\n",
              "    box-shadow: 0 1px 2px rgba(60, 64, 67, 0.3), 0 1px 3px 1px rgba(60, 64, 67, 0.15);\n",
              "    fill: var(--button-hover-fill-color);\n",
              "  }\n",
              "\n",
              "  .colab-df-quickchart-complete:disabled,\n",
              "  .colab-df-quickchart-complete:disabled:hover {\n",
              "    background-color: var(--disabled-bg-color);\n",
              "    fill: var(--disabled-fill-color);\n",
              "    box-shadow: none;\n",
              "  }\n",
              "\n",
              "  .colab-df-spinner {\n",
              "    border: 2px solid var(--fill-color);\n",
              "    border-color: transparent;\n",
              "    border-bottom-color: var(--fill-color);\n",
              "    animation:\n",
              "      spin 1s steps(1) infinite;\n",
              "  }\n",
              "\n",
              "  @keyframes spin {\n",
              "    0% {\n",
              "      border-color: transparent;\n",
              "      border-bottom-color: var(--fill-color);\n",
              "      border-left-color: var(--fill-color);\n",
              "    }\n",
              "    20% {\n",
              "      border-color: transparent;\n",
              "      border-left-color: var(--fill-color);\n",
              "      border-top-color: var(--fill-color);\n",
              "    }\n",
              "    30% {\n",
              "      border-color: transparent;\n",
              "      border-left-color: var(--fill-color);\n",
              "      border-top-color: var(--fill-color);\n",
              "      border-right-color: var(--fill-color);\n",
              "    }\n",
              "    40% {\n",
              "      border-color: transparent;\n",
              "      border-right-color: var(--fill-color);\n",
              "      border-top-color: var(--fill-color);\n",
              "    }\n",
              "    60% {\n",
              "      border-color: transparent;\n",
              "      border-right-color: var(--fill-color);\n",
              "    }\n",
              "    80% {\n",
              "      border-color: transparent;\n",
              "      border-right-color: var(--fill-color);\n",
              "      border-bottom-color: var(--fill-color);\n",
              "    }\n",
              "    90% {\n",
              "      border-color: transparent;\n",
              "      border-bottom-color: var(--fill-color);\n",
              "    }\n",
              "  }\n",
              "</style>\n",
              "\n",
              "      <script>\n",
              "        async function quickchart(key) {\n",
              "          const quickchartButtonEl =\n",
              "            document.querySelector('#' + key + ' button');\n",
              "          quickchartButtonEl.disabled = true;  // To prevent multiple clicks.\n",
              "          quickchartButtonEl.classList.add('colab-df-spinner');\n",
              "          try {\n",
              "            const charts = await google.colab.kernel.invokeFunction(\n",
              "                'suggestCharts', [key], {});\n",
              "          } catch (error) {\n",
              "            console.error('Error during call to suggestCharts:', error);\n",
              "          }\n",
              "          quickchartButtonEl.classList.remove('colab-df-spinner');\n",
              "          quickchartButtonEl.classList.add('colab-df-quickchart-complete');\n",
              "        }\n",
              "        (() => {\n",
              "          let quickchartButtonEl =\n",
              "            document.querySelector('#df-14e0a806-e49b-4d6e-b443-980370af6aae button');\n",
              "          quickchartButtonEl.style.display =\n",
              "            google.colab.kernel.accessAllowed ? 'block' : 'none';\n",
              "        })();\n",
              "      </script>\n",
              "    </div>\n",
              "\n",
              "  <div id=\"id_9bce3882-0680-4636-97bc-7e8dfc4589eb\">\n",
              "    <style>\n",
              "      .colab-df-generate {\n",
              "        background-color: #E8F0FE;\n",
              "        border: none;\n",
              "        border-radius: 50%;\n",
              "        cursor: pointer;\n",
              "        display: none;\n",
              "        fill: #1967D2;\n",
              "        height: 32px;\n",
              "        padding: 0 0 0 0;\n",
              "        width: 32px;\n",
              "      }\n",
              "\n",
              "      .colab-df-generate:hover {\n",
              "        background-color: #E2EBFA;\n",
              "        box-shadow: 0px 1px 2px rgba(60, 64, 67, 0.3), 0px 1px 3px 1px rgba(60, 64, 67, 0.15);\n",
              "        fill: #174EA6;\n",
              "      }\n",
              "\n",
              "      [theme=dark] .colab-df-generate {\n",
              "        background-color: #3B4455;\n",
              "        fill: #D2E3FC;\n",
              "      }\n",
              "\n",
              "      [theme=dark] .colab-df-generate:hover {\n",
              "        background-color: #434B5C;\n",
              "        box-shadow: 0px 1px 3px 1px rgba(0, 0, 0, 0.15);\n",
              "        filter: drop-shadow(0px 1px 2px rgba(0, 0, 0, 0.3));\n",
              "        fill: #FFFFFF;\n",
              "      }\n",
              "    </style>\n",
              "    <button class=\"colab-df-generate\" onclick=\"generateWithVariable('df')\"\n",
              "            title=\"Generate code using this dataframe.\"\n",
              "            style=\"display:none;\">\n",
              "\n",
              "  <svg xmlns=\"http://www.w3.org/2000/svg\" height=\"24px\"viewBox=\"0 0 24 24\"\n",
              "       width=\"24px\">\n",
              "    <path d=\"M7,19H8.4L18.45,9,17,7.55,7,17.6ZM5,21V16.75L18.45,3.32a2,2,0,0,1,2.83,0l1.4,1.43a1.91,1.91,0,0,1,.58,1.4,1.91,1.91,0,0,1-.58,1.4L9.25,21ZM18.45,9,17,7.55Zm-12,3A5.31,5.31,0,0,0,4.9,8.1,5.31,5.31,0,0,0,1,6.5,5.31,5.31,0,0,0,4.9,4.9,5.31,5.31,0,0,0,6.5,1,5.31,5.31,0,0,0,8.1,4.9,5.31,5.31,0,0,0,12,6.5,5.46,5.46,0,0,0,6.5,12Z\"/>\n",
              "  </svg>\n",
              "    </button>\n",
              "    <script>\n",
              "      (() => {\n",
              "      const buttonEl =\n",
              "        document.querySelector('#id_9bce3882-0680-4636-97bc-7e8dfc4589eb button.colab-df-generate');\n",
              "      buttonEl.style.display =\n",
              "        google.colab.kernel.accessAllowed ? 'block' : 'none';\n",
              "\n",
              "      buttonEl.onclick = () => {\n",
              "        google.colab.notebook.generateWithVariable('df');\n",
              "      }\n",
              "      })();\n",
              "    </script>\n",
              "  </div>\n",
              "\n",
              "    </div>\n",
              "  </div>\n"
            ],
            "application/vnd.google.colaboratory.intrinsic+json": {
              "type": "dataframe",
              "variable_name": "df",
              "summary": "{\n  \"name\": \"df\",\n  \"rows\": 50000,\n  \"fields\": [\n    {\n      \"column\": \"text\",\n      \"properties\": {\n        \"dtype\": \"string\",\n        \"num_unique_values\": 49582,\n        \"samples\": [\n          \"Lost holds something interesting for everyone. You can say an awfully lot about this series, and an awfully lot has been said, so I won't be the one to spell it all out for you again. Just read the persons who loved it, and you'll know why you want to watch it. The nice thing about this series is that its totally new. There are not much movies -and even fewer- series based on the theme of only suspense, but Lost lives up to the theme with pride. Its all about the unexplained and if you combine that with an exotic location, nice plot twists, an excellent cast and a good format (present and past combined in single episodes) you'll have a series in which every episode is a story on its own but part of a greater telling. You want to have all the insights of the characters, you want to see the overall picture and you'll want to know where the writers are taking you. The result of that is that its a series which does not let you go. On a more sceptic note, the series went under a bit in season 2, probably due to its own success. It is well known that Lost was only written for one season originally and when the overwhelming success followed, the writers were overwhelmed too. In my opinion they made the mistake to add even more mysteries and in a higher pace in season 2, then to solve the ones (or partially at least) the ones of season 1. At the end of season 2 you ended with a big blurr of secrets, plot twists and unexplained phenomena, but there is only so much a viewer can take. The difference between season 2 and 3 however was huge. Season 3 handed out a lot of insights, to partially replace them with new questions. And that's exactly how they should write; you want to thumble from one plot twist to the next, not get a tsunami of secrets spread all over you and then pick up a few to explain to the viewers. They got that in season 3 and brings us a promising series future for season 4. Its good to see that such a different format of a series, can be so hugely popular.\",\n          \"If Mulder was looking for his real father here he is Darren McGavin, the first X Files, pity it was only one season long the producers of this show didn't know that they had the makings of a classic on their hands and in 1993 along came Chris Carter with what i call the follow up to the Night Stalker, The X Files. Both will go down as classics is my opinion the two shows taking the viewers to a level of experience that only comes along once in a while and who should appear in the X Files years later Darren McGavin, as Agent Arthur Dales helping our two favorite hero,s solving cases. Paying homage to the man i think so, well done Chris Carter bringing back a forgotten TV show in the form of David Duchovny as Darren McGavin if it wasn't for watching The X files and that particular show i would have never known about the Night Stalker.\",\n          \"Whattt was with the sound? It sounded like it was all dubbed.<br /><br />Otherwise, bad. Plot = bad. Accents = bad (even Dougray, and we live in Scotland), Acting = bad, Harp = bad, Sex scenes - bad/cringeworthy.<br /><br />Still, we watched it until the end in disbelief. How could such a good roll call of actors perform so badly? Will they ever get a decent job again? <br /><br />Bad, Bad, Bad. By the way, we gave it 3 because we at least were enticed to watch it to the end due to its bizarre plot, etc.<br /><br />And to the older reviewer - I totally agree, it was like a romantic farce from the 1940s. How did it get made in 2004?<br /><br />OK, OK, there were some OK bits. They had a nice house in Bristol. Dougray had a nice boat. Jennifer looked nice in a little outfit. But how come the sister got all the men?\"\n        ],\n        \"semantic_type\": \"\",\n        \"description\": \"\"\n      }\n    },\n    {\n      \"column\": \"sentiment\",\n      \"properties\": {\n        \"dtype\": \"category\",\n        \"num_unique_values\": 2,\n        \"samples\": [\n          \"negative\",\n          \"positive\"\n        ],\n        \"semantic_type\": \"\",\n        \"description\": \"\"\n      }\n    }\n  ]\n}"
            }
          },
          "metadata": {},
          "execution_count": 29
        }
      ]
    },
    {
      "cell_type": "markdown",
      "source": [
        "## Data preprocessing"
      ],
      "metadata": {
        "id": "NtPZ0wrj1Wj7"
      }
    },
    {
      "cell_type": "code",
      "source": [
        "# First, split into training and temp (which will be further split into dev and test)\n",
        "train_data, test_data = train_test_split(df, test_size=0.3, random_state=42, stratify=df['sentiment'])\n",
        "\n",
        "# Print the sizes to verify the split\n",
        "print(f\"Training set size: {len(train_data)}\")\n",
        "print(f\"Test set size: {len(test_data)}\")"
      ],
      "metadata": {
        "colab": {
          "base_uri": "https://localhost:8080/"
        },
        "id": "IkiRDbqtQtQe",
        "outputId": "ecf404b8-7ce2-489e-8ad3-a5121ab49fc6"
      },
      "execution_count": 30,
      "outputs": [
        {
          "output_type": "stream",
          "name": "stdout",
          "text": [
            "Training set size: 35000\n",
            "Test set size: 15000\n"
          ]
        }
      ]
    },
    {
      "cell_type": "code",
      "source": [
        "def tokenize(data):\n",
        "  stop_words = stopwords.words('english')\n",
        "  stop_words.extend(string.punctuation)\n",
        "  stop_words.extend([\"the\", \"of\", \"and\", \"as\", \"a\", \"to\", \"in\", \"on\", \"for\"])\n",
        "  tokenized_samples = []\n",
        "  for sample in data:\n",
        "    tokens = []\n",
        "    # Split text into sentences\n",
        "    sentences = sent_tokenize(sample)\n",
        "    for sent in sentences:\n",
        "        # Tokenize each sentence into words\n",
        "        words = word_tokenize(sent)\n",
        "        for word in words:\n",
        "            # Filter out stopwords and unwanted tokens\n",
        "            if '\\n' in word or \"\\t\" in word or \"--\" in word or \"*\" in word or \"@\" in word or \"#\" in word or word.lower() in stop_words:\n",
        "                continue\n",
        "            if word.strip():\n",
        "                # Process the token and add to list\n",
        "                tokens.append(word.replace('\"', \"'\").strip().lower())\n",
        "    tokenized_samples.append(tokens)\n",
        "\n",
        "  return tokenized_samples"
      ],
      "metadata": {
        "id": "dpguSpf3Q6FG"
      },
      "execution_count": 31,
      "outputs": []
    },
    {
      "cell_type": "code",
      "source": [
        "def preprocess_data(train_data, test_data,\n",
        "                   representation='bow',\n",
        "                   features_number=2000,\n",
        "                   reduce_features=False,\n",
        "                   reduced_features_number=None):\n",
        "\n",
        "    X_train, X_val, y_train, y_val = train_test_split(\n",
        "        train_data['text'], train_data['sentiment'],\n",
        "        test_size=0.3, random_state=42)\n",
        "    X_test, y_test = test_data['text'], test_data['sentiment']\n",
        "\n",
        "    # Create a mapping of labels to indices\n",
        "    unique_labels = pd.concat([y_train, y_val, y_test]).unique()\n",
        "    label_to_idx = {label: idx for idx, label in enumerate(unique_labels)}\n",
        "\n",
        "    # Convert labels using the mapping\n",
        "    y_train = np.array([label_to_idx[label] for label in y_train], dtype=np.int64)\n",
        "    y_val = np.array([label_to_idx[label] for label in y_val], dtype=np.int64)\n",
        "    y_test = np.array([label_to_idx[label] for label in y_test], dtype=np.int64)\n",
        "\n",
        "    X_train_tokenized = tokenize(X_train)\n",
        "    X_val_tokenized = tokenize(X_val)\n",
        "    X_test_tokenized = tokenize(X_test)\n",
        "\n",
        "    feature_names = None  # Initialize feature_names\n",
        "\n",
        "    if representation == \"tfidf\":\n",
        "        vectorizer = TfidfVectorizer(max_features=features_number,\n",
        "                                    sublinear_tf=True)\n",
        "        X_train = vectorizer.fit_transform(\n",
        "            [\" \".join(x) for x in X_train_tokenized]\n",
        "        ).toarray()\n",
        "        X_val = vectorizer.transform(\n",
        "            [\" \".join(x) for x in X_val_tokenized]\n",
        "        ).toarray()\n",
        "        X_test = vectorizer.transform(\n",
        "            [\" \".join(x) for x in X_test_tokenized]\n",
        "        ).toarray()\n",
        "\n",
        "        # Get feature names from vectorizer\n",
        "        feature_names = vectorizer.get_feature_names_out()\n",
        "\n",
        "        if reduce_features:\n",
        "            assert reduced_features_number is not None\n",
        "            svd = TruncatedSVD(n_components=reduced_features_number,\n",
        "                              random_state=42)\n",
        "            X_train = svd.fit_transform(X_train)\n",
        "            X_val = svd.transform(X_val)\n",
        "            X_test = svd.transform(X_test)\n",
        "            # Note: feature names become less meaningful after SVD\n",
        "            feature_names = [f\"component_{i}\" for i in range(reduced_features_number)]\n",
        "\n",
        "    elif representation == \"embeddings\":\n",
        "        word_vectors = api.load(\"word2vec-google-news-300\")\n",
        "        X_train, X_val, X_test = [], [], []\n",
        "\n",
        "        for doc in X_train_tokenized:\n",
        "            embeddings = [word_vectors[word]\n",
        "                         for word in doc if word in word_vectors]\n",
        "            if embeddings:\n",
        "                centroid = np.mean(embeddings, axis=0)\n",
        "            else:\n",
        "                centroid = np.zeros(word_vectors.vector_size)\n",
        "            X_train.append(centroid)\n",
        "        X_train = np.array(X_train, dtype=np.float32)  # Explicitly set dtype\n",
        "\n",
        "        for doc in X_val_tokenized:\n",
        "            embeddings = [word_vectors[word]\n",
        "                         for word in doc if word in word_vectors]\n",
        "            if embeddings:\n",
        "                centroid = np.mean(embeddings, axis=0)\n",
        "            else:\n",
        "                centroid = np.zeros(word_vectors.vector_size)\n",
        "            X_val.append(centroid)\n",
        "        X_val = np.array(X_val, dtype=np.float32)  # Explicitly set dtype\n",
        "\n",
        "        for doc in X_test_tokenized:\n",
        "            embeddings = [word_vectors[word]\n",
        "                         for word in doc if word in word_vectors]\n",
        "            if embeddings:\n",
        "                centroid = np.mean(embeddings, axis=0)\n",
        "            else:\n",
        "                centroid = np.zeros(word_vectors.vector_size)\n",
        "            X_test.append(centroid)\n",
        "        X_test = np.array(X_test, dtype=np.float32)  # Explicitly set dtype\n",
        "\n",
        "        # For embeddings, features are dimensions in embedding space\n",
        "        feature_names = [f\"dim_{i}\" for i in range(word_vectors.vector_size)]\n",
        "\n",
        "        if reduce_features:\n",
        "            assert reduced_features_number is not None\n",
        "            svd = TruncatedSVD(n_components=reduced_features_number,\n",
        "                              random_state=42)\n",
        "            X_train = svd.fit_transform(X_train)\n",
        "            X_val = svd.transform(X_val)\n",
        "            X_test = svd.transform(X_test)\n",
        "            # Update feature names for reduced dimensions\n",
        "            feature_names = [f\"component_{i}\" for i in range(reduced_features_number)]\n",
        "\n",
        "    else:  # \"bow\" case\n",
        "        vectorizer = CountVectorizer(max_features=features_number)\n",
        "        X_train = vectorizer.fit_transform(\n",
        "            [\" \".join(x) for x in X_train_tokenized]\n",
        "        ).toarray()\n",
        "        X_val = vectorizer.transform(\n",
        "            [\" \".join(x) for x in X_val_tokenized]\n",
        "        ).toarray()\n",
        "        X_test = vectorizer.transform(\n",
        "            [\" \".join(x) for x in X_test_tokenized]\n",
        "        ).toarray()\n",
        "\n",
        "        # Get feature names from vectorizer\n",
        "        feature_names = vectorizer.get_feature_names_out()\n",
        "\n",
        "        if reduce_features:\n",
        "            assert reduced_features_number is not None\n",
        "            svd = TruncatedSVD(n_components=reduced_features_number,\n",
        "                              random_state=42)\n",
        "            X_train = svd.fit_transform(X_train)\n",
        "            X_val = svd.transform(X_val)\n",
        "            X_test = svd.transform(X_test)\n",
        "            # Update feature names for reduced dimensions\n",
        "            feature_names = [f\"component_{i}\" for i in range(reduced_features_number)]\n",
        "\n",
        "    # Return data splits, feature names, and label mapping\n",
        "    return (X_train, y_train), (X_val, y_val), (X_test, y_test), feature_names, label_to_idx"
      ],
      "metadata": {
        "id": "_QcnHw7nRZ6U"
      },
      "execution_count": 64,
      "outputs": []
    },
    {
      "cell_type": "markdown",
      "source": [
        "## Baseline MLP model"
      ],
      "metadata": {
        "id": "XOfzkkxU1bwc"
      }
    },
    {
      "cell_type": "code",
      "source": [
        "class BaselineSentimentClassifier:\n",
        "    def __init__(self):\n",
        "        self.word_to_sentiment = {}\n",
        "        self.most_common_sentiment = None\n",
        "        self.feature_names = None\n",
        "\n",
        "    def train(self, X_train, y_train, feature_names=None):\n",
        "        \"\"\"\n",
        "        Train the baseline model\n",
        "        X_train: sparse matrix or array of shape (n_samples, n_features)\n",
        "        y_train: array of shape (n_samples)\n",
        "        feature_names: list of feature names (words/tokens)\n",
        "        \"\"\"\n",
        "        self.feature_names = feature_names\n",
        "\n",
        "        # Get most common sentiment label overall (fallback)\n",
        "        sentiment_counts = Counter(y_train)\n",
        "        self.most_common_sentiment = sentiment_counts.most_common(1)[0][0]\n",
        "\n",
        "        # For each feature (word), find most frequently associated sentiment\n",
        "        if self.feature_names is not None:\n",
        "            for i, feature in enumerate(self.feature_names):\n",
        "                # Get feature column\n",
        "                feature_col = X_train[:, i].toarray().flatten() if hasattr(X_train, 'toarray') else X_train[:, i]\n",
        "\n",
        "                # Count sentiment occurrences when feature is present\n",
        "                sentiment_counts = defaultdict(int)\n",
        "                for sample_idx, value in enumerate(feature_col):\n",
        "                    if value > 0:  # Feature is present in this sample\n",
        "                        sentiment_counts[y_train[sample_idx]] += 1\n",
        "\n",
        "                # Assign most common sentiment for this feature\n",
        "                if sentiment_counts:\n",
        "                    self.word_to_sentiment[feature] = max(sentiment_counts.items(), key=lambda x: x[1])[0]\n",
        "\n",
        "    def predict(self, X_test):\n",
        "        \"\"\"\n",
        "        Predict sentiment based on most common sentiment per feature\n",
        "        X_test: sparse matrix or array of shape (n_samples, n_features)\n",
        "        \"\"\"\n",
        "        predictions = []\n",
        "\n",
        "        # If we don't have feature names, just predict most common sentiment\n",
        "        if self.feature_names is None:\n",
        "            return np.full(X_test.shape[0], self.most_common_sentiment)\n",
        "\n",
        "        for i in range(X_test.shape[0]):\n",
        "            # Get sample features\n",
        "            sample = X_test[i].toarray().flatten() if hasattr(X_test, 'toarray') else X_test[i]\n",
        "\n",
        "            # Get sentiments for present features\n",
        "            sample_sentiments = []\n",
        "            for feature_idx, value in enumerate(sample):\n",
        "                if value > 0 and self.feature_names[feature_idx] in self.word_to_sentiment:\n",
        "                    sample_sentiments.append(self.word_to_sentiment[self.feature_names[feature_idx]])\n",
        "\n",
        "            # Predict most common sentiment from present features, or fallback\n",
        "            if sample_sentiments:\n",
        "                predictions.append(Counter(sample_sentiments).most_common(1)[0][0])\n",
        "            else:\n",
        "                predictions.append(self.most_common_sentiment)\n",
        "\n",
        "        return np.array(predictions)\n",
        "\n",
        "    def predict_proba(self, X_test):\n",
        "        \"\"\"\n",
        "        Create pseudo-probabilities for compatibility with evaluation metrics\n",
        "        X_test: sparse matrix or array of shape (n_samples, n_features)\n",
        "        \"\"\"\n",
        "        predictions = self.predict(X_test)\n",
        "        n_classes = len(np.unique(predictions))\n",
        "\n",
        "        # Create one-hot encoded pseudo-probabilities\n",
        "        probs = np.zeros((X_test.shape[0], n_classes))\n",
        "        for i, pred in enumerate(predictions):\n",
        "            probs[i, pred] = 1.0\n",
        "\n",
        "        return probs"
      ],
      "metadata": {
        "id": "qrnImj3K1d86"
      },
      "execution_count": 61,
      "outputs": []
    },
    {
      "cell_type": "code",
      "source": [
        "def evaluate_baseline(baseline_model, X_train, y_train, X_val, y_val, X_test, y_test):\n",
        "    \"\"\"Evaluate baseline model on all data splits\"\"\"\n",
        "    # Make predictions\n",
        "    train_preds = baseline_model.predict(X_train)\n",
        "    val_preds = baseline_model.predict(X_val)\n",
        "    test_preds = baseline_model.predict(X_test)\n",
        "\n",
        "    # Get \"probabilities\" (for consistency with other models)\n",
        "    train_probs = baseline_model.predict_proba(X_train)\n",
        "    val_probs = baseline_model.predict_proba(X_val)\n",
        "    test_probs = baseline_model.predict_proba(X_test)\n",
        "\n",
        "    # Calculate metrics\n",
        "    train_metrics = calculate_metrics(y_train, train_preds, train_probs)\n",
        "    val_metrics = calculate_metrics(y_val, val_preds, val_probs)\n",
        "    test_metrics = calculate_metrics(y_test, test_preds, test_probs)\n",
        "\n",
        "    return {\n",
        "        'train': train_metrics,\n",
        "        'val': val_metrics,\n",
        "        'test': test_metrics\n",
        "    }\n",
        "\n",
        "def calculate_metrics(y_true, y_pred, y_prob):\n",
        "    \"\"\"Calculate consistent metrics for all models\"\"\"\n",
        "    n_classes = y_prob.shape[1]\n",
        "\n",
        "    # Overall accuracy\n",
        "    accuracy = accuracy_score(y_true, y_pred)\n",
        "\n",
        "    # Per-class metrics\n",
        "    class_metrics = {}\n",
        "    pr_auc_scores = []\n",
        "\n",
        "    for i in range(n_classes):\n",
        "        # Convert to binary classification problem (one-vs-rest)\n",
        "        y_true_binary = (y_true == i).astype(int)\n",
        "        y_pred_binary = (y_pred == i).astype(int)\n",
        "        y_prob_class = y_prob[:, i]\n",
        "\n",
        "        # Calculate precision, recall, F1\n",
        "        precision = precision_score(y_true_binary, y_pred_binary, zero_division=0)\n",
        "        recall = recall_score(y_true_binary, y_pred_binary, zero_division=0)\n",
        "        f1 = f1_score(y_true_binary, y_pred_binary, zero_division=0)\n",
        "\n",
        "        # Calculate precision-recall curve and AUC\n",
        "        precision_curve, recall_curve, _ = precision_recall_curve(y_true_binary, y_prob_class)\n",
        "        pr_auc = auc(recall_curve, precision_curve)\n",
        "        pr_auc_scores.append(pr_auc)\n",
        "\n",
        "        # Store metrics\n",
        "        class_metrics[i] = {\n",
        "            'precision': precision,\n",
        "            'recall': recall,\n",
        "            'f1': f1,\n",
        "            'pr_auc': pr_auc\n",
        "        }\n",
        "\n",
        "    # Macro-averaged metrics\n",
        "    macro_precision = precision_score(y_true, y_pred, average='macro', zero_division=0)\n",
        "    macro_recall = recall_score(y_true, y_pred, average='macro', zero_division=0)\n",
        "    macro_f1 = f1_score(y_true, y_pred, average='macro', zero_division=0)\n",
        "    macro_pr_auc = np.mean(pr_auc_scores)\n",
        "\n",
        "    return {\n",
        "        'accuracy': accuracy,\n",
        "        'class_metrics': class_metrics,\n",
        "        'macro_precision': macro_precision,\n",
        "        'macro_recall': macro_recall,\n",
        "        'macro_f1': macro_f1,\n",
        "        'macro_pr_auc': macro_pr_auc\n",
        "    }"
      ],
      "metadata": {
        "id": "_h5PjSgE1yI4"
      },
      "execution_count": 62,
      "outputs": []
    },
    {
      "cell_type": "markdown",
      "source": [
        "## Sentiment MLP model"
      ],
      "metadata": {
        "id": "5_AGOJmJ1q8M"
      }
    },
    {
      "cell_type": "code",
      "source": [
        "class SentimentMLP(nn.Module):\n",
        "    def __init__(self, input_dim, hidden_layers, dropout=0.5, batch_norm=False,\n",
        "                 layer_norm=False, classes_number=2):\n",
        "        super(SentimentMLP, self).__init__()\n",
        "\n",
        "        # Create a list to hold all layers\n",
        "        layers = []\n",
        "\n",
        "        # Input layer\n",
        "        prev_dim = input_dim\n",
        "\n",
        "        # Add hidden layers\n",
        "        for hidden_dim in hidden_layers:\n",
        "            # Linear layer\n",
        "            layers.append(nn.Linear(prev_dim, hidden_dim))\n",
        "\n",
        "            # Batch normalization (optional)\n",
        "            if batch_norm:\n",
        "                layers.append(nn.BatchNorm1d(hidden_dim))\n",
        "\n",
        "            # Layer normalization (optional)\n",
        "            if layer_norm:\n",
        "                layers.append(nn.LayerNorm(hidden_dim))\n",
        "\n",
        "            # Activation function\n",
        "            layers.append(nn.ReLU())\n",
        "\n",
        "            # Dropout for regularization\n",
        "            if dropout > 0:\n",
        "                layers.append(nn.Dropout(dropout))\n",
        "\n",
        "            prev_dim = hidden_dim\n",
        "\n",
        "        # Output layer\n",
        "        layers.append(nn.Linear(prev_dim, classes_number))\n",
        "\n",
        "        # Combine all layers\n",
        "        self.model = nn.Sequential(*layers)\n",
        "\n",
        "    def forward(self, x):\n",
        "        return self.model(x)"
      ],
      "metadata": {
        "id": "WWY9hesRbpf8"
      },
      "execution_count": 38,
      "outputs": []
    },
    {
      "cell_type": "code",
      "source": [
        "def train_model(model, train_loader, val_loader, test_loader, criterion, optimizer, epochs=20, device='cuda', patience=5):\n",
        "    \"\"\"\n",
        "    Enhanced training function with early stopping, comprehensive metrics, and plotting\n",
        "    \"\"\"\n",
        "    # Initialize variables for early stopping\n",
        "    best_val_loss = float('inf')\n",
        "    patience_counter = 0\n",
        "    best_model_path = \"best_sentiment_mlp_model.pt\"\n",
        "\n",
        "    # Lists to store metrics for plotting\n",
        "    train_losses = []\n",
        "    val_losses = []\n",
        "\n",
        "    # Training loop\n",
        "    for epoch in range(epochs):\n",
        "        # Training phase\n",
        "        model.train()\n",
        "        train_loss = 0.0\n",
        "        for X_batch, y_batch in tqdm(train_loader, desc=f\"Epoch {epoch+1}/{epochs} (Training)\"):\n",
        "            # Data already moved to device in DataLoader initialization\n",
        "\n",
        "            # Forward pass\n",
        "            y_pred = model(X_batch)\n",
        "            loss = criterion(y_pred, y_batch)\n",
        "\n",
        "            # Backward pass and optimization\n",
        "            optimizer.zero_grad()\n",
        "            loss.backward()\n",
        "            optimizer.step()\n",
        "\n",
        "            train_loss += loss.item() * X_batch.size(0)\n",
        "\n",
        "        # Calculate average training loss\n",
        "        train_loss /= len(train_loader.dataset)\n",
        "        train_losses.append(train_loss)\n",
        "\n",
        "        # Validation phase\n",
        "        model.eval()\n",
        "        val_loss = 0.0\n",
        "        with torch.no_grad():\n",
        "            for X_batch, y_batch in tqdm(val_loader, desc=f\"Epoch {epoch+1}/{epochs} (Validation)\"):\n",
        "                # Data already moved to device in DataLoader initialization\n",
        "\n",
        "                # Forward pass\n",
        "                y_pred = model(X_batch)\n",
        "                loss = criterion(y_pred, y_batch)\n",
        "\n",
        "                val_loss += loss.item() * X_batch.size(0)\n",
        "\n",
        "        # Calculate average validation loss\n",
        "        val_loss /= len(val_loader.dataset)\n",
        "        val_losses.append(val_loss)\n",
        "\n",
        "        # Print epoch results\n",
        "        print(f\"Epoch {epoch+1}/{epochs} - Train Loss: {train_loss:.5f}, Val Loss: {val_loss:.5f}\")\n",
        "\n",
        "        # Early stopping and model saving\n",
        "        if val_loss < best_val_loss:\n",
        "            best_val_loss = val_loss\n",
        "            patience_counter = 0\n",
        "\n",
        "            # Save the best model\n",
        "            torch.save(model.state_dict(), best_model_path)\n",
        "            print(f\"Model improved - saving to {best_model_path}\")\n",
        "        else:\n",
        "            patience_counter += 1\n",
        "            print(f\"Patience: {patience_counter}/{patience}\")\n",
        "\n",
        "            if patience_counter >= patience:\n",
        "                print(f\"Early stopping after {epoch+1} epochs\")\n",
        "                break\n",
        "\n",
        "    # Load the best model\n",
        "    model.load_state_dict(torch.load(best_model_path))\n",
        "\n",
        "    return model, train_losses, val_losses\n",
        "\n",
        "def get_predictions_and_labels(model, data_loader):\n",
        "    \"\"\"Get model predictions, predicted probabilities, and true labels from a data loader\"\"\"\n",
        "    model.eval()\n",
        "    all_preds = []\n",
        "    all_probs = []\n",
        "    all_labels = []\n",
        "\n",
        "    with torch.no_grad():\n",
        "        for X_batch, y_batch in data_loader:\n",
        "            # Forward pass\n",
        "            outputs = model(X_batch)\n",
        "            probs = torch.softmax(outputs, dim=1)\n",
        "            preds = torch.argmax(outputs, dim=1)\n",
        "\n",
        "            # Store results\n",
        "            all_preds.extend(preds.cpu().numpy())\n",
        "            all_probs.extend(probs.cpu().numpy())\n",
        "            all_labels.extend(y_batch.cpu().numpy())\n",
        "\n",
        "    return np.array(all_preds), np.array(all_probs), np.array(all_labels)\n",
        "\n",
        "def compute_class_metrics(y_true, y_pred, y_prob):\n",
        "    \"\"\"Compute per-class and macro-averaged metrics\"\"\"\n",
        "    n_classes = y_prob.shape[1]\n",
        "\n",
        "    # Initialize dictionaries to store metrics\n",
        "    class_metrics = {}\n",
        "    for i in range(n_classes):\n",
        "        class_metrics[i] = {}\n",
        "\n",
        "        # Convert to binary classification problem (one-vs-rest)\n",
        "        y_true_binary = (y_true == i).astype(int)\n",
        "        y_pred_binary = (y_pred == i).astype(int)\n",
        "        y_prob_class = y_prob[:, i]\n",
        "\n",
        "        # Calculate precision, recall, F1\n",
        "        class_metrics[i]['precision'] = precision_score(y_true_binary, y_pred_binary, zero_division=0)\n",
        "        class_metrics[i]['recall'] = recall_score(y_true_binary, y_pred_binary, zero_division=0)\n",
        "        class_metrics[i]['f1'] = f1_score(y_true_binary, y_pred_binary, zero_division=0)\n",
        "\n",
        "        # Calculate precision-recall curve and AUC\n",
        "        precision_curve, recall_curve, _ = precision_recall_curve(y_true_binary, y_prob_class)\n",
        "        class_metrics[i]['pr_auc'] = auc(recall_curve, precision_curve)\n",
        "\n",
        "    # Calculate macro-averaged metrics\n",
        "    macro_metrics = {\n",
        "        'accuracy': accuracy_score(y_true, y_pred),\n",
        "        'macro_precision': np.mean([class_metrics[i]['precision'] for i in range(n_classes)]),\n",
        "        'macro_recall': np.mean([class_metrics[i]['recall'] for i in range(n_classes)]),\n",
        "        'macro_f1': np.mean([class_metrics[i]['f1'] for i in range(n_classes)]),\n",
        "        'macro_pr_auc': np.mean([class_metrics[i]['pr_auc'] for i in range(n_classes)])\n",
        "    }\n",
        "\n",
        "    return class_metrics, macro_metrics\n",
        "\n",
        "def evaluate_model_detailed(model, train_loader, val_loader, test_loader):\n",
        "    \"\"\"Comprehensive evaluation with detailed metrics for all data splits\"\"\"\n",
        "    # Get predictions for all splits\n",
        "    train_preds, train_probs, train_labels = get_predictions_and_labels(model, train_loader)\n",
        "    val_preds, val_probs, val_labels = get_predictions_and_labels(model, val_loader)\n",
        "    test_preds, test_probs, test_labels = get_predictions_and_labels(model, test_loader)\n",
        "\n",
        "    # Compute metrics for all splits\n",
        "    train_class_metrics, train_macro = compute_class_metrics(train_labels, train_preds, train_probs)\n",
        "    val_class_metrics, val_macro = compute_class_metrics(val_labels, val_preds, val_probs)\n",
        "    test_class_metrics, test_macro = compute_class_metrics(test_labels, test_preds, test_probs)\n",
        "\n",
        "    # Get number of classes\n",
        "    n_classes = train_probs.shape[1]\n",
        "\n",
        "    # Print per-class metrics\n",
        "    print(\"\\n=== PER-CLASS METRICS ===\")\n",
        "    print(f\"{'Class':<10}{'Split':<10}{'Precision':<12}{'Recall':<12}{'F1':<12}{'PR-AUC':<12}\")\n",
        "    print(\"-\" * 65)\n",
        "\n",
        "    for i in range(n_classes):\n",
        "        print(f\"{i:<10}{'Train':<10}{train_class_metrics[i]['precision']:.4f}{' '*8}{train_class_metrics[i]['recall']:.4f}{' '*8}{train_class_metrics[i]['f1']:.4f}{' '*8}{train_class_metrics[i]['pr_auc']:.4f}\")\n",
        "        print(f\"{i:<10}{'Dev':<10}{val_class_metrics[i]['precision']:.4f}{' '*8}{val_class_metrics[i]['recall']:.4f}{' '*8}{val_class_metrics[i]['f1']:.4f}{' '*8}{val_class_metrics[i]['pr_auc']:.4f}\")\n",
        "        print(f\"{i:<10}{'Test':<10}{test_class_metrics[i]['precision']:.4f}{' '*8}{test_class_metrics[i]['recall']:.4f}{' '*8}{test_class_metrics[i]['f1']:.4f}{' '*8}{test_class_metrics[i]['pr_auc']:.4f}\")\n",
        "        print(\"-\" * 65)\n",
        "\n",
        "    # Print macro-averaged metrics\n",
        "    print(\"\\n=== MACRO-AVERAGED METRICS ===\")\n",
        "    print(f\"{'Split':<10}{'Accuracy':<12}{'Precision':<12}{'Recall':<12}{'F1':<12}{'PR-AUC':<12}\")\n",
        "    print(\"-\" * 65)\n",
        "    print(f\"{'Train':<10}{train_macro['accuracy']:.4f}{' '*8}{train_macro['macro_precision']:.4f}{' '*8}{train_macro['macro_recall']:.4f}{' '*8}{train_macro['macro_f1']:.4f}{' '*8}{train_macro['macro_pr_auc']:.4f}\")\n",
        "    print(f\"{'Dev':<10}{val_macro['accuracy']:.4f}{' '*8}{val_macro['macro_precision']:.4f}{' '*8}{val_macro['macro_recall']:.4f}{' '*8}{val_macro['macro_f1']:.4f}{' '*8}{val_macro['macro_pr_auc']:.4f}\")\n",
        "    print(f\"{'Test':<10}{test_macro['accuracy']:.4f}{' '*8}{test_macro['macro_precision']:.4f}{' '*8}{test_macro['macro_recall']:.4f}{' '*8}{test_macro['macro_f1']:.4f}{' '*8}{test_macro['macro_pr_auc']:.4f}\")\n",
        "\n",
        "    # Plot precision-recall curves for each class\n",
        "    plot_precision_recall_curves(train_labels, train_probs, val_labels, val_probs, test_labels, test_probs, n_classes)\n",
        "\n",
        "    # Return all metrics for possible further use\n",
        "    return {\n",
        "        'train': {'class': train_class_metrics, 'macro': train_macro},\n",
        "        'val': {'class': val_class_metrics, 'macro': val_macro},\n",
        "        'test': {'class': test_class_metrics, 'macro': test_macro}\n",
        "    }\n",
        "\n",
        "def plot_loss_curves(train_losses, val_losses, title=\"MLP Classifier\"):\n",
        "    \"\"\"Plot training and validation loss curves\"\"\"\n",
        "    plt.figure(figsize=(10, 6))\n",
        "    plt.plot(train_losses, label='Training Loss', linestyle='--')\n",
        "    plt.plot(val_losses, label='Validation Loss')\n",
        "    plt.xlabel('Epochs')\n",
        "    plt.ylabel('Loss')\n",
        "    plt.title(f'{title} - Training and Validation Loss Curves')\n",
        "    plt.legend()\n",
        "    plt.grid(True, linestyle='--', alpha=0.6)\n",
        "    plt.savefig('loss_curves.png')\n",
        "    plt.show()\n",
        "\n",
        "def plot_precision_recall_curves(train_labels, train_probs, val_labels, val_probs, test_labels, test_probs, n_classes):\n",
        "    \"\"\"Plot precision-recall curves for each class and data split\"\"\"\n",
        "    # Set up the plot grid\n",
        "    fig, axes = plt.subplots(n_classes, 3, figsize=(18, 5 * n_classes))\n",
        "    if n_classes == 1:\n",
        "        axes = axes.reshape(1, 3)\n",
        "\n",
        "    splits = ['Train', 'Validation', 'Test']\n",
        "    colors = ['blue', 'green', 'red']\n",
        "\n",
        "    for class_idx in range(n_classes):\n",
        "        for split_idx, (split, labels, probs) in enumerate(zip(\n",
        "            splits,\n",
        "            [train_labels, val_labels, test_labels],\n",
        "            [train_probs, val_probs, test_probs]\n",
        "        )):\n",
        "            # Convert to binary classification for the current class\n",
        "            y_true_binary = (labels == class_idx).astype(int)\n",
        "            y_prob_class = probs[:, class_idx]\n",
        "\n",
        "            # Calculate precision-recall curve\n",
        "            precision, recall, _ = precision_recall_curve(y_true_binary, y_prob_class)\n",
        "            pr_auc = auc(recall, precision)\n",
        "\n",
        "            # Plot the curve\n",
        "            ax = axes[class_idx, split_idx]\n",
        "            ax.plot(recall, precision, color=colors[split_idx], lw=2,\n",
        "                   label=f'PR-AUC: {pr_auc:.4f}')\n",
        "            ax.set_xlabel('Recall')\n",
        "            ax.set_ylabel('Precision')\n",
        "            ax.set_title(f'Class {class_idx} - {split} Precision-Recall Curve')\n",
        "            ax.legend(loc='best')\n",
        "            ax.grid(True, linestyle='--', alpha=0.7)\n",
        "\n",
        "    plt.tight_layout()\n",
        "    plt.savefig('precision_recall_curves.png')\n",
        "    plt.show()"
      ],
      "metadata": {
        "id": "Nl2SpaClhtkc"
      },
      "execution_count": 49,
      "outputs": []
    },
    {
      "cell_type": "code",
      "source": [
        "def hyperparameter_tuning(X_train, y_train, X_val, y_val, device='cuda', verbose=True):\n",
        "    \"\"\"\n",
        "    Simple hyperparameter tuning for the MLP model\n",
        "    Returns the best model and its parameters\n",
        "    \"\"\"\n",
        "    # Define hyperparameter grid to search\n",
        "    param_grid = {\n",
        "        'hidden_layers': [\n",
        "            [64, 32],\n",
        "            [128, 64],\n",
        "            [256, 128],\n",
        "            [128, 64, 32]\n",
        "        ],\n",
        "        'learning_rate': [1e-4, 1e-3, 5e-3],\n",
        "        'batch_size': [32, 64, 128],\n",
        "        'dropout': [0.0, 0.2, 0.5],\n",
        "        'batch_norm': [False, True],\n",
        "    }\n",
        "\n",
        "    # Generate all combinations of hyperparameters\n",
        "    params_list = list(ParameterGrid(param_grid))\n",
        "    if verbose:\n",
        "        print(f\"Testing {len(params_list)} hyperparameter combinations\")\n",
        "\n",
        "    # Track results\n",
        "    results = []\n",
        "    best_val_loss = float('inf')\n",
        "    best_model = None\n",
        "    best_params = None\n",
        "\n",
        "    # Test each combination\n",
        "    for params in tqdm(params_list, desc=\"Hyperparameter Tuning\"):\n",
        "        if verbose:\n",
        "            print(f\"\\nTesting parameters: {params}\")\n",
        "\n",
        "        # Prepare data loaders with current batch size\n",
        "        batch_size = params['batch_size']\n",
        "        train_dataset = TensorDataset(torch.FloatTensor(X_train).to(device), torch.LongTensor(y_train).to(device))\n",
        "        val_dataset = TensorDataset(torch.FloatTensor(X_val).to(device), torch.LongTensor(y_val).to(device))\n",
        "        train_loader = DataLoader(train_dataset, batch_size=batch_size, shuffle=True)\n",
        "        val_loader = DataLoader(val_dataset, batch_size=batch_size)\n",
        "\n",
        "        # Create model with current parameters\n",
        "        input_dim = X_train.shape[1]\n",
        "        model = SentimentMLP(\n",
        "            input_dim,\n",
        "            hidden_layers=params['hidden_layers'],\n",
        "            dropout=params['dropout'],\n",
        "            batch_norm=params['batch_norm'],\n",
        "            layer_norm=False,\n",
        "            classes_number=len(np.unique(y_train))\n",
        "        ).float().to(device)\n",
        "\n",
        "        # Setup training\n",
        "        criterion = nn.CrossEntropyLoss()\n",
        "        optimizer = optim.Adam(model.parameters(), lr=params['learning_rate'])\n",
        "\n",
        "        # Quick training for hyperparameter search (10 epochs)\n",
        "        train_losses = []\n",
        "        val_losses = []\n",
        "        epochs = 10  # Reduced epochs for quick search\n",
        "\n",
        "        for epoch in range(epochs):\n",
        "            # Training phase\n",
        "            model.train()\n",
        "            train_loss = 0.0\n",
        "            for X_batch, y_batch in train_loader:\n",
        "                # Forward pass\n",
        "                y_pred = model(X_batch)\n",
        "                loss = criterion(y_pred, y_batch)\n",
        "\n",
        "                # Backward pass and optimization\n",
        "                optimizer.zero_grad()\n",
        "                loss.backward()\n",
        "                optimizer.step()\n",
        "\n",
        "                train_loss += loss.item() * X_batch.size(0)\n",
        "\n",
        "            # Calculate average training loss\n",
        "            train_loss /= len(train_loader.dataset)\n",
        "            train_losses.append(train_loss)\n",
        "\n",
        "            # Validation phase\n",
        "            model.eval()\n",
        "            val_loss = 0.0\n",
        "            with torch.no_grad():\n",
        "                for X_batch, y_batch in val_loader:\n",
        "                    # Forward pass\n",
        "                    y_pred = model(X_batch)\n",
        "                    loss = criterion(y_pred, y_batch)\n",
        "\n",
        "                    val_loss += loss.item() * X_batch.size(0)\n",
        "\n",
        "            # Calculate average validation loss\n",
        "            val_loss /= len(val_loader.dataset)\n",
        "            val_losses.append(val_loss)\n",
        "\n",
        "            if verbose and epoch % 5 == 0:\n",
        "                print(f\"Epoch {epoch+1}/{epochs} - Train Loss: {train_loss:.5f}, Val Loss: {val_loss:.5f}\")\n",
        "\n",
        "        # Store best model\n",
        "        final_val_loss = val_losses[-1]\n",
        "        results.append((params, final_val_loss))\n",
        "\n",
        "        if final_val_loss < best_val_loss:\n",
        "            best_val_loss = final_val_loss\n",
        "            best_model = copy.deepcopy(model)\n",
        "            best_params = params\n",
        "            if verbose:\n",
        "                print(f\"New best model found! Validation loss: {best_val_loss:.5f}\")\n",
        "\n",
        "    # Sort results by validation loss\n",
        "    results.sort(key=lambda x: x[1])\n",
        "\n",
        "    # Print top 3 configurations\n",
        "    if verbose:\n",
        "        print(\"\\nTop 3 hyperparameter configurations:\")\n",
        "        for i, (params, val_loss) in enumerate(results[:3]):\n",
        "            print(f\"{i+1}. Val Loss: {val_loss:.5f}, Params: {params}\")\n",
        "\n",
        "    return best_model, best_params, results"
      ],
      "metadata": {
        "id": "EiagKkojzT3p"
      },
      "execution_count": 63,
      "outputs": []
    },
    {
      "cell_type": "markdown",
      "source": [
        "## Training of both models"
      ],
      "metadata": {
        "id": "JNGeeF4D1-u2"
      }
    },
    {
      "cell_type": "code",
      "source": [
        "(X_train, y_train), (X_val, y_val), (X_test, y_test), feature_names, label_to_idx = preprocess_data(\n",
        "    train_data, test_data, representation=\"tfidf\"\n",
        ")"
      ],
      "metadata": {
        "id": "xIocc6Fqb0H-"
      },
      "execution_count": 66,
      "outputs": []
    },
    {
      "cell_type": "code",
      "source": [
        "# 1. Train and evaluate baseline model\n",
        "print(\"Training baseline sentiment classifier...\")\n",
        "baseline_model = BaselineSentimentClassifier()\n",
        "baseline_model.train(X_train, y_train, feature_names)\n"
      ],
      "metadata": {
        "id": "pnkDIam-20zh",
        "outputId": "487481e8-5350-4cd9-8ac7-fb102670d8a0",
        "colab": {
          "base_uri": "https://localhost:8080/"
        }
      },
      "execution_count": 69,
      "outputs": [
        {
          "output_type": "stream",
          "name": "stdout",
          "text": [
            "Training baseline sentiment classifier...\n"
          ]
        }
      ]
    },
    {
      "cell_type": "code",
      "source": [
        "baseline_metrics = evaluate_baseline(baseline_model, X_train, y_train, X_val, y_val, X_test, y_test)\n",
        "\n",
        "print(\"\\n=== BASELINE MODEL METRICS ===\")\n",
        "print(f\"Accuracy: {baseline_metrics['test']['accuracy']:.4f}\")\n",
        "print(f\"Macro F1: {baseline_metrics['test']['macro_f1']:.4f}\")\n",
        "print(f\"Macro PR-AUC: {baseline_metrics['test']['macro_pr_auc']:.4f}\")"
      ],
      "metadata": {
        "id": "mUVQoVau22vs",
        "outputId": "201a53d8-08d5-4c93-be56-ddcb148ec5b6",
        "colab": {
          "base_uri": "https://localhost:8080/"
        }
      },
      "execution_count": 70,
      "outputs": [
        {
          "output_type": "stream",
          "name": "stdout",
          "text": [
            "\n",
            "=== BASELINE MODEL METRICS ===\n",
            "Accuracy: 0.7767\n",
            "Macro F1: 0.7767\n",
            "Macro PR-AUC: 0.8325\n"
          ]
        }
      ]
    },
    {
      "cell_type": "code",
      "source": [
        "# Tune hyperparameters\n",
        "best_model, best_params, tuning_results = hyperparameter_tuning(\n",
        "    X_train, y_train, X_val, y_val, device=device\n",
        ")\n",
        "\n",
        "print(f\"Best parameters: {best_params}\")"
      ],
      "metadata": {
        "colab": {
          "base_uri": "https://localhost:8080/"
        },
        "id": "F4lIqMw6oIMZ",
        "outputId": "0916b1d6-1feb-4649-c140-dfae3fdb84b8"
      },
      "execution_count": 56,
      "outputs": [
        {
          "output_type": "stream",
          "name": "stdout",
          "text": [
            "Testing 216 hyperparameter combinations\n"
          ]
        },
        {
          "output_type": "stream",
          "name": "stderr",
          "text": [
            "\rHyperparameter Tuning:   0%|          | 0/216 [00:00<?, ?it/s]"
          ]
        },
        {
          "output_type": "stream",
          "name": "stdout",
          "text": [
            "\n",
            "Testing parameters: {'batch_norm': False, 'batch_size': 32, 'dropout': 0.0, 'hidden_layers': [64, 32], 'learning_rate': 0.0001}\n",
            "Epoch 1/10 - Train Loss: 0.58090, Val Loss: 0.38330\n",
            "Epoch 6/10 - Train Loss: 0.23687, Val Loss: 0.28546\n"
          ]
        },
        {
          "output_type": "stream",
          "name": "stderr",
          "text": [
            "\rHyperparameter Tuning:   0%|          | 1/216 [00:16<1:00:49, 16.98s/it]"
          ]
        },
        {
          "output_type": "stream",
          "name": "stdout",
          "text": [
            "New best model found! Validation loss: 0.29956\n",
            "\n",
            "Testing parameters: {'batch_norm': False, 'batch_size': 32, 'dropout': 0.0, 'hidden_layers': [64, 32], 'learning_rate': 0.001}\n",
            "Epoch 1/10 - Train Loss: 0.34676, Val Loss: 0.28725\n",
            "Epoch 6/10 - Train Loss: 0.12883, Val Loss: 0.38507\n"
          ]
        },
        {
          "output_type": "stream",
          "name": "stderr",
          "text": [
            "\rHyperparameter Tuning:   1%|          | 2/216 [00:33<1:00:05, 16.85s/it]"
          ]
        },
        {
          "output_type": "stream",
          "name": "stdout",
          "text": [
            "\n",
            "Testing parameters: {'batch_norm': False, 'batch_size': 32, 'dropout': 0.0, 'hidden_layers': [64, 32], 'learning_rate': 0.005}\n",
            "Epoch 1/10 - Train Loss: 0.33413, Val Loss: 0.30508\n",
            "Epoch 6/10 - Train Loss: 0.03285, Val Loss: 0.77179\n"
          ]
        },
        {
          "output_type": "stream",
          "name": "stderr",
          "text": [
            "\rHyperparameter Tuning:   1%|▏         | 3/216 [00:53<1:04:01, 18.04s/it]"
          ]
        },
        {
          "output_type": "stream",
          "name": "stdout",
          "text": [
            "\n",
            "Testing parameters: {'batch_norm': False, 'batch_size': 32, 'dropout': 0.0, 'hidden_layers': [128, 64], 'learning_rate': 0.0001}\n",
            "Epoch 1/10 - Train Loss: 0.51469, Val Loss: 0.30794\n",
            "Epoch 6/10 - Train Loss: 0.23466, Val Loss: 0.29336\n"
          ]
        },
        {
          "output_type": "stream",
          "name": "stderr",
          "text": [
            "\rHyperparameter Tuning:   2%|▏         | 4/216 [01:10<1:02:21, 17.65s/it]"
          ]
        },
        {
          "output_type": "stream",
          "name": "stdout",
          "text": [
            "\n",
            "Testing parameters: {'batch_norm': False, 'batch_size': 32, 'dropout': 0.0, 'hidden_layers': [128, 64], 'learning_rate': 0.001}\n",
            "Epoch 1/10 - Train Loss: 0.33854, Val Loss: 0.29265\n",
            "Epoch 6/10 - Train Loss: 0.06075, Val Loss: 0.48076\n"
          ]
        },
        {
          "output_type": "stream",
          "name": "stderr",
          "text": [
            "\rHyperparameter Tuning:   2%|▏         | 5/216 [01:26<1:00:52, 17.31s/it]"
          ]
        },
        {
          "output_type": "stream",
          "name": "stdout",
          "text": [
            "\n",
            "Testing parameters: {'batch_norm': False, 'batch_size': 32, 'dropout': 0.0, 'hidden_layers': [128, 64], 'learning_rate': 0.005}\n",
            "Epoch 1/10 - Train Loss: 0.33376, Val Loss: 0.29288\n",
            "Epoch 6/10 - Train Loss: 0.01505, Val Loss: 0.91715\n"
          ]
        },
        {
          "output_type": "stream",
          "name": "stderr",
          "text": [
            "\rHyperparameter Tuning:   3%|▎         | 6/216 [01:44<1:00:46, 17.36s/it]"
          ]
        },
        {
          "output_type": "stream",
          "name": "stdout",
          "text": [
            "\n",
            "Testing parameters: {'batch_norm': False, 'batch_size': 32, 'dropout': 0.0, 'hidden_layers': [256, 128], 'learning_rate': 0.0001}\n",
            "Epoch 1/10 - Train Loss: 0.44774, Val Loss: 0.28362\n",
            "Epoch 6/10 - Train Loss: 0.22959, Val Loss: 0.30517\n"
          ]
        },
        {
          "output_type": "stream",
          "name": "stderr",
          "text": [
            "\rHyperparameter Tuning:   3%|▎         | 7/216 [02:01<59:59, 17.22s/it]  "
          ]
        },
        {
          "output_type": "stream",
          "name": "stdout",
          "text": [
            "\n",
            "Testing parameters: {'batch_norm': False, 'batch_size': 32, 'dropout': 0.0, 'hidden_layers': [256, 128], 'learning_rate': 0.001}\n",
            "Epoch 1/10 - Train Loss: 0.33682, Val Loss: 0.29774\n",
            "Epoch 6/10 - Train Loss: 0.00503, Val Loss: 0.75113\n"
          ]
        },
        {
          "output_type": "stream",
          "name": "stderr",
          "text": [
            "\rHyperparameter Tuning:   4%|▎         | 8/216 [02:18<59:40, 17.21s/it]"
          ]
        },
        {
          "output_type": "stream",
          "name": "stdout",
          "text": [
            "\n",
            "Testing parameters: {'batch_norm': False, 'batch_size': 32, 'dropout': 0.0, 'hidden_layers': [256, 128], 'learning_rate': 0.005}\n",
            "Epoch 1/10 - Train Loss: 0.33401, Val Loss: 0.30686\n",
            "Epoch 6/10 - Train Loss: 0.00762, Val Loss: 0.91701\n"
          ]
        },
        {
          "output_type": "stream",
          "name": "stderr",
          "text": [
            "\rHyperparameter Tuning:   4%|▍         | 9/216 [02:36<59:39, 17.29s/it]"
          ]
        },
        {
          "output_type": "stream",
          "name": "stdout",
          "text": [
            "\n",
            "Testing parameters: {'batch_norm': False, 'batch_size': 32, 'dropout': 0.0, 'hidden_layers': [128, 64, 32], 'learning_rate': 0.0001}\n",
            "Epoch 1/10 - Train Loss: 0.50109, Val Loss: 0.29082\n",
            "Epoch 6/10 - Train Loss: 0.23430, Val Loss: 0.29676\n"
          ]
        },
        {
          "output_type": "stream",
          "name": "stderr",
          "text": [
            "\rHyperparameter Tuning:   5%|▍         | 10/216 [02:54<1:00:26, 17.61s/it]"
          ]
        },
        {
          "output_type": "stream",
          "name": "stdout",
          "text": [
            "\n",
            "Testing parameters: {'batch_norm': False, 'batch_size': 32, 'dropout': 0.0, 'hidden_layers': [128, 64, 32], 'learning_rate': 0.001}\n",
            "Epoch 1/10 - Train Loss: 0.34241, Val Loss: 0.28980\n",
            "Epoch 6/10 - Train Loss: 0.03745, Val Loss: 0.79364\n"
          ]
        },
        {
          "output_type": "stream",
          "name": "stderr",
          "text": [
            "\rHyperparameter Tuning:   5%|▌         | 11/216 [03:12<1:01:16, 17.93s/it]"
          ]
        },
        {
          "output_type": "stream",
          "name": "stdout",
          "text": [
            "\n",
            "Testing parameters: {'batch_norm': False, 'batch_size': 32, 'dropout': 0.0, 'hidden_layers': [128, 64, 32], 'learning_rate': 0.005}\n",
            "Epoch 1/10 - Train Loss: 0.33552, Val Loss: 0.29791\n",
            "Epoch 6/10 - Train Loss: 0.02513, Val Loss: 0.82859\n"
          ]
        },
        {
          "output_type": "stream",
          "name": "stderr",
          "text": [
            "\rHyperparameter Tuning:   6%|▌         | 12/216 [03:32<1:02:07, 18.27s/it]"
          ]
        },
        {
          "output_type": "stream",
          "name": "stdout",
          "text": [
            "\n",
            "Testing parameters: {'batch_norm': False, 'batch_size': 32, 'dropout': 0.2, 'hidden_layers': [64, 32], 'learning_rate': 0.0001}\n",
            "Epoch 1/10 - Train Loss: 0.62987, Val Loss: 0.45821\n",
            "Epoch 6/10 - Train Loss: 0.25138, Val Loss: 0.28015\n"
          ]
        },
        {
          "output_type": "stream",
          "name": "stderr",
          "text": [
            "\rHyperparameter Tuning:   6%|▌         | 13/216 [03:49<1:01:14, 18.10s/it]"
          ]
        },
        {
          "output_type": "stream",
          "name": "stdout",
          "text": [
            "New best model found! Validation loss: 0.29340\n",
            "\n",
            "Testing parameters: {'batch_norm': False, 'batch_size': 32, 'dropout': 0.2, 'hidden_layers': [64, 32], 'learning_rate': 0.001}\n",
            "Epoch 1/10 - Train Loss: 0.36011, Val Loss: 0.28642\n",
            "Epoch 6/10 - Train Loss: 0.12133, Val Loss: 0.39272\n"
          ]
        },
        {
          "output_type": "stream",
          "name": "stderr",
          "text": [
            "\rHyperparameter Tuning:   6%|▋         | 14/216 [04:07<1:00:42, 18.03s/it]"
          ]
        },
        {
          "output_type": "stream",
          "name": "stdout",
          "text": [
            "\n",
            "Testing parameters: {'batch_norm': False, 'batch_size': 32, 'dropout': 0.2, 'hidden_layers': [64, 32], 'learning_rate': 0.005}\n",
            "Epoch 1/10 - Train Loss: 0.34132, Val Loss: 0.29965\n",
            "Epoch 6/10 - Train Loss: 0.07326, Val Loss: 0.50604\n"
          ]
        },
        {
          "output_type": "stream",
          "name": "stderr",
          "text": [
            "\rHyperparameter Tuning:   7%|▋         | 15/216 [04:25<1:00:40, 18.11s/it]"
          ]
        },
        {
          "output_type": "stream",
          "name": "stdout",
          "text": [
            "\n",
            "Testing parameters: {'batch_norm': False, 'batch_size': 32, 'dropout': 0.2, 'hidden_layers': [128, 64], 'learning_rate': 0.0001}\n",
            "Epoch 1/10 - Train Loss: 0.54434, Val Loss: 0.32106\n",
            "Epoch 6/10 - Train Loss: 0.23936, Val Loss: 0.28941\n"
          ]
        },
        {
          "output_type": "stream",
          "name": "stderr",
          "text": [
            "\rHyperparameter Tuning:   7%|▋         | 16/216 [04:47<1:03:25, 19.03s/it]"
          ]
        },
        {
          "output_type": "stream",
          "name": "stdout",
          "text": [
            "\n",
            "Testing parameters: {'batch_norm': False, 'batch_size': 32, 'dropout': 0.2, 'hidden_layers': [128, 64], 'learning_rate': 0.001}\n",
            "Epoch 1/10 - Train Loss: 0.35101, Val Loss: 0.30469\n",
            "Epoch 6/10 - Train Loss: 0.04608, Val Loss: 0.55174\n"
          ]
        },
        {
          "output_type": "stream",
          "name": "stderr",
          "text": [
            "\rHyperparameter Tuning:   8%|▊         | 17/216 [05:09<1:06:39, 20.10s/it]"
          ]
        },
        {
          "output_type": "stream",
          "name": "stdout",
          "text": [
            "\n",
            "Testing parameters: {'batch_norm': False, 'batch_size': 32, 'dropout': 0.2, 'hidden_layers': [128, 64], 'learning_rate': 0.005}\n",
            "Epoch 1/10 - Train Loss: 0.33818, Val Loss: 0.29603\n",
            "Epoch 6/10 - Train Loss: 0.04406, Val Loss: 0.64290\n"
          ]
        },
        {
          "output_type": "stream",
          "name": "stderr",
          "text": [
            "\rHyperparameter Tuning:   8%|▊         | 18/216 [05:31<1:08:08, 20.65s/it]"
          ]
        },
        {
          "output_type": "stream",
          "name": "stdout",
          "text": [
            "\n",
            "Testing parameters: {'batch_norm': False, 'batch_size': 32, 'dropout': 0.2, 'hidden_layers': [256, 128], 'learning_rate': 0.0001}\n",
            "Epoch 1/10 - Train Loss: 0.47455, Val Loss: 0.28438\n",
            "Epoch 6/10 - Train Loss: 0.23090, Val Loss: 0.30024\n"
          ]
        },
        {
          "output_type": "stream",
          "name": "stderr",
          "text": [
            "\rHyperparameter Tuning:   9%|▉         | 19/216 [05:52<1:07:55, 20.69s/it]"
          ]
        },
        {
          "output_type": "stream",
          "name": "stdout",
          "text": [
            "\n",
            "Testing parameters: {'batch_norm': False, 'batch_size': 32, 'dropout': 0.2, 'hidden_layers': [256, 128], 'learning_rate': 0.001}\n",
            "Epoch 1/10 - Train Loss: 0.33929, Val Loss: 0.29417\n",
            "Epoch 6/10 - Train Loss: 0.01688, Val Loss: 0.67796\n"
          ]
        },
        {
          "output_type": "stream",
          "name": "stderr",
          "text": [
            "\rHyperparameter Tuning:   9%|▉         | 20/216 [06:13<1:08:12, 20.88s/it]"
          ]
        },
        {
          "output_type": "stream",
          "name": "stdout",
          "text": [
            "\n",
            "Testing parameters: {'batch_norm': False, 'batch_size': 32, 'dropout': 0.2, 'hidden_layers': [256, 128], 'learning_rate': 0.005}\n",
            "Epoch 1/10 - Train Loss: 0.33735, Val Loss: 0.29392\n",
            "Epoch 6/10 - Train Loss: 0.02469, Val Loss: 0.79826\n"
          ]
        },
        {
          "output_type": "stream",
          "name": "stderr",
          "text": [
            "\rHyperparameter Tuning:  10%|▉         | 21/216 [06:32<1:05:29, 20.15s/it]"
          ]
        },
        {
          "output_type": "stream",
          "name": "stdout",
          "text": [
            "\n",
            "Testing parameters: {'batch_norm': False, 'batch_size': 32, 'dropout': 0.2, 'hidden_layers': [128, 64, 32], 'learning_rate': 0.0001}\n",
            "Epoch 1/10 - Train Loss: 0.54594, Val Loss: 0.29713\n",
            "Epoch 6/10 - Train Loss: 0.24379, Val Loss: 0.29742\n"
          ]
        },
        {
          "output_type": "stream",
          "name": "stderr",
          "text": [
            "\rHyperparameter Tuning:  10%|█         | 22/216 [06:52<1:05:11, 20.16s/it]"
          ]
        },
        {
          "output_type": "stream",
          "name": "stdout",
          "text": [
            "\n",
            "Testing parameters: {'batch_norm': False, 'batch_size': 32, 'dropout': 0.2, 'hidden_layers': [128, 64, 32], 'learning_rate': 0.001}\n",
            "Epoch 1/10 - Train Loss: 0.35829, Val Loss: 0.28772\n",
            "Epoch 6/10 - Train Loss: 0.05185, Val Loss: 0.62046\n"
          ]
        },
        {
          "output_type": "stream",
          "name": "stderr",
          "text": [
            "\rHyperparameter Tuning:  11%|█         | 23/216 [07:12<1:05:03, 20.22s/it]"
          ]
        },
        {
          "output_type": "stream",
          "name": "stdout",
          "text": [
            "\n",
            "Testing parameters: {'batch_norm': False, 'batch_size': 32, 'dropout': 0.2, 'hidden_layers': [128, 64, 32], 'learning_rate': 0.005}\n",
            "Epoch 1/10 - Train Loss: 0.34738, Val Loss: 0.30058\n",
            "Epoch 6/10 - Train Loss: 0.05037, Val Loss: 0.52066\n"
          ]
        },
        {
          "output_type": "stream",
          "name": "stderr",
          "text": [
            "\rHyperparameter Tuning:  11%|█         | 24/216 [07:33<1:05:04, 20.33s/it]"
          ]
        },
        {
          "output_type": "stream",
          "name": "stdout",
          "text": [
            "\n",
            "Testing parameters: {'batch_norm': False, 'batch_size': 32, 'dropout': 0.5, 'hidden_layers': [64, 32], 'learning_rate': 0.0001}\n",
            "Epoch 1/10 - Train Loss: 0.67148, Val Loss: 0.57632\n",
            "Epoch 6/10 - Train Loss: 0.27095, Val Loss: 0.27818\n"
          ]
        },
        {
          "output_type": "stream",
          "name": "stderr",
          "text": [
            "\rHyperparameter Tuning:  12%|█▏        | 25/216 [07:51<1:02:40, 19.69s/it]"
          ]
        },
        {
          "output_type": "stream",
          "name": "stdout",
          "text": [
            "New best model found! Validation loss: 0.28528\n",
            "\n",
            "Testing parameters: {'batch_norm': False, 'batch_size': 32, 'dropout': 0.5, 'hidden_layers': [64, 32], 'learning_rate': 0.001}\n",
            "Epoch 1/10 - Train Loss: 0.38338, Val Loss: 0.28359\n",
            "Epoch 6/10 - Train Loss: 0.17262, Val Loss: 0.34749\n"
          ]
        },
        {
          "output_type": "stream",
          "name": "stderr",
          "text": [
            "\rHyperparameter Tuning:  12%|█▏        | 26/216 [08:09<1:00:24, 19.08s/it]"
          ]
        },
        {
          "output_type": "stream",
          "name": "stdout",
          "text": [
            "\n",
            "Testing parameters: {'batch_norm': False, 'batch_size': 32, 'dropout': 0.5, 'hidden_layers': [64, 32], 'learning_rate': 0.005}\n",
            "Epoch 1/10 - Train Loss: 0.36831, Val Loss: 0.29044\n",
            "Epoch 6/10 - Train Loss: 0.16947, Val Loss: 0.33905\n"
          ]
        },
        {
          "output_type": "stream",
          "name": "stderr",
          "text": [
            "\rHyperparameter Tuning:  12%|█▎        | 27/216 [08:27<59:34, 18.91s/it]  "
          ]
        },
        {
          "output_type": "stream",
          "name": "stdout",
          "text": [
            "\n",
            "Testing parameters: {'batch_norm': False, 'batch_size': 32, 'dropout': 0.5, 'hidden_layers': [128, 64], 'learning_rate': 0.0001}\n",
            "Epoch 1/10 - Train Loss: 0.61152, Val Loss: 0.39343\n",
            "Epoch 6/10 - Train Loss: 0.24996, Val Loss: 0.28321\n"
          ]
        },
        {
          "output_type": "stream",
          "name": "stderr",
          "text": [
            "\rHyperparameter Tuning:  13%|█▎        | 28/216 [08:45<58:08, 18.56s/it]"
          ]
        },
        {
          "output_type": "stream",
          "name": "stdout",
          "text": [
            "\n",
            "Testing parameters: {'batch_norm': False, 'batch_size': 32, 'dropout': 0.5, 'hidden_layers': [128, 64], 'learning_rate': 0.001}\n",
            "Epoch 1/10 - Train Loss: 0.37013, Val Loss: 0.28499\n",
            "Epoch 6/10 - Train Loss: 0.12709, Val Loss: 0.37802\n"
          ]
        },
        {
          "output_type": "stream",
          "name": "stderr",
          "text": [
            "\rHyperparameter Tuning:  13%|█▎        | 29/216 [09:04<58:12, 18.68s/it]"
          ]
        },
        {
          "output_type": "stream",
          "name": "stdout",
          "text": [
            "\n",
            "Testing parameters: {'batch_norm': False, 'batch_size': 32, 'dropout': 0.5, 'hidden_layers': [128, 64], 'learning_rate': 0.005}\n",
            "Epoch 1/10 - Train Loss: 0.35429, Val Loss: 0.29206\n",
            "Epoch 6/10 - Train Loss: 0.12738, Val Loss: 0.38085\n"
          ]
        },
        {
          "output_type": "stream",
          "name": "stderr",
          "text": [
            "\rHyperparameter Tuning:  14%|█▍        | 30/216 [09:22<57:29, 18.55s/it]"
          ]
        },
        {
          "output_type": "stream",
          "name": "stdout",
          "text": [
            "\n",
            "Testing parameters: {'batch_norm': False, 'batch_size': 32, 'dropout': 0.5, 'hidden_layers': [256, 128], 'learning_rate': 0.0001}\n",
            "Epoch 1/10 - Train Loss: 0.53710, Val Loss: 0.30144\n",
            "Epoch 6/10 - Train Loss: 0.23682, Val Loss: 0.28984\n"
          ]
        },
        {
          "output_type": "stream",
          "name": "stderr",
          "text": [
            "\rHyperparameter Tuning:  14%|█▍        | 31/216 [09:41<57:07, 18.52s/it]"
          ]
        },
        {
          "output_type": "stream",
          "name": "stdout",
          "text": [
            "\n",
            "Testing parameters: {'batch_norm': False, 'batch_size': 32, 'dropout': 0.5, 'hidden_layers': [256, 128], 'learning_rate': 0.001}\n",
            "Epoch 1/10 - Train Loss: 0.35059, Val Loss: 0.28765\n",
            "Epoch 6/10 - Train Loss: 0.07160, Val Loss: 0.47190\n"
          ]
        },
        {
          "output_type": "stream",
          "name": "stderr",
          "text": [
            "\rHyperparameter Tuning:  15%|█▍        | 32/216 [09:59<56:59, 18.58s/it]"
          ]
        },
        {
          "output_type": "stream",
          "name": "stdout",
          "text": [
            "\n",
            "Testing parameters: {'batch_norm': False, 'batch_size': 32, 'dropout': 0.5, 'hidden_layers': [256, 128], 'learning_rate': 0.005}\n",
            "Epoch 1/10 - Train Loss: 0.34844, Val Loss: 0.30740\n",
            "Epoch 6/10 - Train Loss: 0.09516, Val Loss: 0.42961\n"
          ]
        },
        {
          "output_type": "stream",
          "name": "stderr",
          "text": [
            "\rHyperparameter Tuning:  15%|█▌        | 33/216 [10:18<57:04, 18.71s/it]"
          ]
        },
        {
          "output_type": "stream",
          "name": "stdout",
          "text": [
            "\n",
            "Testing parameters: {'batch_norm': False, 'batch_size': 32, 'dropout': 0.5, 'hidden_layers': [128, 64, 32], 'learning_rate': 0.0001}\n",
            "Epoch 1/10 - Train Loss: 0.66700, Val Loss: 0.51800\n",
            "Epoch 6/10 - Train Loss: 0.26174, Val Loss: 0.28910\n"
          ]
        },
        {
          "output_type": "stream",
          "name": "stderr",
          "text": [
            "\rHyperparameter Tuning:  16%|█▌        | 34/216 [10:39<58:07, 19.16s/it]"
          ]
        },
        {
          "output_type": "stream",
          "name": "stdout",
          "text": [
            "\n",
            "Testing parameters: {'batch_norm': False, 'batch_size': 32, 'dropout': 0.5, 'hidden_layers': [128, 64, 32], 'learning_rate': 0.001}\n",
            "Epoch 1/10 - Train Loss: 0.39776, Val Loss: 0.29114\n",
            "Epoch 6/10 - Train Loss: 0.14052, Val Loss: 0.38007\n"
          ]
        },
        {
          "output_type": "stream",
          "name": "stderr",
          "text": [
            "\rHyperparameter Tuning:  16%|█▌        | 35/216 [10:58<58:28, 19.38s/it]"
          ]
        },
        {
          "output_type": "stream",
          "name": "stdout",
          "text": [
            "\n",
            "Testing parameters: {'batch_norm': False, 'batch_size': 32, 'dropout': 0.5, 'hidden_layers': [128, 64, 32], 'learning_rate': 0.005}\n",
            "Epoch 1/10 - Train Loss: 0.37753, Val Loss: 0.30803\n",
            "Epoch 6/10 - Train Loss: 0.16132, Val Loss: 0.37524\n"
          ]
        },
        {
          "output_type": "stream",
          "name": "stderr",
          "text": [
            "\rHyperparameter Tuning:  17%|█▋        | 36/216 [11:19<59:19, 19.78s/it]"
          ]
        },
        {
          "output_type": "stream",
          "name": "stdout",
          "text": [
            "\n",
            "Testing parameters: {'batch_norm': False, 'batch_size': 64, 'dropout': 0.0, 'hidden_layers': [64, 32], 'learning_rate': 0.0001}\n",
            "Epoch 1/10 - Train Loss: 0.66120, Val Loss: 0.57916\n",
            "Epoch 6/10 - Train Loss: 0.24368, Val Loss: 0.27882\n"
          ]
        },
        {
          "output_type": "stream",
          "name": "stderr",
          "text": [
            "\rHyperparameter Tuning:  17%|█▋        | 37/216 [11:29<50:16, 16.85s/it]"
          ]
        },
        {
          "output_type": "stream",
          "name": "stdout",
          "text": [
            "\n",
            "Testing parameters: {'batch_norm': False, 'batch_size': 64, 'dropout': 0.0, 'hidden_layers': [64, 32], 'learning_rate': 0.001}\n",
            "Epoch 1/10 - Train Loss: 0.37226, Val Loss: 0.28521\n",
            "Epoch 6/10 - Train Loss: 0.23183, Val Loss: 0.30557\n"
          ]
        },
        {
          "output_type": "stream",
          "name": "stderr",
          "text": [
            "\rHyperparameter Tuning:  18%|█▊        | 38/216 [11:39<43:47, 14.76s/it]"
          ]
        },
        {
          "output_type": "stream",
          "name": "stdout",
          "text": [
            "\n",
            "Testing parameters: {'batch_norm': False, 'batch_size': 64, 'dropout': 0.0, 'hidden_layers': [64, 32], 'learning_rate': 0.005}\n",
            "Epoch 1/10 - Train Loss: 0.33798, Val Loss: 0.29218\n",
            "Epoch 6/10 - Train Loss: 0.04347, Val Loss: 0.64904\n"
          ]
        },
        {
          "output_type": "stream",
          "name": "stderr",
          "text": [
            "\rHyperparameter Tuning:  18%|█▊        | 39/216 [11:49<38:53, 13.18s/it]"
          ]
        },
        {
          "output_type": "stream",
          "name": "stdout",
          "text": [
            "\n",
            "Testing parameters: {'batch_norm': False, 'batch_size': 64, 'dropout': 0.0, 'hidden_layers': [128, 64], 'learning_rate': 0.0001}\n",
            "Epoch 1/10 - Train Loss: 0.60370, Val Loss: 0.42409\n",
            "Epoch 6/10 - Train Loss: 0.23675, Val Loss: 0.28831\n"
          ]
        },
        {
          "output_type": "stream",
          "name": "stderr",
          "text": [
            "\rHyperparameter Tuning:  19%|█▊        | 40/216 [11:59<35:53, 12.24s/it]"
          ]
        },
        {
          "output_type": "stream",
          "name": "stdout",
          "text": [
            "\n",
            "Testing parameters: {'batch_norm': False, 'batch_size': 64, 'dropout': 0.0, 'hidden_layers': [128, 64], 'learning_rate': 0.001}\n",
            "Epoch 1/10 - Train Loss: 0.35220, Val Loss: 0.28639\n",
            "Epoch 6/10 - Train Loss: 0.14260, Val Loss: 0.36517\n"
          ]
        },
        {
          "output_type": "stream",
          "name": "stderr",
          "text": [
            "\rHyperparameter Tuning:  19%|█▉        | 41/216 [12:09<33:46, 11.58s/it]"
          ]
        },
        {
          "output_type": "stream",
          "name": "stdout",
          "text": [
            "\n",
            "Testing parameters: {'batch_norm': False, 'batch_size': 64, 'dropout': 0.0, 'hidden_layers': [128, 64], 'learning_rate': 0.005}\n",
            "Epoch 1/10 - Train Loss: 0.33668, Val Loss: 0.30008\n",
            "Epoch 6/10 - Train Loss: 0.01845, Val Loss: 0.92401\n"
          ]
        },
        {
          "output_type": "stream",
          "name": "stderr",
          "text": [
            "\rHyperparameter Tuning:  19%|█▉        | 42/216 [12:19<32:15, 11.12s/it]"
          ]
        },
        {
          "output_type": "stream",
          "name": "stdout",
          "text": [
            "\n",
            "Testing parameters: {'batch_norm': False, 'batch_size': 64, 'dropout': 0.0, 'hidden_layers': [256, 128], 'learning_rate': 0.0001}\n",
            "Epoch 1/10 - Train Loss: 0.53025, Val Loss: 0.31401\n",
            "Epoch 6/10 - Train Loss: 0.23339, Val Loss: 0.29517\n"
          ]
        },
        {
          "output_type": "stream",
          "name": "stderr",
          "text": [
            "\rHyperparameter Tuning:  20%|█▉        | 43/216 [12:29<31:10, 10.81s/it]"
          ]
        },
        {
          "output_type": "stream",
          "name": "stdout",
          "text": [
            "\n",
            "Testing parameters: {'batch_norm': False, 'batch_size': 64, 'dropout': 0.0, 'hidden_layers': [256, 128], 'learning_rate': 0.001}\n",
            "Epoch 1/10 - Train Loss: 0.34532, Val Loss: 0.30177\n",
            "Epoch 6/10 - Train Loss: 0.03291, Val Loss: 0.54837\n"
          ]
        },
        {
          "output_type": "stream",
          "name": "stderr",
          "text": [
            "\rHyperparameter Tuning:  20%|██        | 44/216 [12:38<30:02, 10.48s/it]"
          ]
        },
        {
          "output_type": "stream",
          "name": "stdout",
          "text": [
            "\n",
            "Testing parameters: {'batch_norm': False, 'batch_size': 64, 'dropout': 0.0, 'hidden_layers': [256, 128], 'learning_rate': 0.005}\n",
            "Epoch 1/10 - Train Loss: 0.33711, Val Loss: 0.30149\n",
            "Epoch 6/10 - Train Loss: 0.01652, Val Loss: 0.92104\n"
          ]
        },
        {
          "output_type": "stream",
          "name": "stderr",
          "text": [
            "\rHyperparameter Tuning:  21%|██        | 45/216 [12:48<29:30, 10.35s/it]"
          ]
        },
        {
          "output_type": "stream",
          "name": "stdout",
          "text": [
            "\n",
            "Testing parameters: {'batch_norm': False, 'batch_size': 64, 'dropout': 0.0, 'hidden_layers': [128, 64, 32], 'learning_rate': 0.0001}\n",
            "Epoch 1/10 - Train Loss: 0.62619, Val Loss: 0.41128\n",
            "Epoch 6/10 - Train Loss: 0.23529, Val Loss: 0.29192\n"
          ]
        },
        {
          "output_type": "stream",
          "name": "stderr",
          "text": [
            "\rHyperparameter Tuning:  21%|██▏       | 46/216 [12:59<29:36, 10.45s/it]"
          ]
        },
        {
          "output_type": "stream",
          "name": "stdout",
          "text": [
            "\n",
            "Testing parameters: {'batch_norm': False, 'batch_size': 64, 'dropout': 0.0, 'hidden_layers': [128, 64, 32], 'learning_rate': 0.001}\n",
            "Epoch 1/10 - Train Loss: 0.36607, Val Loss: 0.29534\n",
            "Epoch 6/10 - Train Loss: 0.07035, Val Loss: 0.50733\n"
          ]
        },
        {
          "output_type": "stream",
          "name": "stderr",
          "text": [
            "\rHyperparameter Tuning:  22%|██▏       | 47/216 [13:10<29:41, 10.54s/it]"
          ]
        },
        {
          "output_type": "stream",
          "name": "stdout",
          "text": [
            "\n",
            "Testing parameters: {'batch_norm': False, 'batch_size': 64, 'dropout': 0.0, 'hidden_layers': [128, 64, 32], 'learning_rate': 0.005}\n",
            "Epoch 1/10 - Train Loss: 0.34332, Val Loss: 0.29478\n",
            "Epoch 6/10 - Train Loss: 0.02819, Val Loss: 0.86276\n"
          ]
        },
        {
          "output_type": "stream",
          "name": "stderr",
          "text": [
            "\rHyperparameter Tuning:  22%|██▏       | 48/216 [13:21<29:52, 10.67s/it]"
          ]
        },
        {
          "output_type": "stream",
          "name": "stdout",
          "text": [
            "\n",
            "Testing parameters: {'batch_norm': False, 'batch_size': 64, 'dropout': 0.2, 'hidden_layers': [64, 32], 'learning_rate': 0.0001}\n",
            "Epoch 1/10 - Train Loss: 0.67201, Val Loss: 0.60735\n",
            "Epoch 6/10 - Train Loss: 0.25975, Val Loss: 0.27704\n"
          ]
        },
        {
          "output_type": "stream",
          "name": "stderr",
          "text": [
            "\rHyperparameter Tuning:  23%|██▎       | 49/216 [13:31<29:37, 10.64s/it]"
          ]
        },
        {
          "output_type": "stream",
          "name": "stdout",
          "text": [
            "\n",
            "Testing parameters: {'batch_norm': False, 'batch_size': 64, 'dropout': 0.2, 'hidden_layers': [64, 32], 'learning_rate': 0.001}\n",
            "Epoch 1/10 - Train Loss: 0.38503, Val Loss: 0.28300\n",
            "Epoch 6/10 - Train Loss: 0.17291, Val Loss: 0.34093\n"
          ]
        },
        {
          "output_type": "stream",
          "name": "stderr",
          "text": [
            "\rHyperparameter Tuning:  23%|██▎       | 50/216 [13:42<29:21, 10.61s/it]"
          ]
        },
        {
          "output_type": "stream",
          "name": "stdout",
          "text": [
            "\n",
            "Testing parameters: {'batch_norm': False, 'batch_size': 64, 'dropout': 0.2, 'hidden_layers': [64, 32], 'learning_rate': 0.005}\n",
            "Epoch 1/10 - Train Loss: 0.34597, Val Loss: 0.29611\n",
            "Epoch 6/10 - Train Loss: 0.07987, Val Loss: 0.51733\n"
          ]
        },
        {
          "output_type": "stream",
          "name": "stderr",
          "text": [
            "\rHyperparameter Tuning:  24%|██▎       | 51/216 [13:52<29:04, 10.57s/it]"
          ]
        },
        {
          "output_type": "stream",
          "name": "stdout",
          "text": [
            "\n",
            "Testing parameters: {'batch_norm': False, 'batch_size': 64, 'dropout': 0.2, 'hidden_layers': [128, 64], 'learning_rate': 0.0001}\n",
            "Epoch 1/10 - Train Loss: 0.62972, Val Loss: 0.45879\n",
            "Epoch 6/10 - Train Loss: 0.24353, Val Loss: 0.28528\n"
          ]
        },
        {
          "output_type": "stream",
          "name": "stderr",
          "text": [
            "\rHyperparameter Tuning:  24%|██▍       | 52/216 [14:03<28:31, 10.43s/it]"
          ]
        },
        {
          "output_type": "stream",
          "name": "stdout",
          "text": [
            "\n",
            "Testing parameters: {'batch_norm': False, 'batch_size': 64, 'dropout': 0.2, 'hidden_layers': [128, 64], 'learning_rate': 0.001}\n",
            "Epoch 1/10 - Train Loss: 0.36189, Val Loss: 0.29540\n",
            "Epoch 6/10 - Train Loss: 0.10174, Val Loss: 0.40961\n"
          ]
        },
        {
          "output_type": "stream",
          "name": "stderr",
          "text": [
            "\rHyperparameter Tuning:  25%|██▍       | 53/216 [14:13<28:27, 10.47s/it]"
          ]
        },
        {
          "output_type": "stream",
          "name": "stdout",
          "text": [
            "\n",
            "Testing parameters: {'batch_norm': False, 'batch_size': 64, 'dropout': 0.2, 'hidden_layers': [128, 64], 'learning_rate': 0.005}\n",
            "Epoch 1/10 - Train Loss: 0.34325, Val Loss: 0.28974\n",
            "Epoch 6/10 - Train Loss: 0.04879, Val Loss: 0.61589\n"
          ]
        },
        {
          "output_type": "stream",
          "name": "stderr",
          "text": [
            "\rHyperparameter Tuning:  25%|██▌       | 54/216 [14:24<28:31, 10.56s/it]"
          ]
        },
        {
          "output_type": "stream",
          "name": "stdout",
          "text": [
            "\n",
            "Testing parameters: {'batch_norm': False, 'batch_size': 64, 'dropout': 0.2, 'hidden_layers': [256, 128], 'learning_rate': 0.0001}\n",
            "Epoch 1/10 - Train Loss: 0.56106, Val Loss: 0.32359\n",
            "Epoch 6/10 - Train Loss: 0.23585, Val Loss: 0.29262\n"
          ]
        },
        {
          "output_type": "stream",
          "name": "stderr",
          "text": [
            "\rHyperparameter Tuning:  25%|██▌       | 55/216 [14:35<28:25, 10.59s/it]"
          ]
        },
        {
          "output_type": "stream",
          "name": "stdout",
          "text": [
            "\n",
            "Testing parameters: {'batch_norm': False, 'batch_size': 64, 'dropout': 0.2, 'hidden_layers': [256, 128], 'learning_rate': 0.001}\n",
            "Epoch 1/10 - Train Loss: 0.34890, Val Loss: 0.28926\n",
            "Epoch 6/10 - Train Loss: 0.03301, Val Loss: 0.53068\n"
          ]
        },
        {
          "output_type": "stream",
          "name": "stderr",
          "text": [
            "\rHyperparameter Tuning:  26%|██▌       | 56/216 [14:45<28:18, 10.61s/it]"
          ]
        },
        {
          "output_type": "stream",
          "name": "stdout",
          "text": [
            "\n",
            "Testing parameters: {'batch_norm': False, 'batch_size': 64, 'dropout': 0.2, 'hidden_layers': [256, 128], 'learning_rate': 0.005}\n",
            "Epoch 1/10 - Train Loss: 0.33586, Val Loss: 0.29069\n",
            "Epoch 6/10 - Train Loss: 0.03072, Val Loss: 0.64543\n"
          ]
        },
        {
          "output_type": "stream",
          "name": "stderr",
          "text": [
            "\rHyperparameter Tuning:  26%|██▋       | 57/216 [14:56<28:14, 10.66s/it]"
          ]
        },
        {
          "output_type": "stream",
          "name": "stdout",
          "text": [
            "\n",
            "Testing parameters: {'batch_norm': False, 'batch_size': 64, 'dropout': 0.2, 'hidden_layers': [128, 64, 32], 'learning_rate': 0.0001}\n",
            "Epoch 1/10 - Train Loss: 0.65086, Val Loss: 0.47664\n",
            "Epoch 6/10 - Train Loss: 0.24642, Val Loss: 0.28963\n"
          ]
        },
        {
          "output_type": "stream",
          "name": "stderr",
          "text": [
            "\rHyperparameter Tuning:  27%|██▋       | 58/216 [15:08<28:47, 10.93s/it]"
          ]
        },
        {
          "output_type": "stream",
          "name": "stdout",
          "text": [
            "\n",
            "Testing parameters: {'batch_norm': False, 'batch_size': 64, 'dropout': 0.2, 'hidden_layers': [128, 64, 32], 'learning_rate': 0.001}\n",
            "Epoch 1/10 - Train Loss: 0.37650, Val Loss: 0.28797\n",
            "Epoch 6/10 - Train Loss: 0.08230, Val Loss: 0.48166\n"
          ]
        },
        {
          "output_type": "stream",
          "name": "stderr",
          "text": [
            "\rHyperparameter Tuning:  27%|██▋       | 59/216 [15:19<29:09, 11.15s/it]"
          ]
        },
        {
          "output_type": "stream",
          "name": "stdout",
          "text": [
            "\n",
            "Testing parameters: {'batch_norm': False, 'batch_size': 64, 'dropout': 0.2, 'hidden_layers': [128, 64, 32], 'learning_rate': 0.005}\n",
            "Epoch 1/10 - Train Loss: 0.35278, Val Loss: 0.28985\n",
            "Epoch 6/10 - Train Loss: 0.05590, Val Loss: 0.66867\n"
          ]
        },
        {
          "output_type": "stream",
          "name": "stderr",
          "text": [
            "\rHyperparameter Tuning:  28%|██▊       | 60/216 [15:31<29:30, 11.35s/it]"
          ]
        },
        {
          "output_type": "stream",
          "name": "stdout",
          "text": [
            "\n",
            "Testing parameters: {'batch_norm': False, 'batch_size': 64, 'dropout': 0.5, 'hidden_layers': [64, 32], 'learning_rate': 0.0001}\n",
            "Epoch 1/10 - Train Loss: 0.68870, Val Loss: 0.67043\n",
            "Epoch 6/10 - Train Loss: 0.29243, Val Loss: 0.27925\n"
          ]
        },
        {
          "output_type": "stream",
          "name": "stderr",
          "text": [
            "\rHyperparameter Tuning:  28%|██▊       | 61/216 [15:41<28:31, 11.04s/it]"
          ]
        },
        {
          "output_type": "stream",
          "name": "stdout",
          "text": [
            "New best model found! Validation loss: 0.27982\n",
            "\n",
            "Testing parameters: {'batch_norm': False, 'batch_size': 64, 'dropout': 0.5, 'hidden_layers': [64, 32], 'learning_rate': 0.001}\n",
            "Epoch 1/10 - Train Loss: 0.43007, Val Loss: 0.28292\n",
            "Epoch 6/10 - Train Loss: 0.18546, Val Loss: 0.33813\n"
          ]
        },
        {
          "output_type": "stream",
          "name": "stderr",
          "text": [
            "\rHyperparameter Tuning:  29%|██▊       | 62/216 [15:52<27:41, 10.79s/it]"
          ]
        },
        {
          "output_type": "stream",
          "name": "stdout",
          "text": [
            "\n",
            "Testing parameters: {'batch_norm': False, 'batch_size': 64, 'dropout': 0.5, 'hidden_layers': [64, 32], 'learning_rate': 0.005}\n",
            "Epoch 1/10 - Train Loss: 0.37397, Val Loss: 0.29135\n",
            "Epoch 6/10 - Train Loss: 0.16652, Val Loss: 0.36401\n"
          ]
        },
        {
          "output_type": "stream",
          "name": "stderr",
          "text": [
            "\rHyperparameter Tuning:  29%|██▉       | 63/216 [16:02<27:26, 10.76s/it]"
          ]
        },
        {
          "output_type": "stream",
          "name": "stdout",
          "text": [
            "\n",
            "Testing parameters: {'batch_norm': False, 'batch_size': 64, 'dropout': 0.5, 'hidden_layers': [128, 64], 'learning_rate': 0.0001}\n",
            "Epoch 1/10 - Train Loss: 0.66900, Val Loss: 0.58184\n",
            "Epoch 6/10 - Train Loss: 0.26037, Val Loss: 0.28002\n"
          ]
        },
        {
          "output_type": "stream",
          "name": "stderr",
          "text": [
            "\rHyperparameter Tuning:  30%|██▉       | 64/216 [16:13<27:12, 10.74s/it]"
          ]
        },
        {
          "output_type": "stream",
          "name": "stdout",
          "text": [
            "\n",
            "Testing parameters: {'batch_norm': False, 'batch_size': 64, 'dropout': 0.5, 'hidden_layers': [128, 64], 'learning_rate': 0.001}\n",
            "Epoch 1/10 - Train Loss: 0.38770, Val Loss: 0.28498\n",
            "Epoch 6/10 - Train Loss: 0.14287, Val Loss: 0.36058\n"
          ]
        },
        {
          "output_type": "stream",
          "name": "stderr",
          "text": [
            "\rHyperparameter Tuning:  30%|███       | 65/216 [16:24<26:55, 10.70s/it]"
          ]
        },
        {
          "output_type": "stream",
          "name": "stdout",
          "text": [
            "\n",
            "Testing parameters: {'batch_norm': False, 'batch_size': 64, 'dropout': 0.5, 'hidden_layers': [128, 64], 'learning_rate': 0.005}\n",
            "Epoch 1/10 - Train Loss: 0.35457, Val Loss: 0.29530\n",
            "Epoch 6/10 - Train Loss: 0.12425, Val Loss: 0.38589\n"
          ]
        },
        {
          "output_type": "stream",
          "name": "stderr",
          "text": [
            "\rHyperparameter Tuning:  31%|███       | 66/216 [16:34<26:47, 10.71s/it]"
          ]
        },
        {
          "output_type": "stream",
          "name": "stdout",
          "text": [
            "\n",
            "Testing parameters: {'batch_norm': False, 'batch_size': 64, 'dropout': 0.5, 'hidden_layers': [256, 128], 'learning_rate': 0.0001}\n",
            "Epoch 1/10 - Train Loss: 0.62487, Val Loss: 0.40880\n",
            "Epoch 6/10 - Train Loss: 0.24544, Val Loss: 0.28459\n"
          ]
        },
        {
          "output_type": "stream",
          "name": "stderr",
          "text": [
            "\rHyperparameter Tuning:  31%|███       | 67/216 [16:45<26:33, 10.70s/it]"
          ]
        },
        {
          "output_type": "stream",
          "name": "stdout",
          "text": [
            "\n",
            "Testing parameters: {'batch_norm': False, 'batch_size': 64, 'dropout': 0.5, 'hidden_layers': [256, 128], 'learning_rate': 0.001}\n",
            "Epoch 1/10 - Train Loss: 0.36822, Val Loss: 0.28876\n",
            "Epoch 6/10 - Train Loss: 0.08743, Val Loss: 0.42196\n"
          ]
        },
        {
          "output_type": "stream",
          "name": "stderr",
          "text": [
            "\rHyperparameter Tuning:  31%|███▏      | 68/216 [16:56<26:27, 10.73s/it]"
          ]
        },
        {
          "output_type": "stream",
          "name": "stdout",
          "text": [
            "\n",
            "Testing parameters: {'batch_norm': False, 'batch_size': 64, 'dropout': 0.5, 'hidden_layers': [256, 128], 'learning_rate': 0.005}\n",
            "Epoch 1/10 - Train Loss: 0.34496, Val Loss: 0.29062\n",
            "Epoch 6/10 - Train Loss: 0.08124, Val Loss: 0.45164\n"
          ]
        },
        {
          "output_type": "stream",
          "name": "stderr",
          "text": [
            "\rHyperparameter Tuning:  32%|███▏      | 69/216 [17:06<26:16, 10.73s/it]"
          ]
        },
        {
          "output_type": "stream",
          "name": "stdout",
          "text": [
            "\n",
            "Testing parameters: {'batch_norm': False, 'batch_size': 64, 'dropout': 0.5, 'hidden_layers': [128, 64, 32], 'learning_rate': 0.0001}\n",
            "Epoch 1/10 - Train Loss: 0.68905, Val Loss: 0.66152\n",
            "Epoch 6/10 - Train Loss: 0.27405, Val Loss: 0.28479\n"
          ]
        },
        {
          "output_type": "stream",
          "name": "stderr",
          "text": [
            "\rHyperparameter Tuning:  32%|███▏      | 70/216 [17:18<26:38, 10.95s/it]"
          ]
        },
        {
          "output_type": "stream",
          "name": "stdout",
          "text": [
            "\n",
            "Testing parameters: {'batch_norm': False, 'batch_size': 64, 'dropout': 0.5, 'hidden_layers': [128, 64, 32], 'learning_rate': 0.001}\n",
            "Epoch 1/10 - Train Loss: 0.42276, Val Loss: 0.28757\n",
            "Epoch 6/10 - Train Loss: 0.15466, Val Loss: 0.37797\n"
          ]
        },
        {
          "output_type": "stream",
          "name": "stderr",
          "text": [
            "\rHyperparameter Tuning:  33%|███▎      | 71/216 [17:30<27:01, 11.18s/it]"
          ]
        },
        {
          "output_type": "stream",
          "name": "stdout",
          "text": [
            "\n",
            "Testing parameters: {'batch_norm': False, 'batch_size': 64, 'dropout': 0.5, 'hidden_layers': [128, 64, 32], 'learning_rate': 0.005}\n",
            "Epoch 1/10 - Train Loss: 0.38753, Val Loss: 0.28882\n",
            "Epoch 6/10 - Train Loss: 0.14914, Val Loss: 0.35880\n"
          ]
        },
        {
          "output_type": "stream",
          "name": "stderr",
          "text": [
            "\rHyperparameter Tuning:  33%|███▎      | 72/216 [17:41<27:07, 11.30s/it]"
          ]
        },
        {
          "output_type": "stream",
          "name": "stdout",
          "text": [
            "\n",
            "Testing parameters: {'batch_norm': False, 'batch_size': 128, 'dropout': 0.0, 'hidden_layers': [64, 32], 'learning_rate': 0.0001}\n",
            "Epoch 1/10 - Train Loss: 0.68467, Val Loss: 0.66077\n",
            "Epoch 6/10 - Train Loss: 0.27297, Val Loss: 0.28513\n"
          ]
        },
        {
          "output_type": "stream",
          "name": "stderr",
          "text": [
            "\rHyperparameter Tuning:  34%|███▍      | 73/216 [17:48<23:41,  9.94s/it]"
          ]
        },
        {
          "output_type": "stream",
          "name": "stdout",
          "text": [
            "New best model found! Validation loss: 0.27977\n",
            "\n",
            "Testing parameters: {'batch_norm': False, 'batch_size': 128, 'dropout': 0.0, 'hidden_layers': [64, 32], 'learning_rate': 0.001}\n",
            "Epoch 1/10 - Train Loss: 0.42507, Val Loss: 0.28152\n",
            "Epoch 6/10 - Train Loss: 0.21691, Val Loss: 0.31011\n"
          ]
        },
        {
          "output_type": "stream",
          "name": "stderr",
          "text": [
            "\rHyperparameter Tuning:  34%|███▍      | 74/216 [17:55<21:07,  8.93s/it]"
          ]
        },
        {
          "output_type": "stream",
          "name": "stdout",
          "text": [
            "\n",
            "Testing parameters: {'batch_norm': False, 'batch_size': 128, 'dropout': 0.0, 'hidden_layers': [64, 32], 'learning_rate': 0.005}\n",
            "Epoch 1/10 - Train Loss: 0.34749, Val Loss: 0.29438\n",
            "Epoch 6/10 - Train Loss: 0.09591, Val Loss: 0.49350\n"
          ]
        },
        {
          "output_type": "stream",
          "name": "stderr",
          "text": [
            "\rHyperparameter Tuning:  35%|███▍      | 75/216 [18:01<19:13,  8.18s/it]"
          ]
        },
        {
          "output_type": "stream",
          "name": "stdout",
          "text": [
            "\n",
            "Testing parameters: {'batch_norm': False, 'batch_size': 128, 'dropout': 0.0, 'hidden_layers': [128, 64], 'learning_rate': 0.0001}\n",
            "Epoch 1/10 - Train Loss: 0.67063, Val Loss: 0.60598\n",
            "Epoch 6/10 - Train Loss: 0.24523, Val Loss: 0.27951\n"
          ]
        },
        {
          "output_type": "stream",
          "name": "stderr",
          "text": [
            "\rHyperparameter Tuning:  35%|███▌      | 76/216 [18:08<18:05,  7.75s/it]"
          ]
        },
        {
          "output_type": "stream",
          "name": "stdout",
          "text": [
            "\n",
            "Testing parameters: {'batch_norm': False, 'batch_size': 128, 'dropout': 0.0, 'hidden_layers': [128, 64], 'learning_rate': 0.001}\n",
            "Epoch 1/10 - Train Loss: 0.39155, Val Loss: 0.28645\n",
            "Epoch 6/10 - Train Loss: 0.19429, Val Loss: 0.31503\n"
          ]
        },
        {
          "output_type": "stream",
          "name": "stderr",
          "text": [
            "\rHyperparameter Tuning:  36%|███▌      | 77/216 [18:14<16:53,  7.29s/it]"
          ]
        },
        {
          "output_type": "stream",
          "name": "stdout",
          "text": [
            "\n",
            "Testing parameters: {'batch_norm': False, 'batch_size': 128, 'dropout': 0.0, 'hidden_layers': [128, 64], 'learning_rate': 0.005}\n",
            "Epoch 1/10 - Train Loss: 0.34328, Val Loss: 0.28988\n",
            "Epoch 6/10 - Train Loss: 0.02866, Val Loss: 0.69635\n"
          ]
        },
        {
          "output_type": "stream",
          "name": "stderr",
          "text": [
            "\rHyperparameter Tuning:  36%|███▌      | 78/216 [18:21<16:26,  7.15s/it]"
          ]
        },
        {
          "output_type": "stream",
          "name": "stdout",
          "text": [
            "\n",
            "Testing parameters: {'batch_norm': False, 'batch_size': 128, 'dropout': 0.0, 'hidden_layers': [256, 128], 'learning_rate': 0.0001}\n",
            "Epoch 1/10 - Train Loss: 0.63615, Val Loss: 0.48763\n",
            "Epoch 6/10 - Train Loss: 0.23689, Val Loss: 0.28678\n"
          ]
        },
        {
          "output_type": "stream",
          "name": "stderr",
          "text": [
            "\rHyperparameter Tuning:  37%|███▋      | 79/216 [18:27<15:43,  6.89s/it]"
          ]
        },
        {
          "output_type": "stream",
          "name": "stdout",
          "text": [
            "\n",
            "Testing parameters: {'batch_norm': False, 'batch_size': 128, 'dropout': 0.0, 'hidden_layers': [256, 128], 'learning_rate': 0.001}\n",
            "Epoch 1/10 - Train Loss: 0.36899, Val Loss: 0.28650\n",
            "Epoch 6/10 - Train Loss: 0.06525, Val Loss: 0.42732\n"
          ]
        },
        {
          "output_type": "stream",
          "name": "stderr",
          "text": [
            "\rHyperparameter Tuning:  37%|███▋      | 80/216 [18:34<15:34,  6.87s/it]"
          ]
        },
        {
          "output_type": "stream",
          "name": "stdout",
          "text": [
            "\n",
            "Testing parameters: {'batch_norm': False, 'batch_size': 128, 'dropout': 0.0, 'hidden_layers': [256, 128], 'learning_rate': 0.005}\n",
            "Epoch 1/10 - Train Loss: 0.33910, Val Loss: 0.29232\n",
            "Epoch 6/10 - Train Loss: 0.00792, Val Loss: 0.88885\n"
          ]
        },
        {
          "output_type": "stream",
          "name": "stderr",
          "text": [
            "\rHyperparameter Tuning:  38%|███▊      | 81/216 [18:40<15:04,  6.70s/it]"
          ]
        },
        {
          "output_type": "stream",
          "name": "stdout",
          "text": [
            "\n",
            "Testing parameters: {'batch_norm': False, 'batch_size': 128, 'dropout': 0.0, 'hidden_layers': [128, 64, 32], 'learning_rate': 0.0001}\n",
            "Epoch 1/10 - Train Loss: 0.68777, Val Loss: 0.65957\n",
            "Epoch 6/10 - Train Loss: 0.24046, Val Loss: 0.28147\n"
          ]
        },
        {
          "output_type": "stream",
          "name": "stderr",
          "text": [
            "\rHyperparameter Tuning:  38%|███▊      | 82/216 [18:47<15:13,  6.82s/it]"
          ]
        },
        {
          "output_type": "stream",
          "name": "stdout",
          "text": [
            "\n",
            "Testing parameters: {'batch_norm': False, 'batch_size': 128, 'dropout': 0.0, 'hidden_layers': [128, 64, 32], 'learning_rate': 0.001}\n",
            "Epoch 1/10 - Train Loss: 0.40310, Val Loss: 0.28528\n",
            "Epoch 6/10 - Train Loss: 0.16824, Val Loss: 0.34411\n"
          ]
        },
        {
          "output_type": "stream",
          "name": "stderr",
          "text": [
            "\rHyperparameter Tuning:  38%|███▊      | 83/216 [18:54<14:58,  6.75s/it]"
          ]
        },
        {
          "output_type": "stream",
          "name": "stdout",
          "text": [
            "\n",
            "Testing parameters: {'batch_norm': False, 'batch_size': 128, 'dropout': 0.0, 'hidden_layers': [128, 64, 32], 'learning_rate': 0.005}\n",
            "Epoch 1/10 - Train Loss: 0.35039, Val Loss: 0.29794\n",
            "Epoch 6/10 - Train Loss: 0.03809, Val Loss: 0.68948\n"
          ]
        },
        {
          "output_type": "stream",
          "name": "stderr",
          "text": [
            "\rHyperparameter Tuning:  39%|███▉      | 84/216 [19:01<15:07,  6.87s/it]"
          ]
        },
        {
          "output_type": "stream",
          "name": "stdout",
          "text": [
            "\n",
            "Testing parameters: {'batch_norm': False, 'batch_size': 128, 'dropout': 0.2, 'hidden_layers': [64, 32], 'learning_rate': 0.0001}\n",
            "Epoch 1/10 - Train Loss: 0.68843, Val Loss: 0.67263\n",
            "Epoch 6/10 - Train Loss: 0.29241, Val Loss: 0.28849\n"
          ]
        },
        {
          "output_type": "stream",
          "name": "stderr",
          "text": [
            "\rHyperparameter Tuning:  39%|███▉      | 85/216 [19:08<14:59,  6.87s/it]"
          ]
        },
        {
          "output_type": "stream",
          "name": "stdout",
          "text": [
            "New best model found! Validation loss: 0.27956\n",
            "\n",
            "Testing parameters: {'batch_norm': False, 'batch_size': 128, 'dropout': 0.2, 'hidden_layers': [64, 32], 'learning_rate': 0.001}\n",
            "Epoch 1/10 - Train Loss: 0.44758, Val Loss: 0.28244\n",
            "Epoch 6/10 - Train Loss: 0.21208, Val Loss: 0.30904\n"
          ]
        },
        {
          "output_type": "stream",
          "name": "stderr",
          "text": [
            "\rHyperparameter Tuning:  40%|███▉      | 86/216 [19:15<14:44,  6.80s/it]"
          ]
        },
        {
          "output_type": "stream",
          "name": "stdout",
          "text": [
            "\n",
            "Testing parameters: {'batch_norm': False, 'batch_size': 128, 'dropout': 0.2, 'hidden_layers': [64, 32], 'learning_rate': 0.005}\n",
            "Epoch 1/10 - Train Loss: 0.36462, Val Loss: 0.28931\n",
            "Epoch 6/10 - Train Loss: 0.08653, Val Loss: 0.49412\n"
          ]
        },
        {
          "output_type": "stream",
          "name": "stderr",
          "text": [
            "\rHyperparameter Tuning:  40%|████      | 87/216 [19:22<14:48,  6.89s/it]"
          ]
        },
        {
          "output_type": "stream",
          "name": "stdout",
          "text": [
            "\n",
            "Testing parameters: {'batch_norm': False, 'batch_size': 128, 'dropout': 0.2, 'hidden_layers': [128, 64], 'learning_rate': 0.0001}\n",
            "Epoch 1/10 - Train Loss: 0.68137, Val Loss: 0.64335\n",
            "Epoch 6/10 - Train Loss: 0.25386, Val Loss: 0.27756\n"
          ]
        },
        {
          "output_type": "stream",
          "name": "stderr",
          "text": [
            "\rHyperparameter Tuning:  41%|████      | 88/216 [19:28<14:27,  6.78s/it]"
          ]
        },
        {
          "output_type": "stream",
          "name": "stdout",
          "text": [
            "\n",
            "Testing parameters: {'batch_norm': False, 'batch_size': 128, 'dropout': 0.2, 'hidden_layers': [128, 64], 'learning_rate': 0.001}\n",
            "Epoch 1/10 - Train Loss: 0.40072, Val Loss: 0.28369\n",
            "Epoch 6/10 - Train Loss: 0.16035, Val Loss: 0.34515\n"
          ]
        },
        {
          "output_type": "stream",
          "name": "stderr",
          "text": [
            "\rHyperparameter Tuning:  41%|████      | 89/216 [19:35<14:31,  6.87s/it]"
          ]
        },
        {
          "output_type": "stream",
          "name": "stdout",
          "text": [
            "\n",
            "Testing parameters: {'batch_norm': False, 'batch_size': 128, 'dropout': 0.2, 'hidden_layers': [128, 64], 'learning_rate': 0.005}\n",
            "Epoch 1/10 - Train Loss: 0.34769, Val Loss: 0.28852\n",
            "Epoch 6/10 - Train Loss: 0.04833, Val Loss: 0.60920\n"
          ]
        },
        {
          "output_type": "stream",
          "name": "stderr",
          "text": [
            "\rHyperparameter Tuning:  42%|████▏     | 90/216 [19:42<14:12,  6.76s/it]"
          ]
        },
        {
          "output_type": "stream",
          "name": "stdout",
          "text": [
            "\n",
            "Testing parameters: {'batch_norm': False, 'batch_size': 128, 'dropout': 0.2, 'hidden_layers': [256, 128], 'learning_rate': 0.0001}\n",
            "Epoch 1/10 - Train Loss: 0.65712, Val Loss: 0.53766\n",
            "Epoch 6/10 - Train Loss: 0.24057, Val Loss: 0.28423\n"
          ]
        },
        {
          "output_type": "stream",
          "name": "stderr",
          "text": [
            "\rHyperparameter Tuning:  42%|████▏     | 91/216 [19:49<14:17,  6.86s/it]"
          ]
        },
        {
          "output_type": "stream",
          "name": "stdout",
          "text": [
            "\n",
            "Testing parameters: {'batch_norm': False, 'batch_size': 128, 'dropout': 0.2, 'hidden_layers': [256, 128], 'learning_rate': 0.001}\n",
            "Epoch 1/10 - Train Loss: 0.37462, Val Loss: 0.28819\n",
            "Epoch 6/10 - Train Loss: 0.08490, Val Loss: 0.43170\n"
          ]
        },
        {
          "output_type": "stream",
          "name": "stderr",
          "text": [
            "\rHyperparameter Tuning:  43%|████▎     | 92/216 [19:56<14:04,  6.81s/it]"
          ]
        },
        {
          "output_type": "stream",
          "name": "stdout",
          "text": [
            "\n",
            "Testing parameters: {'batch_norm': False, 'batch_size': 128, 'dropout': 0.2, 'hidden_layers': [256, 128], 'learning_rate': 0.005}\n",
            "Epoch 1/10 - Train Loss: 0.34305, Val Loss: 0.29052\n",
            "Epoch 6/10 - Train Loss: 0.03381, Val Loss: 0.65137\n"
          ]
        },
        {
          "output_type": "stream",
          "name": "stderr",
          "text": [
            "\rHyperparameter Tuning:  43%|████▎     | 93/216 [20:03<14:06,  6.88s/it]"
          ]
        },
        {
          "output_type": "stream",
          "name": "stdout",
          "text": [
            "\n",
            "Testing parameters: {'batch_norm': False, 'batch_size': 128, 'dropout': 0.2, 'hidden_layers': [128, 64, 32], 'learning_rate': 0.0001}\n",
            "Epoch 1/10 - Train Loss: 0.68990, Val Loss: 0.66575\n",
            "Epoch 6/10 - Train Loss: 0.25874, Val Loss: 0.28202\n"
          ]
        },
        {
          "output_type": "stream",
          "name": "stderr",
          "text": [
            "\rHyperparameter Tuning:  44%|████▎     | 94/216 [20:10<14:22,  7.07s/it]"
          ]
        },
        {
          "output_type": "stream",
          "name": "stdout",
          "text": [
            "\n",
            "Testing parameters: {'batch_norm': False, 'batch_size': 128, 'dropout': 0.2, 'hidden_layers': [128, 64, 32], 'learning_rate': 0.001}\n",
            "Epoch 1/10 - Train Loss: 0.41323, Val Loss: 0.29082\n",
            "Epoch 6/10 - Train Loss: 0.13196, Val Loss: 0.39399\n"
          ]
        },
        {
          "output_type": "stream",
          "name": "stderr",
          "text": [
            "\rHyperparameter Tuning:  44%|████▍     | 95/216 [20:17<14:12,  7.04s/it]"
          ]
        },
        {
          "output_type": "stream",
          "name": "stdout",
          "text": [
            "\n",
            "Testing parameters: {'batch_norm': False, 'batch_size': 128, 'dropout': 0.2, 'hidden_layers': [128, 64, 32], 'learning_rate': 0.005}\n",
            "Epoch 1/10 - Train Loss: 0.36201, Val Loss: 0.29307\n",
            "Epoch 6/10 - Train Loss: 0.06312, Val Loss: 0.55947\n"
          ]
        },
        {
          "output_type": "stream",
          "name": "stderr",
          "text": [
            "\rHyperparameter Tuning:  44%|████▍     | 96/216 [20:25<14:27,  7.23s/it]"
          ]
        },
        {
          "output_type": "stream",
          "name": "stdout",
          "text": [
            "\n",
            "Testing parameters: {'batch_norm': False, 'batch_size': 128, 'dropout': 0.5, 'hidden_layers': [64, 32], 'learning_rate': 0.0001}\n",
            "Epoch 1/10 - Train Loss: 0.69011, Val Loss: 0.68149\n",
            "Epoch 6/10 - Train Loss: 0.33050, Val Loss: 0.29776\n"
          ]
        },
        {
          "output_type": "stream",
          "name": "stderr",
          "text": [
            "\rHyperparameter Tuning:  45%|████▍     | 97/216 [20:31<13:54,  7.01s/it]"
          ]
        },
        {
          "output_type": "stream",
          "name": "stdout",
          "text": [
            "New best model found! Validation loss: 0.27828\n",
            "\n",
            "Testing parameters: {'batch_norm': False, 'batch_size': 128, 'dropout': 0.5, 'hidden_layers': [64, 32], 'learning_rate': 0.001}\n",
            "Epoch 1/10 - Train Loss: 0.48048, Val Loss: 0.28480\n",
            "Epoch 6/10 - Train Loss: 0.20801, Val Loss: 0.31552\n"
          ]
        },
        {
          "output_type": "stream",
          "name": "stderr",
          "text": [
            "\rHyperparameter Tuning:  45%|████▌     | 98/216 [20:38<13:49,  7.03s/it]"
          ]
        },
        {
          "output_type": "stream",
          "name": "stdout",
          "text": [
            "\n",
            "Testing parameters: {'batch_norm': False, 'batch_size': 128, 'dropout': 0.5, 'hidden_layers': [64, 32], 'learning_rate': 0.005}\n",
            "Epoch 1/10 - Train Loss: 0.39222, Val Loss: 0.28903\n",
            "Epoch 6/10 - Train Loss: 0.16787, Val Loss: 0.35495\n"
          ]
        },
        {
          "output_type": "stream",
          "name": "stderr",
          "text": [
            "\rHyperparameter Tuning:  46%|████▌     | 99/216 [20:45<13:34,  6.96s/it]"
          ]
        },
        {
          "output_type": "stream",
          "name": "stdout",
          "text": [
            "\n",
            "Testing parameters: {'batch_norm': False, 'batch_size': 128, 'dropout': 0.5, 'hidden_layers': [128, 64], 'learning_rate': 0.0001}\n",
            "Epoch 1/10 - Train Loss: 0.68765, Val Loss: 0.66853\n",
            "Epoch 6/10 - Train Loss: 0.27986, Val Loss: 0.27912\n"
          ]
        },
        {
          "output_type": "stream",
          "name": "stderr",
          "text": [
            "\rHyperparameter Tuning:  46%|████▋     | 100/216 [20:52<13:19,  6.89s/it]"
          ]
        },
        {
          "output_type": "stream",
          "name": "stdout",
          "text": [
            "\n",
            "Testing parameters: {'batch_norm': False, 'batch_size': 128, 'dropout': 0.5, 'hidden_layers': [128, 64], 'learning_rate': 0.001}\n",
            "Epoch 1/10 - Train Loss: 0.42757, Val Loss: 0.28333\n",
            "Epoch 6/10 - Train Loss: 0.16996, Val Loss: 0.33745\n"
          ]
        },
        {
          "output_type": "stream",
          "name": "stderr",
          "text": [
            "\rHyperparameter Tuning:  47%|████▋     | 101/216 [20:59<13:16,  6.92s/it]"
          ]
        },
        {
          "output_type": "stream",
          "name": "stdout",
          "text": [
            "\n",
            "Testing parameters: {'batch_norm': False, 'batch_size': 128, 'dropout': 0.5, 'hidden_layers': [128, 64], 'learning_rate': 0.005}\n",
            "Epoch 1/10 - Train Loss: 0.36534, Val Loss: 0.28894\n",
            "Epoch 6/10 - Train Loss: 0.11873, Val Loss: 0.40610\n"
          ]
        },
        {
          "output_type": "stream",
          "name": "stderr",
          "text": [
            "\rHyperparameter Tuning:  47%|████▋     | 102/216 [21:05<12:54,  6.80s/it]"
          ]
        },
        {
          "output_type": "stream",
          "name": "stdout",
          "text": [
            "\n",
            "Testing parameters: {'batch_norm': False, 'batch_size': 128, 'dropout': 0.5, 'hidden_layers': [256, 128], 'learning_rate': 0.0001}\n",
            "Epoch 1/10 - Train Loss: 0.67631, Val Loss: 0.61077\n",
            "Epoch 6/10 - Train Loss: 0.25189, Val Loss: 0.27945\n"
          ]
        },
        {
          "output_type": "stream",
          "name": "stderr",
          "text": [
            "\rHyperparameter Tuning:  48%|████▊     | 103/216 [21:12<12:56,  6.88s/it]"
          ]
        },
        {
          "output_type": "stream",
          "name": "stdout",
          "text": [
            "\n",
            "Testing parameters: {'batch_norm': False, 'batch_size': 128, 'dropout': 0.5, 'hidden_layers': [256, 128], 'learning_rate': 0.001}\n",
            "Epoch 1/10 - Train Loss: 0.39464, Val Loss: 0.28284\n",
            "Epoch 6/10 - Train Loss: 0.11992, Val Loss: 0.38166\n"
          ]
        },
        {
          "output_type": "stream",
          "name": "stderr",
          "text": [
            "\rHyperparameter Tuning:  48%|████▊     | 104/216 [21:19<12:39,  6.78s/it]"
          ]
        },
        {
          "output_type": "stream",
          "name": "stdout",
          "text": [
            "\n",
            "Testing parameters: {'batch_norm': False, 'batch_size': 128, 'dropout': 0.5, 'hidden_layers': [256, 128], 'learning_rate': 0.005}\n",
            "Epoch 1/10 - Train Loss: 0.35122, Val Loss: 0.28676\n",
            "Epoch 6/10 - Train Loss: 0.08059, Val Loss: 0.43853\n"
          ]
        },
        {
          "output_type": "stream",
          "name": "stderr",
          "text": [
            "\rHyperparameter Tuning:  49%|████▊     | 105/216 [21:26<12:47,  6.91s/it]"
          ]
        },
        {
          "output_type": "stream",
          "name": "stdout",
          "text": [
            "\n",
            "Testing parameters: {'batch_norm': False, 'batch_size': 128, 'dropout': 0.5, 'hidden_layers': [128, 64, 32], 'learning_rate': 0.0001}\n",
            "Epoch 1/10 - Train Loss: 0.69390, Val Loss: 0.68917\n",
            "Epoch 6/10 - Train Loss: 0.29454, Val Loss: 0.28276\n"
          ]
        },
        {
          "output_type": "stream",
          "name": "stderr",
          "text": [
            "\rHyperparameter Tuning:  49%|████▉     | 106/216 [21:33<12:50,  7.01s/it]"
          ]
        },
        {
          "output_type": "stream",
          "name": "stdout",
          "text": [
            "\n",
            "Testing parameters: {'batch_norm': False, 'batch_size': 128, 'dropout': 0.5, 'hidden_layers': [128, 64, 32], 'learning_rate': 0.001}\n",
            "Epoch 1/10 - Train Loss: 0.46465, Val Loss: 0.28931\n",
            "Epoch 6/10 - Train Loss: 0.17335, Val Loss: 0.34378\n"
          ]
        },
        {
          "output_type": "stream",
          "name": "stderr",
          "text": [
            "\rHyperparameter Tuning:  50%|████▉     | 107/216 [21:41<12:52,  7.09s/it]"
          ]
        },
        {
          "output_type": "stream",
          "name": "stdout",
          "text": [
            "\n",
            "Testing parameters: {'batch_norm': False, 'batch_size': 128, 'dropout': 0.5, 'hidden_layers': [128, 64, 32], 'learning_rate': 0.005}\n",
            "Epoch 1/10 - Train Loss: 0.39394, Val Loss: 0.28869\n",
            "Epoch 6/10 - Train Loss: 0.14208, Val Loss: 0.41107\n"
          ]
        },
        {
          "output_type": "stream",
          "name": "stderr",
          "text": [
            "\rHyperparameter Tuning:  50%|█████     | 108/216 [21:48<13:02,  7.24s/it]"
          ]
        },
        {
          "output_type": "stream",
          "name": "stdout",
          "text": [
            "\n",
            "Testing parameters: {'batch_norm': True, 'batch_size': 32, 'dropout': 0.0, 'hidden_layers': [64, 32], 'learning_rate': 0.0001}\n",
            "Epoch 1/10 - Train Loss: 0.46918, Val Loss: 0.32971\n",
            "Epoch 6/10 - Train Loss: 0.08061, Val Loss: 0.38440\n"
          ]
        },
        {
          "output_type": "stream",
          "name": "stderr",
          "text": [
            "\rHyperparameter Tuning:  50%|█████     | 109/216 [22:08<19:29, 10.93s/it]"
          ]
        },
        {
          "output_type": "stream",
          "name": "stdout",
          "text": [
            "\n",
            "Testing parameters: {'batch_norm': True, 'batch_size': 32, 'dropout': 0.0, 'hidden_layers': [64, 32], 'learning_rate': 0.001}\n",
            "Epoch 1/10 - Train Loss: 0.34901, Val Loss: 0.29746\n",
            "Epoch 6/10 - Train Loss: 0.06412, Val Loss: 0.51668\n"
          ]
        },
        {
          "output_type": "stream",
          "name": "stderr",
          "text": [
            "\rHyperparameter Tuning:  51%|█████     | 110/216 [22:28<24:05, 13.63s/it]"
          ]
        },
        {
          "output_type": "stream",
          "name": "stdout",
          "text": [
            "\n",
            "Testing parameters: {'batch_norm': True, 'batch_size': 32, 'dropout': 0.0, 'hidden_layers': [64, 32], 'learning_rate': 0.005}\n",
            "Epoch 1/10 - Train Loss: 0.34768, Val Loss: 0.29754\n",
            "Epoch 6/10 - Train Loss: 0.07186, Val Loss: 0.49279\n"
          ]
        },
        {
          "output_type": "stream",
          "name": "stderr",
          "text": [
            "\rHyperparameter Tuning:  51%|█████▏    | 111/216 [22:48<27:04, 15.48s/it]"
          ]
        },
        {
          "output_type": "stream",
          "name": "stdout",
          "text": [
            "\n",
            "Testing parameters: {'batch_norm': True, 'batch_size': 32, 'dropout': 0.0, 'hidden_layers': [128, 64], 'learning_rate': 0.0001}\n",
            "Epoch 1/10 - Train Loss: 0.40776, Val Loss: 0.30508\n",
            "Epoch 6/10 - Train Loss: 0.03992, Val Loss: 0.42934\n"
          ]
        },
        {
          "output_type": "stream",
          "name": "stderr",
          "text": [
            "\rHyperparameter Tuning:  52%|█████▏    | 112/216 [23:07<28:55, 16.68s/it]"
          ]
        },
        {
          "output_type": "stream",
          "name": "stdout",
          "text": [
            "\n",
            "Testing parameters: {'batch_norm': True, 'batch_size': 32, 'dropout': 0.0, 'hidden_layers': [128, 64], 'learning_rate': 0.001}\n",
            "Epoch 1/10 - Train Loss: 0.34784, Val Loss: 0.29642\n",
            "Epoch 6/10 - Train Loss: 0.05580, Val Loss: 0.51368\n"
          ]
        },
        {
          "output_type": "stream",
          "name": "stderr",
          "text": [
            "\rHyperparameter Tuning:  52%|█████▏    | 113/216 [23:27<30:25, 17.72s/it]"
          ]
        },
        {
          "output_type": "stream",
          "name": "stdout",
          "text": [
            "\n",
            "Testing parameters: {'batch_norm': True, 'batch_size': 32, 'dropout': 0.0, 'hidden_layers': [128, 64], 'learning_rate': 0.005}\n",
            "Epoch 1/10 - Train Loss: 0.34987, Val Loss: 0.29477\n",
            "Epoch 6/10 - Train Loss: 0.06110, Val Loss: 0.50066\n"
          ]
        },
        {
          "output_type": "stream",
          "name": "stderr",
          "text": [
            "\rHyperparameter Tuning:  53%|█████▎    | 114/216 [23:47<31:13, 18.36s/it]"
          ]
        },
        {
          "output_type": "stream",
          "name": "stdout",
          "text": [
            "\n",
            "Testing parameters: {'batch_norm': True, 'batch_size': 32, 'dropout': 0.0, 'hidden_layers': [256, 128], 'learning_rate': 0.0001}\n",
            "Epoch 1/10 - Train Loss: 0.37366, Val Loss: 0.29490\n",
            "Epoch 6/10 - Train Loss: 0.02780, Val Loss: 0.47286\n"
          ]
        },
        {
          "output_type": "stream",
          "name": "stderr",
          "text": [
            "\rHyperparameter Tuning:  53%|█████▎    | 115/216 [24:07<31:47, 18.89s/it]"
          ]
        },
        {
          "output_type": "stream",
          "name": "stdout",
          "text": [
            "\n",
            "Testing parameters: {'batch_norm': True, 'batch_size': 32, 'dropout': 0.0, 'hidden_layers': [256, 128], 'learning_rate': 0.001}\n",
            "Epoch 1/10 - Train Loss: 0.34770, Val Loss: 0.29552\n",
            "Epoch 6/10 - Train Loss: 0.05378, Val Loss: 0.56168\n"
          ]
        },
        {
          "output_type": "stream",
          "name": "stderr",
          "text": [
            "\rHyperparameter Tuning:  54%|█████▎    | 116/216 [24:28<32:16, 19.37s/it]"
          ]
        },
        {
          "output_type": "stream",
          "name": "stdout",
          "text": [
            "\n",
            "Testing parameters: {'batch_norm': True, 'batch_size': 32, 'dropout': 0.0, 'hidden_layers': [256, 128], 'learning_rate': 0.005}\n",
            "Epoch 1/10 - Train Loss: 0.35532, Val Loss: 0.29636\n",
            "Epoch 6/10 - Train Loss: 0.05291, Val Loss: 0.52860\n"
          ]
        },
        {
          "output_type": "stream",
          "name": "stderr",
          "text": [
            "\rHyperparameter Tuning:  54%|█████▍    | 117/216 [24:48<32:19, 19.59s/it]"
          ]
        },
        {
          "output_type": "stream",
          "name": "stdout",
          "text": [
            "\n",
            "Testing parameters: {'batch_norm': True, 'batch_size': 32, 'dropout': 0.0, 'hidden_layers': [128, 64, 32], 'learning_rate': 0.0001}\n",
            "Epoch 1/10 - Train Loss: 0.46343, Val Loss: 0.32954\n",
            "Epoch 6/10 - Train Loss: 0.03400, Val Loss: 0.44913\n"
          ]
        },
        {
          "output_type": "stream",
          "name": "stderr",
          "text": [
            "\rHyperparameter Tuning:  55%|█████▍    | 118/216 [25:11<33:34, 20.56s/it]"
          ]
        },
        {
          "output_type": "stream",
          "name": "stdout",
          "text": [
            "\n",
            "Testing parameters: {'batch_norm': True, 'batch_size': 32, 'dropout': 0.0, 'hidden_layers': [128, 64, 32], 'learning_rate': 0.001}\n",
            "Epoch 1/10 - Train Loss: 0.35421, Val Loss: 0.29925\n",
            "Epoch 6/10 - Train Loss: 0.06375, Val Loss: 0.49403\n"
          ]
        },
        {
          "output_type": "stream",
          "name": "stderr",
          "text": [
            "\rHyperparameter Tuning:  55%|█████▌    | 119/216 [25:34<34:33, 21.37s/it]"
          ]
        },
        {
          "output_type": "stream",
          "name": "stdout",
          "text": [
            "\n",
            "Testing parameters: {'batch_norm': True, 'batch_size': 32, 'dropout': 0.0, 'hidden_layers': [128, 64, 32], 'learning_rate': 0.005}\n",
            "Epoch 1/10 - Train Loss: 0.35395, Val Loss: 0.30448\n",
            "Epoch 6/10 - Train Loss: 0.06219, Val Loss: 0.50831\n"
          ]
        },
        {
          "output_type": "stream",
          "name": "stderr",
          "text": [
            "\rHyperparameter Tuning:  56%|█████▌    | 120/216 [25:57<35:07, 21.95s/it]"
          ]
        },
        {
          "output_type": "stream",
          "name": "stdout",
          "text": [
            "\n",
            "Testing parameters: {'batch_norm': True, 'batch_size': 32, 'dropout': 0.2, 'hidden_layers': [64, 32], 'learning_rate': 0.0001}\n",
            "Epoch 1/10 - Train Loss: 0.49820, Val Loss: 0.34506\n",
            "Epoch 6/10 - Train Loss: 0.17331, Val Loss: 0.32529\n"
          ]
        },
        {
          "output_type": "stream",
          "name": "stderr",
          "text": [
            "\rHyperparameter Tuning:  56%|█████▌    | 121/216 [26:18<34:19, 21.68s/it]"
          ]
        },
        {
          "output_type": "stream",
          "name": "stdout",
          "text": [
            "\n",
            "Testing parameters: {'batch_norm': True, 'batch_size': 32, 'dropout': 0.2, 'hidden_layers': [64, 32], 'learning_rate': 0.001}\n",
            "Epoch 1/10 - Train Loss: 0.36777, Val Loss: 0.29531\n",
            "Epoch 6/10 - Train Loss: 0.12196, Val Loss: 0.43724\n"
          ]
        },
        {
          "output_type": "stream",
          "name": "stderr",
          "text": [
            "\rHyperparameter Tuning:  56%|█████▋    | 122/216 [26:39<33:41, 21.51s/it]"
          ]
        },
        {
          "output_type": "stream",
          "name": "stdout",
          "text": [
            "\n",
            "Testing parameters: {'batch_norm': True, 'batch_size': 32, 'dropout': 0.2, 'hidden_layers': [64, 32], 'learning_rate': 0.005}\n",
            "Epoch 1/10 - Train Loss: 0.36131, Val Loss: 0.30625\n",
            "Epoch 6/10 - Train Loss: 0.10944, Val Loss: 0.44421\n"
          ]
        },
        {
          "output_type": "stream",
          "name": "stderr",
          "text": [
            "\rHyperparameter Tuning:  57%|█████▋    | 123/216 [27:00<32:53, 21.22s/it]"
          ]
        },
        {
          "output_type": "stream",
          "name": "stdout",
          "text": [
            "\n",
            "Testing parameters: {'batch_norm': True, 'batch_size': 32, 'dropout': 0.2, 'hidden_layers': [128, 64], 'learning_rate': 0.0001}\n",
            "Epoch 1/10 - Train Loss: 0.46078, Val Loss: 0.31319\n",
            "Epoch 6/10 - Train Loss: 0.12433, Val Loss: 0.35281\n"
          ]
        },
        {
          "output_type": "stream",
          "name": "stderr",
          "text": [
            "\rHyperparameter Tuning:  57%|█████▋    | 124/216 [27:21<32:27, 21.16s/it]"
          ]
        },
        {
          "output_type": "stream",
          "name": "stdout",
          "text": [
            "\n",
            "Testing parameters: {'batch_norm': True, 'batch_size': 32, 'dropout': 0.2, 'hidden_layers': [128, 64], 'learning_rate': 0.001}\n",
            "Epoch 1/10 - Train Loss: 0.35568, Val Loss: 0.29440\n",
            "Epoch 6/10 - Train Loss: 0.08894, Val Loss: 0.48378\n"
          ]
        },
        {
          "output_type": "stream",
          "name": "stderr",
          "text": [
            "\rHyperparameter Tuning:  58%|█████▊    | 125/216 [27:42<32:08, 21.19s/it]"
          ]
        },
        {
          "output_type": "stream",
          "name": "stdout",
          "text": [
            "\n",
            "Testing parameters: {'batch_norm': True, 'batch_size': 32, 'dropout': 0.2, 'hidden_layers': [128, 64], 'learning_rate': 0.005}\n",
            "Epoch 1/10 - Train Loss: 0.35754, Val Loss: 0.30488\n",
            "Epoch 6/10 - Train Loss: 0.08762, Val Loss: 0.45794\n"
          ]
        },
        {
          "output_type": "stream",
          "name": "stderr",
          "text": [
            "\rHyperparameter Tuning:  58%|█████▊    | 126/216 [28:03<31:45, 21.17s/it]"
          ]
        },
        {
          "output_type": "stream",
          "name": "stdout",
          "text": [
            "\n",
            "Testing parameters: {'batch_norm': True, 'batch_size': 32, 'dropout': 0.2, 'hidden_layers': [256, 128], 'learning_rate': 0.0001}\n",
            "Epoch 1/10 - Train Loss: 0.41039, Val Loss: 0.29593\n",
            "Epoch 6/10 - Train Loss: 0.07876, Val Loss: 0.39863\n"
          ]
        },
        {
          "output_type": "stream",
          "name": "stderr",
          "text": [
            "\rHyperparameter Tuning:  59%|█████▉    | 127/216 [28:24<31:16, 21.08s/it]"
          ]
        },
        {
          "output_type": "stream",
          "name": "stdout",
          "text": [
            "\n",
            "Testing parameters: {'batch_norm': True, 'batch_size': 32, 'dropout': 0.2, 'hidden_layers': [256, 128], 'learning_rate': 0.001}\n",
            "Epoch 1/10 - Train Loss: 0.35141, Val Loss: 0.29632\n",
            "Epoch 6/10 - Train Loss: 0.07928, Val Loss: 0.46107\n"
          ]
        },
        {
          "output_type": "stream",
          "name": "stderr",
          "text": [
            "\rHyperparameter Tuning:  59%|█████▉    | 128/216 [28:46<31:04, 21.18s/it]"
          ]
        },
        {
          "output_type": "stream",
          "name": "stdout",
          "text": [
            "\n",
            "Testing parameters: {'batch_norm': True, 'batch_size': 32, 'dropout': 0.2, 'hidden_layers': [256, 128], 'learning_rate': 0.005}\n",
            "Epoch 1/10 - Train Loss: 0.35466, Val Loss: 0.30273\n",
            "Epoch 6/10 - Train Loss: 0.07258, Val Loss: 0.46535\n"
          ]
        },
        {
          "output_type": "stream",
          "name": "stderr",
          "text": [
            "\rHyperparameter Tuning:  60%|█████▉    | 129/216 [29:07<30:48, 21.25s/it]"
          ]
        },
        {
          "output_type": "stream",
          "name": "stdout",
          "text": [
            "\n",
            "Testing parameters: {'batch_norm': True, 'batch_size': 32, 'dropout': 0.2, 'hidden_layers': [128, 64, 32], 'learning_rate': 0.0001}\n",
            "Epoch 1/10 - Train Loss: 0.53609, Val Loss: 0.35741\n",
            "Epoch 6/10 - Train Loss: 0.14720, Val Loss: 0.34421\n"
          ]
        },
        {
          "output_type": "stream",
          "name": "stderr",
          "text": [
            "\rHyperparameter Tuning:  60%|██████    | 130/216 [29:32<31:58, 22.31s/it]"
          ]
        },
        {
          "output_type": "stream",
          "name": "stdout",
          "text": [
            "\n",
            "Testing parameters: {'batch_norm': True, 'batch_size': 32, 'dropout': 0.2, 'hidden_layers': [128, 64, 32], 'learning_rate': 0.001}\n",
            "Epoch 1/10 - Train Loss: 0.37299, Val Loss: 0.29799\n",
            "Epoch 6/10 - Train Loss: 0.10724, Val Loss: 0.41360\n"
          ]
        },
        {
          "output_type": "stream",
          "name": "stderr",
          "text": [
            "\rHyperparameter Tuning:  61%|██████    | 131/216 [29:57<32:37, 23.03s/it]"
          ]
        },
        {
          "output_type": "stream",
          "name": "stdout",
          "text": [
            "\n",
            "Testing parameters: {'batch_norm': True, 'batch_size': 32, 'dropout': 0.2, 'hidden_layers': [128, 64, 32], 'learning_rate': 0.005}\n",
            "Epoch 1/10 - Train Loss: 0.36244, Val Loss: 0.30460\n",
            "Epoch 6/10 - Train Loss: 0.09472, Val Loss: 0.41113\n"
          ]
        },
        {
          "output_type": "stream",
          "name": "stderr",
          "text": [
            "\rHyperparameter Tuning:  61%|██████    | 132/216 [30:21<32:58, 23.56s/it]"
          ]
        },
        {
          "output_type": "stream",
          "name": "stdout",
          "text": [
            "\n",
            "Testing parameters: {'batch_norm': True, 'batch_size': 32, 'dropout': 0.5, 'hidden_layers': [64, 32], 'learning_rate': 0.0001}\n",
            "Epoch 1/10 - Train Loss: 0.59775, Val Loss: 0.42843\n",
            "Epoch 6/10 - Train Loss: 0.25650, Val Loss: 0.29184\n"
          ]
        },
        {
          "output_type": "stream",
          "name": "stderr",
          "text": [
            "\rHyperparameter Tuning:  62%|██████▏   | 133/216 [30:42<31:35, 22.84s/it]"
          ]
        },
        {
          "output_type": "stream",
          "name": "stdout",
          "text": [
            "\n",
            "Testing parameters: {'batch_norm': True, 'batch_size': 32, 'dropout': 0.5, 'hidden_layers': [64, 32], 'learning_rate': 0.001}\n",
            "Epoch 1/10 - Train Loss: 0.40804, Val Loss: 0.29374\n",
            "Epoch 6/10 - Train Loss: 0.21836, Val Loss: 0.31446\n"
          ]
        },
        {
          "output_type": "stream",
          "name": "stderr",
          "text": [
            "\rHyperparameter Tuning:  62%|██████▏   | 134/216 [31:04<30:30, 22.32s/it]"
          ]
        },
        {
          "output_type": "stream",
          "name": "stdout",
          "text": [
            "\n",
            "Testing parameters: {'batch_norm': True, 'batch_size': 32, 'dropout': 0.5, 'hidden_layers': [64, 32], 'learning_rate': 0.005}\n",
            "Epoch 1/10 - Train Loss: 0.38793, Val Loss: 0.29590\n",
            "Epoch 6/10 - Train Loss: 0.20978, Val Loss: 0.32059\n"
          ]
        },
        {
          "output_type": "stream",
          "name": "stderr",
          "text": [
            "\rHyperparameter Tuning:  62%|██████▎   | 135/216 [31:24<29:27, 21.82s/it]"
          ]
        },
        {
          "output_type": "stream",
          "name": "stdout",
          "text": [
            "\n",
            "Testing parameters: {'batch_norm': True, 'batch_size': 32, 'dropout': 0.5, 'hidden_layers': [128, 64], 'learning_rate': 0.0001}\n",
            "Epoch 1/10 - Train Loss: 0.55445, Val Loss: 0.35119\n",
            "Epoch 6/10 - Train Loss: 0.22522, Val Loss: 0.29718\n"
          ]
        },
        {
          "output_type": "stream",
          "name": "stderr",
          "text": [
            "\rHyperparameter Tuning:  63%|██████▎   | 136/216 [31:45<28:51, 21.64s/it]"
          ]
        },
        {
          "output_type": "stream",
          "name": "stdout",
          "text": [
            "\n",
            "Testing parameters: {'batch_norm': True, 'batch_size': 32, 'dropout': 0.5, 'hidden_layers': [128, 64], 'learning_rate': 0.001}\n",
            "Epoch 1/10 - Train Loss: 0.37934, Val Loss: 0.29484\n",
            "Epoch 6/10 - Train Loss: 0.16842, Val Loss: 0.33565\n"
          ]
        },
        {
          "output_type": "stream",
          "name": "stderr",
          "text": [
            "\rHyperparameter Tuning:  63%|██████▎   | 137/216 [32:07<28:19, 21.51s/it]"
          ]
        },
        {
          "output_type": "stream",
          "name": "stdout",
          "text": [
            "\n",
            "Testing parameters: {'batch_norm': True, 'batch_size': 32, 'dropout': 0.5, 'hidden_layers': [128, 64], 'learning_rate': 0.005}\n",
            "Epoch 1/10 - Train Loss: 0.37226, Val Loss: 0.29878\n",
            "Epoch 6/10 - Train Loss: 0.16840, Val Loss: 0.36091\n"
          ]
        },
        {
          "output_type": "stream",
          "name": "stderr",
          "text": [
            "\rHyperparameter Tuning:  64%|██████▍   | 138/216 [32:28<27:44, 21.34s/it]"
          ]
        },
        {
          "output_type": "stream",
          "name": "stdout",
          "text": [
            "\n",
            "Testing parameters: {'batch_norm': True, 'batch_size': 32, 'dropout': 0.5, 'hidden_layers': [256, 128], 'learning_rate': 0.0001}\n",
            "Epoch 1/10 - Train Loss: 0.49478, Val Loss: 0.30882\n",
            "Epoch 6/10 - Train Loss: 0.18709, Val Loss: 0.30955\n"
          ]
        },
        {
          "output_type": "stream",
          "name": "stderr",
          "text": [
            "\rHyperparameter Tuning:  64%|██████▍   | 139/216 [32:49<27:19, 21.29s/it]"
          ]
        },
        {
          "output_type": "stream",
          "name": "stdout",
          "text": [
            "\n",
            "Testing parameters: {'batch_norm': True, 'batch_size': 32, 'dropout': 0.5, 'hidden_layers': [256, 128], 'learning_rate': 0.001}\n",
            "Epoch 1/10 - Train Loss: 0.37147, Val Loss: 0.29389\n",
            "Epoch 6/10 - Train Loss: 0.14241, Val Loss: 0.37138\n"
          ]
        },
        {
          "output_type": "stream",
          "name": "stderr",
          "text": [
            "\rHyperparameter Tuning:  65%|██████▍   | 140/216 [33:10<27:00, 21.32s/it]"
          ]
        },
        {
          "output_type": "stream",
          "name": "stdout",
          "text": [
            "\n",
            "Testing parameters: {'batch_norm': True, 'batch_size': 32, 'dropout': 0.5, 'hidden_layers': [256, 128], 'learning_rate': 0.005}\n",
            "Epoch 1/10 - Train Loss: 0.36835, Val Loss: 0.30629\n",
            "Epoch 6/10 - Train Loss: 0.13504, Val Loss: 0.37421\n"
          ]
        },
        {
          "output_type": "stream",
          "name": "stderr",
          "text": [
            "\rHyperparameter Tuning:  65%|██████▌   | 141/216 [33:32<26:40, 21.34s/it]"
          ]
        },
        {
          "output_type": "stream",
          "name": "stdout",
          "text": [
            "\n",
            "Testing parameters: {'batch_norm': True, 'batch_size': 32, 'dropout': 0.5, 'hidden_layers': [128, 64, 32], 'learning_rate': 0.0001}\n",
            "Epoch 1/10 - Train Loss: 0.66089, Val Loss: 0.51000\n",
            "Epoch 6/10 - Train Loss: 0.26392, Val Loss: 0.28953\n"
          ]
        },
        {
          "output_type": "stream",
          "name": "stderr",
          "text": [
            "\rHyperparameter Tuning:  66%|██████▌   | 142/216 [33:56<27:34, 22.36s/it]"
          ]
        },
        {
          "output_type": "stream",
          "name": "stdout",
          "text": [
            "\n",
            "Testing parameters: {'batch_norm': True, 'batch_size': 32, 'dropout': 0.5, 'hidden_layers': [128, 64, 32], 'learning_rate': 0.001}\n",
            "Epoch 1/10 - Train Loss: 0.42462, Val Loss: 0.30010\n",
            "Epoch 6/10 - Train Loss: 0.20459, Val Loss: 0.32704\n"
          ]
        },
        {
          "output_type": "stream",
          "name": "stderr",
          "text": [
            "\rHyperparameter Tuning:  66%|██████▌   | 143/216 [34:21<28:05, 23.09s/it]"
          ]
        },
        {
          "output_type": "stream",
          "name": "stdout",
          "text": [
            "\n",
            "Testing parameters: {'batch_norm': True, 'batch_size': 32, 'dropout': 0.5, 'hidden_layers': [128, 64, 32], 'learning_rate': 0.005}\n",
            "Epoch 1/10 - Train Loss: 0.39526, Val Loss: 0.29630\n",
            "Epoch 6/10 - Train Loss: 0.19215, Val Loss: 0.31634\n"
          ]
        },
        {
          "output_type": "stream",
          "name": "stderr",
          "text": [
            "\rHyperparameter Tuning:  67%|██████▋   | 144/216 [34:46<28:19, 23.61s/it]"
          ]
        },
        {
          "output_type": "stream",
          "name": "stdout",
          "text": [
            "\n",
            "Testing parameters: {'batch_norm': True, 'batch_size': 64, 'dropout': 0.0, 'hidden_layers': [64, 32], 'learning_rate': 0.0001}\n",
            "Epoch 1/10 - Train Loss: 0.49122, Val Loss: 0.36206\n",
            "Epoch 6/10 - Train Loss: 0.09149, Val Loss: 0.35476\n"
          ]
        },
        {
          "output_type": "stream",
          "name": "stderr",
          "text": [
            "\rHyperparameter Tuning:  67%|██████▋   | 145/216 [34:57<23:38, 19.98s/it]"
          ]
        },
        {
          "output_type": "stream",
          "name": "stdout",
          "text": [
            "\n",
            "Testing parameters: {'batch_norm': True, 'batch_size': 64, 'dropout': 0.0, 'hidden_layers': [64, 32], 'learning_rate': 0.001}\n",
            "Epoch 1/10 - Train Loss: 0.34471, Val Loss: 0.29462\n",
            "Epoch 6/10 - Train Loss: 0.03671, Val Loss: 0.56924\n"
          ]
        },
        {
          "output_type": "stream",
          "name": "stderr",
          "text": [
            "\rHyperparameter Tuning:  68%|██████▊   | 146/216 [35:09<20:18, 17.41s/it]"
          ]
        },
        {
          "output_type": "stream",
          "name": "stdout",
          "text": [
            "\n",
            "Testing parameters: {'batch_norm': True, 'batch_size': 64, 'dropout': 0.0, 'hidden_layers': [64, 32], 'learning_rate': 0.005}\n",
            "Epoch 1/10 - Train Loss: 0.33920, Val Loss: 0.29514\n",
            "Epoch 6/10 - Train Loss: 0.05132, Val Loss: 0.58647\n"
          ]
        },
        {
          "output_type": "stream",
          "name": "stderr",
          "text": [
            "\rHyperparameter Tuning:  68%|██████▊   | 147/216 [35:20<17:57, 15.62s/it]"
          ]
        },
        {
          "output_type": "stream",
          "name": "stdout",
          "text": [
            "\n",
            "Testing parameters: {'batch_norm': True, 'batch_size': 64, 'dropout': 0.0, 'hidden_layers': [128, 64], 'learning_rate': 0.0001}\n",
            "Epoch 1/10 - Train Loss: 0.42930, Val Loss: 0.31169\n",
            "Epoch 6/10 - Train Loss: 0.03843, Val Loss: 0.38302\n"
          ]
        },
        {
          "output_type": "stream",
          "name": "stderr",
          "text": [
            "\rHyperparameter Tuning:  69%|██████▊   | 148/216 [35:32<16:19, 14.41s/it]"
          ]
        },
        {
          "output_type": "stream",
          "name": "stdout",
          "text": [
            "\n",
            "Testing parameters: {'batch_norm': True, 'batch_size': 64, 'dropout': 0.0, 'hidden_layers': [128, 64], 'learning_rate': 0.001}\n",
            "Epoch 1/10 - Train Loss: 0.33789, Val Loss: 0.29087\n",
            "Epoch 6/10 - Train Loss: 0.03083, Val Loss: 0.58162\n"
          ]
        },
        {
          "output_type": "stream",
          "name": "stderr",
          "text": [
            "\rHyperparameter Tuning:  69%|██████▉   | 149/216 [35:43<15:08, 13.56s/it]"
          ]
        },
        {
          "output_type": "stream",
          "name": "stdout",
          "text": [
            "\n",
            "Testing parameters: {'batch_norm': True, 'batch_size': 64, 'dropout': 0.0, 'hidden_layers': [128, 64], 'learning_rate': 0.005}\n",
            "Epoch 1/10 - Train Loss: 0.33972, Val Loss: 0.29874\n",
            "Epoch 6/10 - Train Loss: 0.03656, Val Loss: 0.62518\n"
          ]
        },
        {
          "output_type": "stream",
          "name": "stderr",
          "text": [
            "\rHyperparameter Tuning:  69%|██████▉   | 150/216 [35:55<14:15, 12.95s/it]"
          ]
        },
        {
          "output_type": "stream",
          "name": "stdout",
          "text": [
            "\n",
            "Testing parameters: {'batch_norm': True, 'batch_size': 64, 'dropout': 0.0, 'hidden_layers': [256, 128], 'learning_rate': 0.0001}\n",
            "Epoch 1/10 - Train Loss: 0.39419, Val Loss: 0.29840\n",
            "Epoch 6/10 - Train Loss: 0.01568, Val Loss: 0.42911\n"
          ]
        },
        {
          "output_type": "stream",
          "name": "stderr",
          "text": [
            "\rHyperparameter Tuning:  70%|██████▉   | 151/216 [36:07<13:40, 12.63s/it]"
          ]
        },
        {
          "output_type": "stream",
          "name": "stdout",
          "text": [
            "\n",
            "Testing parameters: {'batch_norm': True, 'batch_size': 64, 'dropout': 0.0, 'hidden_layers': [256, 128], 'learning_rate': 0.001}\n",
            "Epoch 1/10 - Train Loss: 0.33491, Val Loss: 0.29522\n",
            "Epoch 6/10 - Train Loss: 0.02789, Val Loss: 0.59810\n"
          ]
        },
        {
          "output_type": "stream",
          "name": "stderr",
          "text": [
            "\rHyperparameter Tuning:  70%|███████   | 152/216 [36:18<13:04, 12.26s/it]"
          ]
        },
        {
          "output_type": "stream",
          "name": "stdout",
          "text": [
            "\n",
            "Testing parameters: {'batch_norm': True, 'batch_size': 64, 'dropout': 0.0, 'hidden_layers': [256, 128], 'learning_rate': 0.005}\n",
            "Epoch 1/10 - Train Loss: 0.33864, Val Loss: 0.29799\n",
            "Epoch 6/10 - Train Loss: 0.03399, Val Loss: 0.61962\n"
          ]
        },
        {
          "output_type": "stream",
          "name": "stderr",
          "text": [
            "\rHyperparameter Tuning:  71%|███████   | 153/216 [36:30<12:40, 12.07s/it]"
          ]
        },
        {
          "output_type": "stream",
          "name": "stdout",
          "text": [
            "\n",
            "Testing parameters: {'batch_norm': True, 'batch_size': 64, 'dropout': 0.0, 'hidden_layers': [128, 64, 32], 'learning_rate': 0.0001}\n",
            "Epoch 1/10 - Train Loss: 0.49854, Val Loss: 0.36660\n",
            "Epoch 6/10 - Train Loss: 0.02799, Val Loss: 0.40137\n"
          ]
        },
        {
          "output_type": "stream",
          "name": "stderr",
          "text": [
            "\rHyperparameter Tuning:  71%|███████▏  | 154/216 [36:43<12:51, 12.44s/it]"
          ]
        },
        {
          "output_type": "stream",
          "name": "stdout",
          "text": [
            "\n",
            "Testing parameters: {'batch_norm': True, 'batch_size': 64, 'dropout': 0.0, 'hidden_layers': [128, 64, 32], 'learning_rate': 0.001}\n",
            "Epoch 1/10 - Train Loss: 0.34892, Val Loss: 0.29485\n",
            "Epoch 6/10 - Train Loss: 0.03556, Val Loss: 0.58096\n"
          ]
        },
        {
          "output_type": "stream",
          "name": "stderr",
          "text": [
            "\rHyperparameter Tuning:  72%|███████▏  | 155/216 [36:56<12:50, 12.63s/it]"
          ]
        },
        {
          "output_type": "stream",
          "name": "stdout",
          "text": [
            "\n",
            "Testing parameters: {'batch_norm': True, 'batch_size': 64, 'dropout': 0.0, 'hidden_layers': [128, 64, 32], 'learning_rate': 0.005}\n",
            "Epoch 1/10 - Train Loss: 0.33917, Val Loss: 0.29902\n",
            "Epoch 6/10 - Train Loss: 0.04845, Val Loss: 0.51847\n"
          ]
        },
        {
          "output_type": "stream",
          "name": "stderr",
          "text": [
            "\rHyperparameter Tuning:  72%|███████▏  | 156/216 [37:09<12:44, 12.74s/it]"
          ]
        },
        {
          "output_type": "stream",
          "name": "stdout",
          "text": [
            "\n",
            "Testing parameters: {'batch_norm': True, 'batch_size': 64, 'dropout': 0.2, 'hidden_layers': [64, 32], 'learning_rate': 0.0001}\n",
            "Epoch 1/10 - Train Loss: 0.56770, Val Loss: 0.40727\n",
            "Epoch 6/10 - Train Loss: 0.18385, Val Loss: 0.31003\n"
          ]
        },
        {
          "output_type": "stream",
          "name": "stderr",
          "text": [
            "\rHyperparameter Tuning:  73%|███████▎  | 157/216 [37:21<12:17, 12.50s/it]"
          ]
        },
        {
          "output_type": "stream",
          "name": "stdout",
          "text": [
            "\n",
            "Testing parameters: {'batch_norm': True, 'batch_size': 64, 'dropout': 0.2, 'hidden_layers': [64, 32], 'learning_rate': 0.001}\n",
            "Epoch 1/10 - Train Loss: 0.36204, Val Loss: 0.29616\n",
            "Epoch 6/10 - Train Loss: 0.09871, Val Loss: 0.42811\n"
          ]
        },
        {
          "output_type": "stream",
          "name": "stderr",
          "text": [
            "\rHyperparameter Tuning:  73%|███████▎  | 158/216 [37:33<11:56, 12.35s/it]"
          ]
        },
        {
          "output_type": "stream",
          "name": "stdout",
          "text": [
            "\n",
            "Testing parameters: {'batch_norm': True, 'batch_size': 64, 'dropout': 0.2, 'hidden_layers': [64, 32], 'learning_rate': 0.005}\n",
            "Epoch 1/10 - Train Loss: 0.34720, Val Loss: 0.29215\n",
            "Epoch 6/10 - Train Loss: 0.08229, Val Loss: 0.49316\n"
          ]
        },
        {
          "output_type": "stream",
          "name": "stderr",
          "text": [
            "\rHyperparameter Tuning:  74%|███████▎  | 159/216 [37:45<11:37, 12.25s/it]"
          ]
        },
        {
          "output_type": "stream",
          "name": "stdout",
          "text": [
            "\n",
            "Testing parameters: {'batch_norm': True, 'batch_size': 64, 'dropout': 0.2, 'hidden_layers': [128, 64], 'learning_rate': 0.0001}\n",
            "Epoch 1/10 - Train Loss: 0.49038, Val Loss: 0.33778\n",
            "Epoch 6/10 - Train Loss: 0.12282, Val Loss: 0.33719\n"
          ]
        },
        {
          "output_type": "stream",
          "name": "stderr",
          "text": [
            "\rHyperparameter Tuning:  74%|███████▍  | 160/216 [37:57<11:21, 12.17s/it]"
          ]
        },
        {
          "output_type": "stream",
          "name": "stdout",
          "text": [
            "\n",
            "Testing parameters: {'batch_norm': True, 'batch_size': 64, 'dropout': 0.2, 'hidden_layers': [128, 64], 'learning_rate': 0.001}\n",
            "Epoch 1/10 - Train Loss: 0.34576, Val Loss: 0.29316\n",
            "Epoch 6/10 - Train Loss: 0.06783, Val Loss: 0.51587\n"
          ]
        },
        {
          "output_type": "stream",
          "name": "stderr",
          "text": [
            "\rHyperparameter Tuning:  75%|███████▍  | 161/216 [38:09<11:06, 12.12s/it]"
          ]
        },
        {
          "output_type": "stream",
          "name": "stdout",
          "text": [
            "\n",
            "Testing parameters: {'batch_norm': True, 'batch_size': 64, 'dropout': 0.2, 'hidden_layers': [128, 64], 'learning_rate': 0.005}\n",
            "Epoch 1/10 - Train Loss: 0.34512, Val Loss: 0.29464\n",
            "Epoch 6/10 - Train Loss: 0.06538, Val Loss: 0.50502\n"
          ]
        },
        {
          "output_type": "stream",
          "name": "stderr",
          "text": [
            "\rHyperparameter Tuning:  75%|███████▌  | 162/216 [38:21<10:52, 12.08s/it]"
          ]
        },
        {
          "output_type": "stream",
          "name": "stdout",
          "text": [
            "\n",
            "Testing parameters: {'batch_norm': True, 'batch_size': 64, 'dropout': 0.2, 'hidden_layers': [256, 128], 'learning_rate': 0.0001}\n",
            "Epoch 1/10 - Train Loss: 0.43004, Val Loss: 0.30293\n",
            "Epoch 6/10 - Train Loss: 0.07013, Val Loss: 0.37042\n"
          ]
        },
        {
          "output_type": "stream",
          "name": "stderr",
          "text": [
            "\rHyperparameter Tuning:  75%|███████▌  | 163/216 [38:33<10:43, 12.14s/it]"
          ]
        },
        {
          "output_type": "stream",
          "name": "stdout",
          "text": [
            "\n",
            "Testing parameters: {'batch_norm': True, 'batch_size': 64, 'dropout': 0.2, 'hidden_layers': [256, 128], 'learning_rate': 0.001}\n",
            "Epoch 1/10 - Train Loss: 0.34071, Val Loss: 0.29425\n",
            "Epoch 6/10 - Train Loss: 0.05556, Val Loss: 0.55971\n"
          ]
        },
        {
          "output_type": "stream",
          "name": "stderr",
          "text": [
            "\rHyperparameter Tuning:  76%|███████▌  | 164/216 [38:46<10:31, 12.14s/it]"
          ]
        },
        {
          "output_type": "stream",
          "name": "stdout",
          "text": [
            "\n",
            "Testing parameters: {'batch_norm': True, 'batch_size': 64, 'dropout': 0.2, 'hidden_layers': [256, 128], 'learning_rate': 0.005}\n",
            "Epoch 1/10 - Train Loss: 0.34648, Val Loss: 0.29952\n",
            "Epoch 6/10 - Train Loss: 0.04971, Val Loss: 0.53727\n"
          ]
        },
        {
          "output_type": "stream",
          "name": "stderr",
          "text": [
            "\rHyperparameter Tuning:  76%|███████▋  | 165/216 [38:58<10:19, 12.15s/it]"
          ]
        },
        {
          "output_type": "stream",
          "name": "stdout",
          "text": [
            "\n",
            "Testing parameters: {'batch_norm': True, 'batch_size': 64, 'dropout': 0.2, 'hidden_layers': [128, 64, 32], 'learning_rate': 0.0001}\n",
            "Epoch 1/10 - Train Loss: 0.54900, Val Loss: 0.40257\n",
            "Epoch 6/10 - Train Loss: 0.14877, Val Loss: 0.33113\n"
          ]
        },
        {
          "output_type": "stream",
          "name": "stderr",
          "text": [
            "\rHyperparameter Tuning:  77%|███████▋  | 166/216 [39:12<10:31, 12.63s/it]"
          ]
        },
        {
          "output_type": "stream",
          "name": "stdout",
          "text": [
            "\n",
            "Testing parameters: {'batch_norm': True, 'batch_size': 64, 'dropout': 0.2, 'hidden_layers': [128, 64, 32], 'learning_rate': 0.001}\n",
            "Epoch 1/10 - Train Loss: 0.36520, Val Loss: 0.29651\n",
            "Epoch 6/10 - Train Loss: 0.09179, Val Loss: 0.45301\n"
          ]
        },
        {
          "output_type": "stream",
          "name": "stderr",
          "text": [
            "\rHyperparameter Tuning:  77%|███████▋  | 167/216 [39:25<10:36, 12.99s/it]"
          ]
        },
        {
          "output_type": "stream",
          "name": "stdout",
          "text": [
            "\n",
            "Testing parameters: {'batch_norm': True, 'batch_size': 64, 'dropout': 0.2, 'hidden_layers': [128, 64, 32], 'learning_rate': 0.005}\n",
            "Epoch 1/10 - Train Loss: 0.35217, Val Loss: 0.29922\n",
            "Epoch 6/10 - Train Loss: 0.07461, Val Loss: 0.52767\n"
          ]
        },
        {
          "output_type": "stream",
          "name": "stderr",
          "text": [
            "\rHyperparameter Tuning:  78%|███████▊  | 168/216 [39:39<10:35, 13.25s/it]"
          ]
        },
        {
          "output_type": "stream",
          "name": "stdout",
          "text": [
            "\n",
            "Testing parameters: {'batch_norm': True, 'batch_size': 64, 'dropout': 0.5, 'hidden_layers': [64, 32], 'learning_rate': 0.0001}\n",
            "Epoch 1/10 - Train Loss: 0.63531, Val Loss: 0.50691\n",
            "Epoch 6/10 - Train Loss: 0.26933, Val Loss: 0.28420\n"
          ]
        },
        {
          "output_type": "stream",
          "name": "stderr",
          "text": [
            "\rHyperparameter Tuning:  78%|███████▊  | 169/216 [39:51<10:05, 12.87s/it]"
          ]
        },
        {
          "output_type": "stream",
          "name": "stdout",
          "text": [
            "\n",
            "Testing parameters: {'batch_norm': True, 'batch_size': 64, 'dropout': 0.5, 'hidden_layers': [64, 32], 'learning_rate': 0.001}\n",
            "Epoch 1/10 - Train Loss: 0.41975, Val Loss: 0.29661\n",
            "Epoch 6/10 - Train Loss: 0.19069, Val Loss: 0.32784\n"
          ]
        },
        {
          "output_type": "stream",
          "name": "stderr",
          "text": [
            "\rHyperparameter Tuning:  79%|███████▊  | 170/216 [40:03<09:39, 12.59s/it]"
          ]
        },
        {
          "output_type": "stream",
          "name": "stdout",
          "text": [
            "\n",
            "Testing parameters: {'batch_norm': True, 'batch_size': 64, 'dropout': 0.5, 'hidden_layers': [64, 32], 'learning_rate': 0.005}\n",
            "Epoch 1/10 - Train Loss: 0.38416, Val Loss: 0.29119\n",
            "Epoch 6/10 - Train Loss: 0.19080, Val Loss: 0.33182\n"
          ]
        },
        {
          "output_type": "stream",
          "name": "stderr",
          "text": [
            "\rHyperparameter Tuning:  79%|███████▉  | 171/216 [40:15<09:18, 12.41s/it]"
          ]
        },
        {
          "output_type": "stream",
          "name": "stdout",
          "text": [
            "\n",
            "Testing parameters: {'batch_norm': True, 'batch_size': 64, 'dropout': 0.5, 'hidden_layers': [128, 64], 'learning_rate': 0.0001}\n",
            "Epoch 1/10 - Train Loss: 0.58554, Val Loss: 0.41090\n",
            "Epoch 6/10 - Train Loss: 0.22764, Val Loss: 0.29071\n"
          ]
        },
        {
          "output_type": "stream",
          "name": "stderr",
          "text": [
            "\rHyperparameter Tuning:  80%|███████▉  | 172/216 [40:27<09:01, 12.30s/it]"
          ]
        },
        {
          "output_type": "stream",
          "name": "stdout",
          "text": [
            "\n",
            "Testing parameters: {'batch_norm': True, 'batch_size': 64, 'dropout': 0.5, 'hidden_layers': [128, 64], 'learning_rate': 0.001}\n",
            "Epoch 1/10 - Train Loss: 0.38100, Val Loss: 0.28904\n",
            "Epoch 6/10 - Train Loss: 0.14727, Val Loss: 0.35120\n"
          ]
        },
        {
          "output_type": "stream",
          "name": "stderr",
          "text": [
            "\rHyperparameter Tuning:  80%|████████  | 173/216 [40:39<08:46, 12.25s/it]"
          ]
        },
        {
          "output_type": "stream",
          "name": "stdout",
          "text": [
            "\n",
            "Testing parameters: {'batch_norm': True, 'batch_size': 64, 'dropout': 0.5, 'hidden_layers': [128, 64], 'learning_rate': 0.005}\n",
            "Epoch 1/10 - Train Loss: 0.36264, Val Loss: 0.29559\n",
            "Epoch 6/10 - Train Loss: 0.13780, Val Loss: 0.39208\n"
          ]
        },
        {
          "output_type": "stream",
          "name": "stderr",
          "text": [
            "\rHyperparameter Tuning:  81%|████████  | 174/216 [40:51<08:32, 12.19s/it]"
          ]
        },
        {
          "output_type": "stream",
          "name": "stdout",
          "text": [
            "\n",
            "Testing parameters: {'batch_norm': True, 'batch_size': 64, 'dropout': 0.5, 'hidden_layers': [256, 128], 'learning_rate': 0.0001}\n",
            "Epoch 1/10 - Train Loss: 0.52906, Val Loss: 0.34310\n",
            "Epoch 6/10 - Train Loss: 0.18976, Val Loss: 0.30614\n"
          ]
        },
        {
          "output_type": "stream",
          "name": "stderr",
          "text": [
            "\rHyperparameter Tuning:  81%|████████  | 175/216 [41:03<08:19, 12.17s/it]"
          ]
        },
        {
          "output_type": "stream",
          "name": "stdout",
          "text": [
            "\n",
            "Testing parameters: {'batch_norm': True, 'batch_size': 64, 'dropout': 0.5, 'hidden_layers': [256, 128], 'learning_rate': 0.001}\n",
            "Epoch 1/10 - Train Loss: 0.36192, Val Loss: 0.29042\n",
            "Epoch 6/10 - Train Loss: 0.11599, Val Loss: 0.40210\n"
          ]
        },
        {
          "output_type": "stream",
          "name": "stderr",
          "text": [
            "\rHyperparameter Tuning:  81%|████████▏ | 176/216 [41:16<08:07, 12.20s/it]"
          ]
        },
        {
          "output_type": "stream",
          "name": "stdout",
          "text": [
            "\n",
            "Testing parameters: {'batch_norm': True, 'batch_size': 64, 'dropout': 0.5, 'hidden_layers': [256, 128], 'learning_rate': 0.005}\n",
            "Epoch 1/10 - Train Loss: 0.35538, Val Loss: 0.29690\n",
            "Epoch 6/10 - Train Loss: 0.10717, Val Loss: 0.42231\n"
          ]
        },
        {
          "output_type": "stream",
          "name": "stderr",
          "text": [
            "\rHyperparameter Tuning:  82%|████████▏ | 177/216 [41:28<07:56, 12.21s/it]"
          ]
        },
        {
          "output_type": "stream",
          "name": "stdout",
          "text": [
            "\n",
            "Testing parameters: {'batch_norm': True, 'batch_size': 64, 'dropout': 0.5, 'hidden_layers': [128, 64, 32], 'learning_rate': 0.0001}\n",
            "Epoch 1/10 - Train Loss: 0.69868, Val Loss: 0.59458\n",
            "Epoch 6/10 - Train Loss: 0.28494, Val Loss: 0.28646\n"
          ]
        },
        {
          "output_type": "stream",
          "name": "stderr",
          "text": [
            "\rHyperparameter Tuning:  82%|████████▏ | 178/216 [41:42<08:02, 12.70s/it]"
          ]
        },
        {
          "output_type": "stream",
          "name": "stdout",
          "text": [
            "\n",
            "Testing parameters: {'batch_norm': True, 'batch_size': 64, 'dropout': 0.5, 'hidden_layers': [128, 64, 32], 'learning_rate': 0.001}\n",
            "Epoch 1/10 - Train Loss: 0.44512, Val Loss: 0.30932\n",
            "Epoch 6/10 - Train Loss: 0.17730, Val Loss: 0.34335\n"
          ]
        },
        {
          "output_type": "stream",
          "name": "stderr",
          "text": [
            "\rHyperparameter Tuning:  83%|████████▎ | 179/216 [41:56<08:02, 13.03s/it]"
          ]
        },
        {
          "output_type": "stream",
          "name": "stdout",
          "text": [
            "\n",
            "Testing parameters: {'batch_norm': True, 'batch_size': 64, 'dropout': 0.5, 'hidden_layers': [128, 64, 32], 'learning_rate': 0.005}\n",
            "Epoch 1/10 - Train Loss: 0.38906, Val Loss: 0.29676\n",
            "Epoch 6/10 - Train Loss: 0.15567, Val Loss: 0.36242\n"
          ]
        },
        {
          "output_type": "stream",
          "name": "stderr",
          "text": [
            "\rHyperparameter Tuning:  83%|████████▎ | 180/216 [42:10<08:01, 13.36s/it]"
          ]
        },
        {
          "output_type": "stream",
          "name": "stdout",
          "text": [
            "\n",
            "Testing parameters: {'batch_norm': True, 'batch_size': 128, 'dropout': 0.0, 'hidden_layers': [64, 32], 'learning_rate': 0.0001}\n",
            "Epoch 1/10 - Train Loss: 0.53109, Val Loss: 0.41102\n",
            "Epoch 6/10 - Train Loss: 0.13949, Val Loss: 0.32020\n"
          ]
        },
        {
          "output_type": "stream",
          "name": "stderr",
          "text": [
            "\rHyperparameter Tuning:  84%|████████▍ | 181/216 [42:17<06:41, 11.48s/it]"
          ]
        },
        {
          "output_type": "stream",
          "name": "stdout",
          "text": [
            "\n",
            "Testing parameters: {'batch_norm': True, 'batch_size': 128, 'dropout': 0.0, 'hidden_layers': [64, 32], 'learning_rate': 0.001}\n",
            "Epoch 1/10 - Train Loss: 0.34506, Val Loss: 0.29524\n",
            "Epoch 6/10 - Train Loss: 0.02098, Val Loss: 0.53403\n"
          ]
        },
        {
          "output_type": "stream",
          "name": "stderr",
          "text": [
            "\rHyperparameter Tuning:  84%|████████▍ | 182/216 [42:24<05:49, 10.28s/it]"
          ]
        },
        {
          "output_type": "stream",
          "name": "stdout",
          "text": [
            "\n",
            "Testing parameters: {'batch_norm': True, 'batch_size': 128, 'dropout': 0.0, 'hidden_layers': [64, 32], 'learning_rate': 0.005}\n",
            "Epoch 1/10 - Train Loss: 0.33189, Val Loss: 0.29620\n",
            "Epoch 6/10 - Train Loss: 0.03237, Val Loss: 0.64411\n"
          ]
        },
        {
          "output_type": "stream",
          "name": "stderr",
          "text": [
            "\rHyperparameter Tuning:  85%|████████▍ | 183/216 [42:31<05:06,  9.28s/it]"
          ]
        },
        {
          "output_type": "stream",
          "name": "stdout",
          "text": [
            "\n",
            "Testing parameters: {'batch_norm': True, 'batch_size': 128, 'dropout': 0.0, 'hidden_layers': [128, 64], 'learning_rate': 0.0001}\n",
            "Epoch 1/10 - Train Loss: 0.49297, Val Loss: 0.35393\n",
            "Epoch 6/10 - Train Loss: 0.07521, Val Loss: 0.33272\n"
          ]
        },
        {
          "output_type": "stream",
          "name": "stderr",
          "text": [
            "\rHyperparameter Tuning:  85%|████████▌ | 184/216 [42:39<04:39,  8.75s/it]"
          ]
        },
        {
          "output_type": "stream",
          "name": "stdout",
          "text": [
            "\n",
            "Testing parameters: {'batch_norm': True, 'batch_size': 128, 'dropout': 0.0, 'hidden_layers': [128, 64], 'learning_rate': 0.001}\n",
            "Epoch 1/10 - Train Loss: 0.33644, Val Loss: 0.29095\n",
            "Epoch 6/10 - Train Loss: 0.01601, Val Loss: 0.56894\n"
          ]
        },
        {
          "output_type": "stream",
          "name": "stderr",
          "text": [
            "\rHyperparameter Tuning:  86%|████████▌ | 185/216 [42:46<04:16,  8.26s/it]"
          ]
        },
        {
          "output_type": "stream",
          "name": "stdout",
          "text": [
            "\n",
            "Testing parameters: {'batch_norm': True, 'batch_size': 128, 'dropout': 0.0, 'hidden_layers': [128, 64], 'learning_rate': 0.005}\n",
            "Epoch 1/10 - Train Loss: 0.33111, Val Loss: 0.29212\n",
            "Epoch 6/10 - Train Loss: 0.03230, Val Loss: 0.66547\n"
          ]
        },
        {
          "output_type": "stream",
          "name": "stderr",
          "text": [
            "\rHyperparameter Tuning:  86%|████████▌ | 186/216 [42:53<03:58,  7.96s/it]"
          ]
        },
        {
          "output_type": "stream",
          "name": "stdout",
          "text": [
            "\n",
            "Testing parameters: {'batch_norm': True, 'batch_size': 128, 'dropout': 0.0, 'hidden_layers': [256, 128], 'learning_rate': 0.0001}\n",
            "Epoch 1/10 - Train Loss: 0.43668, Val Loss: 0.30834\n",
            "Epoch 6/10 - Train Loss: 0.02616, Val Loss: 0.36857\n"
          ]
        },
        {
          "output_type": "stream",
          "name": "stderr",
          "text": [
            "\rHyperparameter Tuning:  87%|████████▋ | 187/216 [43:01<03:47,  7.84s/it]"
          ]
        },
        {
          "output_type": "stream",
          "name": "stdout",
          "text": [
            "\n",
            "Testing parameters: {'batch_norm': True, 'batch_size': 128, 'dropout': 0.0, 'hidden_layers': [256, 128], 'learning_rate': 0.001}\n",
            "Epoch 1/10 - Train Loss: 0.33036, Val Loss: 0.29132\n",
            "Epoch 6/10 - Train Loss: 0.01003, Val Loss: 0.65327\n"
          ]
        },
        {
          "output_type": "stream",
          "name": "stderr",
          "text": [
            "\rHyperparameter Tuning:  87%|████████▋ | 188/216 [43:08<03:32,  7.57s/it]"
          ]
        },
        {
          "output_type": "stream",
          "name": "stdout",
          "text": [
            "\n",
            "Testing parameters: {'batch_norm': True, 'batch_size': 128, 'dropout': 0.0, 'hidden_layers': [256, 128], 'learning_rate': 0.005}\n",
            "Epoch 1/10 - Train Loss: 0.33100, Val Loss: 0.29684\n",
            "Epoch 6/10 - Train Loss: 0.02654, Val Loss: 0.67629\n"
          ]
        },
        {
          "output_type": "stream",
          "name": "stderr",
          "text": [
            "\rHyperparameter Tuning:  88%|████████▊ | 189/216 [43:15<03:24,  7.56s/it]"
          ]
        },
        {
          "output_type": "stream",
          "name": "stdout",
          "text": [
            "\n",
            "Testing parameters: {'batch_norm': True, 'batch_size': 128, 'dropout': 0.0, 'hidden_layers': [128, 64, 32], 'learning_rate': 0.0001}\n",
            "Epoch 1/10 - Train Loss: 0.56932, Val Loss: 0.41937\n",
            "Epoch 6/10 - Train Loss: 0.07415, Val Loss: 0.33499\n"
          ]
        },
        {
          "output_type": "stream",
          "name": "stderr",
          "text": [
            "\rHyperparameter Tuning:  88%|████████▊ | 190/216 [43:23<03:21,  7.74s/it]"
          ]
        },
        {
          "output_type": "stream",
          "name": "stdout",
          "text": [
            "\n",
            "Testing parameters: {'batch_norm': True, 'batch_size': 128, 'dropout': 0.0, 'hidden_layers': [128, 64, 32], 'learning_rate': 0.001}\n",
            "Epoch 1/10 - Train Loss: 0.35105, Val Loss: 0.29633\n",
            "Epoch 6/10 - Train Loss: 0.02501, Val Loss: 0.60970\n"
          ]
        },
        {
          "output_type": "stream",
          "name": "stderr",
          "text": [
            "\rHyperparameter Tuning:  88%|████████▊ | 191/216 [43:31<03:13,  7.75s/it]"
          ]
        },
        {
          "output_type": "stream",
          "name": "stdout",
          "text": [
            "\n",
            "Testing parameters: {'batch_norm': True, 'batch_size': 128, 'dropout': 0.0, 'hidden_layers': [128, 64, 32], 'learning_rate': 0.005}\n",
            "Epoch 1/10 - Train Loss: 0.33609, Val Loss: 0.29646\n",
            "Epoch 6/10 - Train Loss: 0.03943, Val Loss: 0.54485\n"
          ]
        },
        {
          "output_type": "stream",
          "name": "stderr",
          "text": [
            "\rHyperparameter Tuning:  89%|████████▉ | 192/216 [43:39<03:09,  7.89s/it]"
          ]
        },
        {
          "output_type": "stream",
          "name": "stdout",
          "text": [
            "\n",
            "Testing parameters: {'batch_norm': True, 'batch_size': 128, 'dropout': 0.2, 'hidden_layers': [64, 32], 'learning_rate': 0.0001}\n",
            "Epoch 1/10 - Train Loss: 0.57971, Val Loss: 0.45227\n",
            "Epoch 6/10 - Train Loss: 0.20373, Val Loss: 0.29276\n"
          ]
        },
        {
          "output_type": "stream",
          "name": "stderr",
          "text": [
            "\rHyperparameter Tuning:  89%|████████▉ | 193/216 [43:47<02:57,  7.73s/it]"
          ]
        },
        {
          "output_type": "stream",
          "name": "stdout",
          "text": [
            "\n",
            "Testing parameters: {'batch_norm': True, 'batch_size': 128, 'dropout': 0.2, 'hidden_layers': [64, 32], 'learning_rate': 0.001}\n",
            "Epoch 1/10 - Train Loss: 0.37697, Val Loss: 0.28976\n",
            "Epoch 6/10 - Train Loss: 0.07618, Val Loss: 0.45582\n"
          ]
        },
        {
          "output_type": "stream",
          "name": "stderr",
          "text": [
            "\rHyperparameter Tuning:  90%|████████▉ | 194/216 [43:54<02:48,  7.67s/it]"
          ]
        },
        {
          "output_type": "stream",
          "name": "stdout",
          "text": [
            "\n",
            "Testing parameters: {'batch_norm': True, 'batch_size': 128, 'dropout': 0.2, 'hidden_layers': [64, 32], 'learning_rate': 0.005}\n",
            "Epoch 1/10 - Train Loss: 0.34634, Val Loss: 0.29736\n",
            "Epoch 6/10 - Train Loss: 0.08177, Val Loss: 0.48846\n"
          ]
        },
        {
          "output_type": "stream",
          "name": "stderr",
          "text": [
            "\rHyperparameter Tuning:  90%|█████████ | 195/216 [44:02<02:41,  7.68s/it]"
          ]
        },
        {
          "output_type": "stream",
          "name": "stdout",
          "text": [
            "\n",
            "Testing parameters: {'batch_norm': True, 'batch_size': 128, 'dropout': 0.2, 'hidden_layers': [128, 64], 'learning_rate': 0.0001}\n",
            "Epoch 1/10 - Train Loss: 0.51982, Val Loss: 0.36965\n",
            "Epoch 6/10 - Train Loss: 0.15281, Val Loss: 0.31045\n"
          ]
        },
        {
          "output_type": "stream",
          "name": "stderr",
          "text": [
            "\rHyperparameter Tuning:  91%|█████████ | 196/216 [44:09<02:30,  7.52s/it]"
          ]
        },
        {
          "output_type": "stream",
          "name": "stdout",
          "text": [
            "\n",
            "Testing parameters: {'batch_norm': True, 'batch_size': 128, 'dropout': 0.2, 'hidden_layers': [128, 64], 'learning_rate': 0.001}\n",
            "Epoch 1/10 - Train Loss: 0.34860, Val Loss: 0.28936\n",
            "Epoch 6/10 - Train Loss: 0.05696, Val Loss: 0.50253\n"
          ]
        },
        {
          "output_type": "stream",
          "name": "stderr",
          "text": [
            "\rHyperparameter Tuning:  91%|█████████ | 197/216 [44:17<02:24,  7.60s/it]"
          ]
        },
        {
          "output_type": "stream",
          "name": "stdout",
          "text": [
            "\n",
            "Testing parameters: {'batch_norm': True, 'batch_size': 128, 'dropout': 0.2, 'hidden_layers': [128, 64], 'learning_rate': 0.005}\n",
            "Epoch 1/10 - Train Loss: 0.33670, Val Loss: 0.29394\n",
            "Epoch 6/10 - Train Loss: 0.05625, Val Loss: 0.53342\n"
          ]
        },
        {
          "output_type": "stream",
          "name": "stderr",
          "text": [
            "\rHyperparameter Tuning:  92%|█████████▏| 198/216 [44:25<02:17,  7.64s/it]"
          ]
        },
        {
          "output_type": "stream",
          "name": "stdout",
          "text": [
            "\n",
            "Testing parameters: {'batch_norm': True, 'batch_size': 128, 'dropout': 0.2, 'hidden_layers': [256, 128], 'learning_rate': 0.0001}\n",
            "Epoch 1/10 - Train Loss: 0.47454, Val Loss: 0.32323\n",
            "Epoch 6/10 - Train Loss: 0.10073, Val Loss: 0.33753\n"
          ]
        },
        {
          "output_type": "stream",
          "name": "stderr",
          "text": [
            "\rHyperparameter Tuning:  92%|█████████▏| 199/216 [44:32<02:08,  7.54s/it]"
          ]
        },
        {
          "output_type": "stream",
          "name": "stdout",
          "text": [
            "\n",
            "Testing parameters: {'batch_norm': True, 'batch_size': 128, 'dropout': 0.2, 'hidden_layers': [256, 128], 'learning_rate': 0.001}\n",
            "Epoch 1/10 - Train Loss: 0.33643, Val Loss: 0.29373\n",
            "Epoch 6/10 - Train Loss: 0.04565, Val Loss: 0.56929\n"
          ]
        },
        {
          "output_type": "stream",
          "name": "stderr",
          "text": [
            "\rHyperparameter Tuning:  93%|█████████▎| 200/216 [44:40<02:02,  7.63s/it]"
          ]
        },
        {
          "output_type": "stream",
          "name": "stdout",
          "text": [
            "\n",
            "Testing parameters: {'batch_norm': True, 'batch_size': 128, 'dropout': 0.2, 'hidden_layers': [256, 128], 'learning_rate': 0.005}\n",
            "Epoch 1/10 - Train Loss: 0.33728, Val Loss: 0.29341\n",
            "Epoch 6/10 - Train Loss: 0.04084, Val Loss: 0.58942\n"
          ]
        },
        {
          "output_type": "stream",
          "name": "stderr",
          "text": [
            "\rHyperparameter Tuning:  93%|█████████▎| 201/216 [44:47<01:52,  7.53s/it]"
          ]
        },
        {
          "output_type": "stream",
          "name": "stdout",
          "text": [
            "\n",
            "Testing parameters: {'batch_norm': True, 'batch_size': 128, 'dropout': 0.2, 'hidden_layers': [128, 64, 32], 'learning_rate': 0.0001}\n",
            "Epoch 1/10 - Train Loss: 0.58572, Val Loss: 0.43298\n",
            "Epoch 6/10 - Train Loss: 0.18360, Val Loss: 0.30407\n"
          ]
        },
        {
          "output_type": "stream",
          "name": "stderr",
          "text": [
            "\rHyperparameter Tuning:  94%|█████████▎| 202/216 [44:56<01:49,  7.82s/it]"
          ]
        },
        {
          "output_type": "stream",
          "name": "stdout",
          "text": [
            "\n",
            "Testing parameters: {'batch_norm': True, 'batch_size': 128, 'dropout': 0.2, 'hidden_layers': [128, 64, 32], 'learning_rate': 0.001}\n",
            "Epoch 1/10 - Train Loss: 0.37611, Val Loss: 0.29485\n",
            "Epoch 6/10 - Train Loss: 0.07311, Val Loss: 0.50243\n"
          ]
        },
        {
          "output_type": "stream",
          "name": "stderr",
          "text": [
            "\rHyperparameter Tuning:  94%|█████████▍| 203/216 [45:04<01:44,  8.06s/it]"
          ]
        },
        {
          "output_type": "stream",
          "name": "stdout",
          "text": [
            "\n",
            "Testing parameters: {'batch_norm': True, 'batch_size': 128, 'dropout': 0.2, 'hidden_layers': [128, 64, 32], 'learning_rate': 0.005}\n",
            "Epoch 1/10 - Train Loss: 0.34610, Val Loss: 0.28961\n",
            "Epoch 6/10 - Train Loss: 0.06246, Val Loss: 0.48438\n"
          ]
        },
        {
          "output_type": "stream",
          "name": "stderr",
          "text": [
            "\rHyperparameter Tuning:  94%|█████████▍| 204/216 [45:13<01:38,  8.20s/it]"
          ]
        },
        {
          "output_type": "stream",
          "name": "stdout",
          "text": [
            "\n",
            "Testing parameters: {'batch_norm': True, 'batch_size': 128, 'dropout': 0.5, 'hidden_layers': [64, 32], 'learning_rate': 0.0001}\n",
            "Epoch 1/10 - Train Loss: 0.65626, Val Loss: 0.53098\n",
            "Epoch 6/10 - Train Loss: 0.29642, Val Loss: 0.29104\n"
          ]
        },
        {
          "output_type": "stream",
          "name": "stderr",
          "text": [
            "\rHyperparameter Tuning:  95%|█████████▍| 205/216 [45:20<01:27,  7.92s/it]"
          ]
        },
        {
          "output_type": "stream",
          "name": "stdout",
          "text": [
            "\n",
            "Testing parameters: {'batch_norm': True, 'batch_size': 128, 'dropout': 0.5, 'hidden_layers': [64, 32], 'learning_rate': 0.001}\n",
            "Epoch 1/10 - Train Loss: 0.43139, Val Loss: 0.29156\n",
            "Epoch 6/10 - Train Loss: 0.17769, Val Loss: 0.34387\n"
          ]
        },
        {
          "output_type": "stream",
          "name": "stderr",
          "text": [
            "\rHyperparameter Tuning:  95%|█████████▌| 206/216 [45:28<01:18,  7.86s/it]"
          ]
        },
        {
          "output_type": "stream",
          "name": "stdout",
          "text": [
            "\n",
            "Testing parameters: {'batch_norm': True, 'batch_size': 128, 'dropout': 0.5, 'hidden_layers': [64, 32], 'learning_rate': 0.005}\n",
            "Epoch 1/10 - Train Loss: 0.37644, Val Loss: 0.29292\n",
            "Epoch 6/10 - Train Loss: 0.16321, Val Loss: 0.35717\n"
          ]
        },
        {
          "output_type": "stream",
          "name": "stderr",
          "text": [
            "\rHyperparameter Tuning:  96%|█████████▌| 207/216 [45:35<01:09,  7.68s/it]"
          ]
        },
        {
          "output_type": "stream",
          "name": "stdout",
          "text": [
            "\n",
            "Testing parameters: {'batch_norm': True, 'batch_size': 128, 'dropout': 0.5, 'hidden_layers': [128, 64], 'learning_rate': 0.0001}\n",
            "Epoch 1/10 - Train Loss: 0.63092, Val Loss: 0.45772\n",
            "Epoch 6/10 - Train Loss: 0.25296, Val Loss: 0.28272\n"
          ]
        },
        {
          "output_type": "stream",
          "name": "stderr",
          "text": [
            "\rHyperparameter Tuning:  96%|█████████▋| 208/216 [45:43<01:01,  7.71s/it]"
          ]
        },
        {
          "output_type": "stream",
          "name": "stdout",
          "text": [
            "\n",
            "Testing parameters: {'batch_norm': True, 'batch_size': 128, 'dropout': 0.5, 'hidden_layers': [128, 64], 'learning_rate': 0.001}\n",
            "Epoch 1/10 - Train Loss: 0.38859, Val Loss: 0.28517\n",
            "Epoch 6/10 - Train Loss: 0.13012, Val Loss: 0.38112\n"
          ]
        },
        {
          "output_type": "stream",
          "name": "stderr",
          "text": [
            "\rHyperparameter Tuning:  97%|█████████▋| 209/216 [45:50<00:54,  7.72s/it]"
          ]
        },
        {
          "output_type": "stream",
          "name": "stdout",
          "text": [
            "\n",
            "Testing parameters: {'batch_norm': True, 'batch_size': 128, 'dropout': 0.5, 'hidden_layers': [128, 64], 'learning_rate': 0.005}\n",
            "Epoch 1/10 - Train Loss: 0.35662, Val Loss: 0.29062\n",
            "Epoch 6/10 - Train Loss: 0.11862, Val Loss: 0.37858\n"
          ]
        },
        {
          "output_type": "stream",
          "name": "stderr",
          "text": [
            "\rHyperparameter Tuning:  97%|█████████▋| 210/216 [45:58<00:45,  7.56s/it]"
          ]
        },
        {
          "output_type": "stream",
          "name": "stdout",
          "text": [
            "\n",
            "Testing parameters: {'batch_norm': True, 'batch_size': 128, 'dropout': 0.5, 'hidden_layers': [256, 128], 'learning_rate': 0.0001}\n",
            "Epoch 1/10 - Train Loss: 0.58080, Val Loss: 0.39645\n",
            "Epoch 6/10 - Train Loss: 0.21178, Val Loss: 0.28958\n"
          ]
        },
        {
          "output_type": "stream",
          "name": "stderr",
          "text": [
            "\rHyperparameter Tuning:  98%|█████████▊| 211/216 [46:05<00:38,  7.64s/it]"
          ]
        },
        {
          "output_type": "stream",
          "name": "stdout",
          "text": [
            "\n",
            "Testing parameters: {'batch_norm': True, 'batch_size': 128, 'dropout': 0.5, 'hidden_layers': [256, 128], 'learning_rate': 0.001}\n",
            "Epoch 1/10 - Train Loss: 0.36756, Val Loss: 0.28892\n",
            "Epoch 6/10 - Train Loss: 0.10024, Val Loss: 0.42495\n"
          ]
        },
        {
          "output_type": "stream",
          "name": "stderr",
          "text": [
            "\rHyperparameter Tuning:  98%|█████████▊| 212/216 [46:13<00:30,  7.63s/it]"
          ]
        },
        {
          "output_type": "stream",
          "name": "stdout",
          "text": [
            "\n",
            "Testing parameters: {'batch_norm': True, 'batch_size': 128, 'dropout': 0.5, 'hidden_layers': [256, 128], 'learning_rate': 0.005}\n",
            "Epoch 1/10 - Train Loss: 0.34883, Val Loss: 0.29319\n",
            "Epoch 6/10 - Train Loss: 0.08966, Val Loss: 0.43627\n"
          ]
        },
        {
          "output_type": "stream",
          "name": "stderr",
          "text": [
            "\rHyperparameter Tuning:  99%|█████████▊| 213/216 [46:21<00:22,  7.60s/it]"
          ]
        },
        {
          "output_type": "stream",
          "name": "stdout",
          "text": [
            "\n",
            "Testing parameters: {'batch_norm': True, 'batch_size': 128, 'dropout': 0.5, 'hidden_layers': [128, 64, 32], 'learning_rate': 0.0001}\n",
            "Epoch 1/10 - Train Loss: 0.72654, Val Loss: 0.63856\n",
            "Epoch 6/10 - Train Loss: 0.34011, Val Loss: 0.30305\n"
          ]
        },
        {
          "output_type": "stream",
          "name": "stderr",
          "text": [
            "\rHyperparameter Tuning:  99%|█████████▉| 214/216 [46:29<00:15,  7.93s/it]"
          ]
        },
        {
          "output_type": "stream",
          "name": "stdout",
          "text": [
            "\n",
            "Testing parameters: {'batch_norm': True, 'batch_size': 128, 'dropout': 0.5, 'hidden_layers': [128, 64, 32], 'learning_rate': 0.001}\n",
            "Epoch 1/10 - Train Loss: 0.46394, Val Loss: 0.29223\n",
            "Epoch 6/10 - Train Loss: 0.16769, Val Loss: 0.34906\n"
          ]
        },
        {
          "output_type": "stream",
          "name": "stderr",
          "text": [
            "\rHyperparameter Tuning: 100%|█████████▉| 215/216 [46:38<00:08,  8.10s/it]"
          ]
        },
        {
          "output_type": "stream",
          "name": "stdout",
          "text": [
            "\n",
            "Testing parameters: {'batch_norm': True, 'batch_size': 128, 'dropout': 0.5, 'hidden_layers': [128, 64, 32], 'learning_rate': 0.005}\n",
            "Epoch 1/10 - Train Loss: 0.38741, Val Loss: 0.29510\n",
            "Epoch 6/10 - Train Loss: 0.14380, Val Loss: 0.40024\n"
          ]
        },
        {
          "output_type": "stream",
          "name": "stderr",
          "text": [
            "Hyperparameter Tuning: 100%|██████████| 216/216 [46:46<00:00, 12.99s/it]"
          ]
        },
        {
          "output_type": "stream",
          "name": "stdout",
          "text": [
            "\n",
            "Top 3 hyperparameter configurations:\n",
            "1. Val Loss: 0.27828, Params: {'batch_norm': False, 'batch_size': 128, 'dropout': 0.5, 'hidden_layers': [64, 32], 'learning_rate': 0.0001}\n",
            "2. Val Loss: 0.27956, Params: {'batch_norm': False, 'batch_size': 128, 'dropout': 0.2, 'hidden_layers': [64, 32], 'learning_rate': 0.0001}\n",
            "3. Val Loss: 0.27977, Params: {'batch_norm': False, 'batch_size': 128, 'dropout': 0.0, 'hidden_layers': [64, 32], 'learning_rate': 0.0001}\n",
            "Best parameters: {'batch_norm': False, 'batch_size': 128, 'dropout': 0.5, 'hidden_layers': [64, 32], 'learning_rate': 0.0001}\n"
          ]
        },
        {
          "output_type": "stream",
          "name": "stderr",
          "text": [
            "\n"
          ]
        }
      ]
    },
    {
      "cell_type": "code",
      "source": [
        "batch_size = best_params['batch_size']  # Use the best batch size\n",
        "\n",
        "train_dataset = TensorDataset(torch.FloatTensor(X_train).to(device), torch.LongTensor(y_train).to(device))\n",
        "val_dataset = TensorDataset(torch.FloatTensor(X_val).to(device), torch.LongTensor(y_val).to(device))\n",
        "test_dataset = TensorDataset(torch.FloatTensor(X_test).to(device), torch.LongTensor(y_test).to(device))\n",
        "train_loader = DataLoader(train_dataset, batch_size=batch_size, shuffle=True)\n",
        "val_loader = DataLoader(val_dataset, batch_size=batch_size)\n",
        "test_loader = DataLoader(test_dataset, batch_size=batch_size)\n",
        "\n",
        "input_dim = X_train.shape[1]"
      ],
      "metadata": {
        "id": "LZur5F9rbxWK"
      },
      "execution_count": 57,
      "outputs": []
    },
    {
      "cell_type": "code",
      "source": [
        "# 4. Use the best learning rate for the optimizer\n",
        "criterion = nn.CrossEntropyLoss()\n",
        "optimizer = optim.Adam(best_model.parameters(), lr=best_params['learning_rate'])\n",
        "\n",
        "# Train the model with the enhanced function\n",
        "model, train_losses, val_losses = train_model(\n",
        "    model=best_model,\n",
        "    train_loader=train_loader,\n",
        "    val_loader=val_loader,\n",
        "    test_loader=test_loader,  # Added test_loader\n",
        "    criterion=criterion,\n",
        "    optimizer=optimizer,\n",
        "    epochs=20,\n",
        "    device=device,\n",
        "    patience=5\n",
        ")"
      ],
      "metadata": {
        "colab": {
          "base_uri": "https://localhost:8080/"
        },
        "id": "LCmRFoAtTOjF",
        "outputId": "2ab73316-1666-4969-91b7-a4de21164558"
      },
      "execution_count": 60,
      "outputs": [
        {
          "output_type": "stream",
          "name": "stderr",
          "text": [
            "Epoch 1/20 (Training): 100%|██████████| 192/192 [00:00<00:00, 359.98it/s]\n",
            "Epoch 1/20 (Validation): 100%|██████████| 83/83 [00:00<00:00, 724.75it/s]\n"
          ]
        },
        {
          "output_type": "stream",
          "name": "stdout",
          "text": [
            "Epoch 1/20 - Train Loss: 0.26996, Val Loss: 0.27852\n",
            "Model improved - saving to best_sentiment_mlp_model.pt\n"
          ]
        },
        {
          "output_type": "stream",
          "name": "stderr",
          "text": [
            "Epoch 2/20 (Training): 100%|██████████| 192/192 [00:00<00:00, 287.59it/s]\n",
            "Epoch 2/20 (Validation): 100%|██████████| 83/83 [00:00<00:00, 284.70it/s]\n"
          ]
        },
        {
          "output_type": "stream",
          "name": "stdout",
          "text": [
            "Epoch 2/20 - Train Loss: 0.26471, Val Loss: 0.27916\n",
            "Patience: 1/5\n"
          ]
        },
        {
          "output_type": "stream",
          "name": "stderr",
          "text": [
            "Epoch 3/20 (Training): 100%|██████████| 192/192 [00:01<00:00, 124.36it/s]\n",
            "Epoch 3/20 (Validation): 100%|██████████| 83/83 [00:00<00:00, 173.11it/s]\n"
          ]
        },
        {
          "output_type": "stream",
          "name": "stdout",
          "text": [
            "Epoch 3/20 - Train Loss: 0.26031, Val Loss: 0.28008\n",
            "Patience: 2/5\n"
          ]
        },
        {
          "output_type": "stream",
          "name": "stderr",
          "text": [
            "Epoch 4/20 (Training): 100%|██████████| 192/192 [00:01<00:00, 155.75it/s]\n",
            "Epoch 4/20 (Validation): 100%|██████████| 83/83 [00:00<00:00, 712.49it/s]\n"
          ]
        },
        {
          "output_type": "stream",
          "name": "stdout",
          "text": [
            "Epoch 4/20 - Train Loss: 0.25883, Val Loss: 0.28101\n",
            "Patience: 3/5\n"
          ]
        },
        {
          "output_type": "stream",
          "name": "stderr",
          "text": [
            "Epoch 5/20 (Training): 100%|██████████| 192/192 [00:00<00:00, 362.40it/s]\n",
            "Epoch 5/20 (Validation): 100%|██████████| 83/83 [00:00<00:00, 729.57it/s]\n"
          ]
        },
        {
          "output_type": "stream",
          "name": "stdout",
          "text": [
            "Epoch 5/20 - Train Loss: 0.25605, Val Loss: 0.28205\n",
            "Patience: 4/5\n"
          ]
        },
        {
          "output_type": "stream",
          "name": "stderr",
          "text": [
            "Epoch 6/20 (Training): 100%|██████████| 192/192 [00:00<00:00, 359.58it/s]\n",
            "Epoch 6/20 (Validation): 100%|██████████| 83/83 [00:00<00:00, 739.93it/s]"
          ]
        },
        {
          "output_type": "stream",
          "name": "stdout",
          "text": [
            "Epoch 6/20 - Train Loss: 0.25343, Val Loss: 0.28312\n",
            "Patience: 5/5\n",
            "Early stopping after 6 epochs\n"
          ]
        },
        {
          "output_type": "stream",
          "name": "stderr",
          "text": [
            "\n"
          ]
        }
      ]
    },
    {
      "cell_type": "code",
      "source": [
        "# Plot loss curves\n",
        "plot_loss_curves(train_losses, val_losses, title=\"Sentiment MLP Classifier\")\n",
        "\n",
        "# Get detailed evaluation metrics\n",
        "all_metrics = evaluate_model_detailed(model, train_loader, val_loader, test_loader)\n",
        "\n",
        "# Store results for potential comparison with other models\n",
        "results = {\n",
        "    \"model\": model,\n",
        "    \"train_losses\": train_losses,\n",
        "    \"val_losses\": val_losses,\n",
        "    \"all_metrics\": all_metrics\n",
        "}"
      ],
      "metadata": {
        "colab": {
          "base_uri": "https://localhost:8080/",
          "height": 1000
        },
        "id": "1kEhoySycHjB",
        "outputId": "b038af8b-a550-49b4-c204-b5821e8d41f0"
      },
      "execution_count": 59,
      "outputs": [
        {
          "output_type": "display_data",
          "data": {
            "text/plain": [
              "<Figure size 1000x600 with 1 Axes>"
            ],
            "image/png": "[encoded data removed]"
          },
          "metadata": {}
        },
        {
          "output_type": "stream",
          "name": "stdout",
          "text": [
            "\n",
            "=== PER-CLASS METRICS ===\n",
            "Class     Split     Precision   Recall      F1          PR-AUC      \n",
            "-----------------------------------------------------------------\n",
            "0         Train     0.9091        0.8992        0.9041        0.9663\n",
            "0         Dev       0.8872        0.8817        0.8844        0.9559\n",
            "0         Test      0.8783        0.8741        0.8762        0.9498\n",
            "-----------------------------------------------------------------\n",
            "1         Train     0.9007        0.9104        0.9055        0.9650\n",
            "1         Dev       0.8814        0.8869        0.8841        0.9496\n",
            "1         Test      0.8747        0.8789        0.8768        0.9470\n",
            "-----------------------------------------------------------------\n",
            "\n",
            "=== MACRO-AVERAGED METRICS ===\n",
            "Split     Accuracy    Precision   Recall      F1          PR-AUC      \n",
            "-----------------------------------------------------------------\n",
            "Train     0.9048        0.9049        0.9048        0.9048        0.9656\n",
            "Dev       0.8843        0.8843        0.8843        0.8843        0.9527\n",
            "Test      0.8765        0.8765        0.8765        0.8765        0.9484\n"
          ]
        },
        {
          "output_type": "display_data",
          "data": {
            "text/plain": [
              "<Figure size 1800x1000 with 6 Axes>"
            ],
            "image/png": "[encoded data removed]"
          },
          "metadata": {}
        }
      ]
    },
    {
      "cell_type": "code",
      "source": [
        "# Create the comparison with the correct structures\n",
        "models_comparison = {\n",
        "    'Baseline': baseline_metrics,\n",
        "    'MLP Classifier': all_metrics\n",
        "}\n",
        "\n",
        "# Print comparison table for test set\n",
        "print(\"\\n=== MODEL COMPARISON (TEST SET) ===\")\n",
        "print(f\"{'Model':<20}{'Accuracy':<12}{'Precision':<12}{'Recall':<12}{'F1':<12}{'PR-AUC':<12}\")\n",
        "print(\"-\" * 75)\n",
        "\n",
        "for model_name, metrics in models_comparison.items():\n",
        "    # Access test metrics based on the different structures\n",
        "    if model_name == 'Baseline':\n",
        "        test_metrics = metrics['test']\n",
        "    else:  # MLP Classifier\n",
        "        test_metrics = metrics['test']['macro']  # The MLP metrics have a nested 'macro' key\n",
        "\n",
        "    print(f\"{model_name:<20}{test_metrics['accuracy']:.4f}{' '*8}{test_metrics['macro_precision']:.4f}{' '*8}{test_metrics['macro_recall']:.4f}{' '*8}{test_metrics['macro_f1']:.4f}{' '*8}{test_metrics['macro_pr_auc']:.4f}\")"
      ],
      "metadata": {
        "id": "ymgLEoPL2--Z",
        "outputId": "2f179b12-4397-4228-eafd-b76573466da7",
        "colab": {
          "base_uri": "https://localhost:8080/"
        }
      },
      "execution_count": 73,
      "outputs": [
        {
          "output_type": "stream",
          "name": "stdout",
          "text": [
            "\n",
            "=== MODEL COMPARISON (TEST SET) ===\n",
            "Model               Accuracy    Precision   Recall      F1          PR-AUC      \n",
            "---------------------------------------------------------------------------\n",
            "Baseline            0.7767        0.7767        0.7767        0.7767        0.8325\n",
            "MLP Classifier      0.8765        0.8765        0.8765        0.8765        0.9484\n"
          ]
        }
      ]
    },
    {
      "cell_type": "code",
      "source": [
        "# Debug prints\n",
        "print(\"Type of baseline_metrics:\", type(baseline_metrics))\n",
        "print(\"Keys in baseline_metrics:\", list(baseline_metrics.keys()) if hasattr(baseline_metrics, 'keys') else \"No keys\")\n",
        "\n",
        "print(\"Type of all_metrics:\", type(all_metrics))\n",
        "print(\"Structure of all_metrics:\", all_metrics)"
      ],
      "metadata": {
        "id": "AXzeo-6h4PDh",
        "outputId": "1ecce243-410a-40a8-e3e5-a52ebc1fb16e",
        "colab": {
          "base_uri": "https://localhost:8080/"
        }
      },
      "execution_count": 72,
      "outputs": [
        {
          "output_type": "stream",
          "name": "stdout",
          "text": [
            "Type of baseline_metrics: <class 'dict'>\n",
            "Keys in baseline_metrics: ['train', 'val', 'test']\n",
            "Type of all_metrics: <class 'dict'>\n",
            "Structure of all_metrics: {'train': {'class': {0: {'precision': 0.9090533278214138, 'recall': 0.8992393882391428, 'f1': 0.9041197269961352, 'pr_auc': 0.9662703886597409}, 1: {'precision': 0.9006852075775896, 'recall': 0.9103723620956571, 'f1': 0.9055028770564876, 'pr_auc': 0.964990984337193}}, 'macro': {'accuracy': 0.9048163265306123, 'macro_precision': 0.9048692676995017, 'macro_recall': 0.9048058751674, 'macro_f1': 0.9048113020263113, 'macro_pr_auc': 0.965630686498467}}, 'val': {'class': {0: {'precision': 0.8872137404580153, 'recall': 0.8816612933813768, 'f1': 0.8844288024350804, 'pr_auc': 0.9559051867799322}, 1: {'precision': 0.8813688212927757, 'recall': 0.8869332312990243, 'f1': 0.8841422713836178, 'pr_auc': 0.9495853483204073}}, 'macro': {'accuracy': 0.8842857142857142, 'macro_precision': 0.8842912808753955, 'macro_recall': 0.8842972623402006, 'macro_f1': 0.8842855369093491, 'macro_pr_auc': 0.9527452675501697}}, 'test': {'class': {0: {'precision': 0.8783494105037514, 'recall': 0.8741333333333333, 'f1': 0.8762363004544239, 'pr_auc': 0.9497686227661005}, 1: {'precision': 0.8747346072186837, 'recall': 0.8789333333333333, 'f1': 0.87682894386805, 'pr_auc': 0.9469571487479438}}, 'macro': {'accuracy': 0.8765333333333334, 'macro_precision': 0.8765420088612175, 'macro_recall': 0.8765333333333334, 'macro_f1': 0.876532622161237, 'macro_pr_auc': 0.9483628857570221}}}\n"
          ]
        }
      ]
    },
    {
      "cell_type": "code",
      "source": [
        "# # Main script\n",
        "# representations = {\"BoW\": \"bow\", \"TF-IDF\": \"tfidf\", \"Word2Vec\": \"embeddings\"}\n",
        "\n",
        "# results = {}\n",
        "# epochs = 20  # adjust according to preference...\n",
        "# batch_size = 128\n",
        "\n",
        "# for rep_name, rep_type in representations.items():\n",
        "#     (X_train, y_train), (X_val, y_val), (X_test, y_test) = preprocess_data(train_data, test_data, representation=rep_type)\n",
        "#     train_dataset = TensorDataset(torch.FloatTensor(X_train).to(device),\n",
        "#                                   torch.LongTensor(y_train).to(device))\n",
        "#     val_dataset = TensorDataset(torch.FloatTensor(X_val).to(device),\n",
        "#                                 torch.LongTensor(y_val).to(device))\n",
        "#     test_dataset = TensorDataset(torch.FloatTensor(X_test).to(device),\n",
        "#                                  torch.LongTensor(y_test).to(device))\n",
        "\n",
        "#     train_loader = DataLoader(train_dataset, batch_size=batch_size,\n",
        "#                               shuffle=True)\n",
        "#     val_loader = DataLoader(val_dataset, batch_size=batch_size)\n",
        "#     test_loader = DataLoader(test_dataset, batch_size=batch_size)\n",
        "\n",
        "#     input_dim = X_train.shape[1]\n",
        "\n",
        "#     for model_name, hidden_layers in models_config.items():\n",
        "#         model_key = f\"{model_name} ({rep_name})\"\n",
        "#         model = CustomModel(input_dim, hidden_layers=hidden_layers,\n",
        "#                             dropout=0.5 if \"Dropout\" in model_name else 0.0,\n",
        "#                             batch_norm=\"BatchNorm\" in model_name,\n",
        "#                             layer_norm=\"LayerNorm\" in model_name,\n",
        "#                             classes_number=len(np.unique(y_train))\n",
        "#                             ).float().to(device)\n",
        "#         criterion = nn.CrossEntropyLoss()\n",
        "#         optimizer = optim.Adam(model.parameters(), lr=0.001)\n",
        "\n",
        "#         print(f\"Training {model_key}...\")\n",
        "#         train_losses, val_losses = train_model(model, train_loader, val_loader, criterion, optimizer, epochs)\n",
        "#         results[model_key] = {\n",
        "#             \"train_losses\": train_losses,\n",
        "#             \"val_losses\": val_losses,\n",
        "#             \"metrics\": evaluate_model(model, test_loader)\n",
        "#         }\n",
        "\n",
        "\n",
        "# # Plot losses\n",
        "# plt.figure(figsize=(10, 6))\n",
        "# for name, result in results.items():\n",
        "#     plt.plot(result[\"val_losses\"], label=f\"{name} (Validation)\")\n",
        "#     plt.plot(result[\"train_losses\"], linestyle='--', label=f\"{name} (Train)\")\n",
        "# plt.xlabel(\"Epochs\")\n",
        "# plt.ylabel(\"Loss\")\n",
        "# plt.title(\"Training and Validation Loss\")\n",
        "# plt.legend(bbox_to_anchor=(1.01, 1), loc='upper left')\n",
        "# plt.tight_layout()\n",
        "# plt.show()\n",
        "\n",
        "# # Print metrics\n",
        "# for name, result in results.items():\n",
        "#     accuracy, precision, recall, f1 = result[\"metrics\"]\n",
        "#     print(f\"\\n{name} Metrics:\")\n",
        "#     print(f\"Accuracy: {accuracy:.4f}\")\n",
        "#     print(f\"Precision: {precision:.4f}\")\n",
        "#     print(f\"Recall: {recall:.4f}\")\n",
        "#     print(f\"F1 Score: {f1:.4f}\")"
      ],
      "metadata": {
        "colab": {
          "base_uri": "https://localhost:8080/",
          "height": 1000
        },
        "id": "m7Aks0XtYkAx",
        "outputId": "13fe5503-d505-4159-c207-826fbdc1e597"
      },
      "execution_count": 51,
      "outputs": [
        {
          "output_type": "stream",
          "name": "stdout",
          "text": [
            "Label mapping: {'negative': 0, 'positive': 1}\n",
            "Training Linear (BoW)...\n",
            "Epoch:    0 / 20 | Training Loss: 0.47555, Validation Loss: 0.39035\n",
            "Epoch:    5 / 20 | Training Loss: 0.26897, Validation Loss: 0.30944\n",
            "Epoch:   10 / 20 | Training Loss: 0.24995, Validation Loss: 0.31368\n",
            "Epoch:   15 / 20 | Training Loss: 0.24281, Validation Loss: 0.32185\n",
            "Training Plain MLP (BoW)...\n",
            "Epoch:    0 / 20 | Training Loss: 0.37363, Validation Loss: 0.32509\n",
            "Epoch:    5 / 20 | Training Loss: 0.02782, Validation Loss: 0.57161\n",
            "Epoch:   10 / 20 | Training Loss: 0.00031, Validation Loss: 1.03333\n",
            "Epoch:   15 / 20 | Training Loss: 0.00005, Validation Loss: 1.22600\n",
            "Training MLP with Dropout (BoW)...\n",
            "Epoch:    0 / 20 | Training Loss: 0.41019, Validation Loss: 0.30468\n",
            "Epoch:    5 / 20 | Training Loss: 0.12263, Validation Loss: 0.38545\n",
            "Epoch:   10 / 20 | Training Loss: 0.05850, Validation Loss: 0.56623\n",
            "Epoch:   15 / 20 | Training Loss: 0.03792, Validation Loss: 0.60213\n",
            "Training MLP with BatchNorm (BoW)...\n",
            "Epoch:    0 / 20 | Training Loss: 0.35231, Validation Loss: 0.30977\n",
            "Epoch:    5 / 20 | Training Loss: 0.03054, Validation Loss: 0.60897\n",
            "Epoch:   10 / 20 | Training Loss: 0.02042, Validation Loss: 0.77355\n",
            "Epoch:   15 / 20 | Training Loss: 0.00807, Validation Loss: 0.87173\n",
            "Training MLP with LayerNorm (BoW)...\n",
            "Epoch:    0 / 20 | Training Loss: 0.34823, Validation Loss: 0.31085\n",
            "Epoch:    5 / 20 | Training Loss: 0.02614, Validation Loss: 0.61430\n",
            "Epoch:   10 / 20 | Training Loss: 0.00853, Validation Loss: 0.80989\n",
            "Epoch:   15 / 20 | Training Loss: 0.00629, Validation Loss: 0.95379\n",
            "Label mapping: {'negative': 0, 'positive': 1}\n",
            "Training Linear (TF-IDF)...\n",
            "Epoch:    0 / 20 | Training Loss: 0.64535, Validation Loss: 0.60264\n",
            "Epoch:    5 / 20 | Training Loss: 0.41154, Validation Loss: 0.41326\n",
            "Epoch:   10 / 20 | Training Loss: 0.33935, Validation Loss: 0.35285\n",
            "Epoch:   15 / 20 | Training Loss: 0.30438, Validation Loss: 0.32497\n",
            "Training Plain MLP (TF-IDF)...\n",
            "Epoch:    0 / 20 | Training Loss: 0.39920, Validation Loss: 0.29856\n",
            "Epoch:    5 / 20 | Training Loss: 0.21487, Validation Loss: 0.31826\n",
            "Epoch:   10 / 20 | Training Loss: 0.02940, Validation Loss: 0.56453\n",
            "Epoch:   15 / 20 | Training Loss: 0.00133, Validation Loss: 0.85309\n",
            "Training MLP with Dropout (TF-IDF)...\n",
            "Epoch:    0 / 20 | Training Loss: 0.42878, Validation Loss: 0.29541\n",
            "Epoch:    5 / 20 | Training Loss: 0.17197, Validation Loss: 0.33668\n",
            "Epoch:   10 / 20 | Training Loss: 0.05362, Validation Loss: 0.50829\n",
            "Epoch:   15 / 20 | Training Loss: 0.02756, Validation Loss: 0.61553\n",
            "Training MLP with BatchNorm (TF-IDF)...\n",
            "Epoch:    0 / 20 | Training Loss: 0.33950, Validation Loss: 0.30663\n",
            "Epoch:    5 / 20 | Training Loss: 0.01440, Validation Loss: 0.62218\n",
            "Epoch:   10 / 20 | Training Loss: 0.02161, Validation Loss: 0.75784\n",
            "Epoch:   15 / 20 | Training Loss: 0.00248, Validation Loss: 0.92145\n",
            "Training MLP with LayerNorm (TF-IDF)...\n",
            "Epoch:    0 / 20 | Training Loss: 0.34548, Validation Loss: 0.30847\n",
            "Epoch:    5 / 20 | Training Loss: 0.01536, Validation Loss: 0.65942\n",
            "Epoch:   10 / 20 | Training Loss: 0.01363, Validation Loss: 0.77147\n",
            "Epoch:   15 / 20 | Training Loss: 0.00013, Validation Loss: 0.97273\n",
            "Label mapping: {'negative': 0, 'positive': 1}\n",
            "[==================================================] 100.0% 1662.8/1662.8MB downloaded\n",
            "Training Linear (Word2Vec)...\n",
            "Epoch:    0 / 20 | Training Loss: 0.65795, Validation Loss: 0.62613\n",
            "Epoch:    5 / 20 | Training Loss: 0.48483, Validation Loss: 0.47849\n",
            "Epoch:   10 / 20 | Training Loss: 0.43100, Validation Loss: 0.43080\n",
            "Epoch:   15 / 20 | Training Loss: 0.40510, Validation Loss: 0.40677\n",
            "Training Plain MLP (Word2Vec)...\n",
            "Epoch:    0 / 20 | Training Loss: 0.47431, Validation Loss: 0.37205\n",
            "Epoch:    5 / 20 | Training Loss: 0.34078, Validation Loss: 0.36024\n",
            "Epoch:   10 / 20 | Training Loss: 0.32540, Validation Loss: 0.33689\n",
            "Epoch:   15 / 20 | Training Loss: 0.31160, Validation Loss: 0.33977\n",
            "Training MLP with Dropout (Word2Vec)...\n",
            "Epoch:    0 / 20 | Training Loss: 0.52906, Validation Loss: 0.38291\n",
            "Epoch:    5 / 20 | Training Loss: 0.35202, Validation Loss: 0.34338\n",
            "Epoch:   10 / 20 | Training Loss: 0.34144, Validation Loss: 0.34682\n",
            "Epoch:   15 / 20 | Training Loss: 0.33326, Validation Loss: 0.33967\n",
            "Training MLP with BatchNorm (Word2Vec)...\n",
            "Epoch:    0 / 20 | Training Loss: 0.37560, Validation Loss: 0.34775\n",
            "Epoch:    5 / 20 | Training Loss: 0.29220, Validation Loss: 0.36346\n",
            "Epoch:   10 / 20 | Training Loss: 0.23770, Validation Loss: 0.43168\n",
            "Epoch:   15 / 20 | Training Loss: 0.19928, Validation Loss: 0.42231\n",
            "Training MLP with LayerNorm (Word2Vec)...\n",
            "Epoch:    0 / 20 | Training Loss: 0.40620, Validation Loss: 0.37025\n",
            "Epoch:    5 / 20 | Training Loss: 0.32178, Validation Loss: 0.34762\n",
            "Epoch:   10 / 20 | Training Loss: 0.30113, Validation Loss: 0.35421\n",
            "Epoch:   15 / 20 | Training Loss: 0.27260, Validation Loss: 0.37125\n"
          ]
        },
        {
          "output_type": "display_data",
          "data": {
            "text/plain": [
              "<Figure size 1000x600 with 1 Axes>"
            ],
            "image/png": "[encoded data removed]"
          },
          "metadata": {}
        },
        {
          "output_type": "stream",
          "name": "stdout",
          "text": [
            "\n",
            "Linear (BoW) Metrics:\n",
            "Accuracy: 0.8704\n",
            "Precision: 0.8705\n",
            "Recall: 0.8704\n",
            "F1 Score: 0.8704\n",
            "\n",
            "Plain MLP (BoW) Metrics:\n",
            "Accuracy: 0.8553\n",
            "Precision: 0.8554\n",
            "Recall: 0.8553\n",
            "F1 Score: 0.8553\n",
            "\n",
            "MLP with Dropout (BoW) Metrics:\n",
            "Accuracy: 0.8641\n",
            "Precision: 0.8642\n",
            "Recall: 0.8641\n",
            "F1 Score: 0.8641\n",
            "\n",
            "MLP with BatchNorm (BoW) Metrics:\n",
            "Accuracy: 0.8531\n",
            "Precision: 0.8536\n",
            "Recall: 0.8531\n",
            "F1 Score: 0.8531\n",
            "\n",
            "MLP with LayerNorm (BoW) Metrics:\n",
            "Accuracy: 0.8545\n",
            "Precision: 0.8555\n",
            "Recall: 0.8545\n",
            "F1 Score: 0.8544\n",
            "\n",
            "Linear (TF-IDF) Metrics:\n",
            "Accuracy: 0.8765\n",
            "Precision: 0.8768\n",
            "Recall: 0.8765\n",
            "F1 Score: 0.8764\n",
            "\n",
            "Plain MLP (TF-IDF) Metrics:\n",
            "Accuracy: 0.8587\n",
            "Precision: 0.8590\n",
            "Recall: 0.8587\n",
            "F1 Score: 0.8587\n",
            "\n",
            "MLP with Dropout (TF-IDF) Metrics:\n",
            "Accuracy: 0.8683\n",
            "Precision: 0.8683\n",
            "Recall: 0.8683\n",
            "F1 Score: 0.8683\n",
            "\n",
            "MLP with BatchNorm (TF-IDF) Metrics:\n",
            "Accuracy: 0.8541\n",
            "Precision: 0.8544\n",
            "Recall: 0.8541\n",
            "F1 Score: 0.8541\n",
            "\n",
            "MLP with LayerNorm (TF-IDF) Metrics:\n",
            "Accuracy: 0.8562\n",
            "Precision: 0.8562\n",
            "Recall: 0.8562\n",
            "F1 Score: 0.8562\n",
            "\n",
            "Linear (Word2Vec) Metrics:\n",
            "Accuracy: 0.8406\n",
            "Precision: 0.8406\n",
            "Recall: 0.8406\n",
            "F1 Score: 0.8406\n",
            "\n",
            "Plain MLP (Word2Vec) Metrics:\n",
            "Accuracy: 0.8595\n",
            "Precision: 0.8603\n",
            "Recall: 0.8595\n",
            "F1 Score: 0.8594\n",
            "\n",
            "MLP with Dropout (Word2Vec) Metrics:\n",
            "Accuracy: 0.8607\n",
            "Precision: 0.8611\n",
            "Recall: 0.8607\n",
            "F1 Score: 0.8607\n",
            "\n",
            "MLP with BatchNorm (Word2Vec) Metrics:\n",
            "Accuracy: 0.8327\n",
            "Precision: 0.8352\n",
            "Recall: 0.8327\n",
            "F1 Score: 0.8324\n",
            "\n",
            "MLP with LayerNorm (Word2Vec) Metrics:\n",
            "Accuracy: 0.8568\n",
            "Precision: 0.8569\n",
            "Recall: 0.8568\n",
            "F1 Score: 0.8568\n"
          ]
        }
      ]
    }
  ]
}