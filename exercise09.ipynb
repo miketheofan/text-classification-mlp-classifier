{
  "cells": [
    {
      "cell_type": "code",
      "execution_count": null,
      "metadata": {
        "id": "9XVTGsWWMLgO"
      },
      "outputs": [],
      "source": [
        "import os\n",
        "import matplotlib.pyplot as plt\n",
        "import torch\n",
        "import torch.nn as nn\n",
        "import numpy as np\n",
        "import tarfile\n",
        "from pathlib import Path\n",
        "from torch.utils.data import Dataset\n",
        "from sklearn.feature_extraction.text import TfidfVectorizer\n",
        "from sklearn.model_selection import train_test_split\n",
        "import tensorflow as tf\n",
        "from tensorflow.keras.models import Sequential\n",
        "from tensorflow.keras.layers import Dense, Dropout, Input\n",
        "from tensorflow.keras.callbacks import EarlyStopping"
      ]
    },
    {
      "cell_type": "code",
      "execution_count": null,
      "metadata": {
        "colab": {
          "base_uri": "https://localhost:8080/",
          "height": 73
        },
        "id": "i270s5kvTi-5",
        "outputId": "9b11b441-9f03-4afe-cdc4-85798093a364"
      },
      "outputs": [
        {
          "data": {
            "text/html": [
              "\n",
              "     <input type=\"file\" id=\"files-6c384682-1545-4c73-a936-a465af0fbc47\" name=\"files[]\" multiple disabled\n",
              "        style=\"border:none\" />\n",
              "     <output id=\"result-6c384682-1545-4c73-a936-a465af0fbc47\">\n",
              "      Upload widget is only available when the cell has been executed in the\n",
              "      current browser session. Please rerun this cell to enable.\n",
              "      </output>\n",
              "      <script>// Copyright 2017 Google LLC\n",
              "//\n",
              "// Licensed under the Apache License, Version 2.0 (the \"License\");\n",
              "// you may not use this file except in compliance with the License.\n",
              "// You may obtain a copy of the License at\n",
              "//\n",
              "//      http://www.apache.org/licenses/LICENSE-2.0\n",
              "//\n",
              "// Unless required by applicable law or agreed to in writing, software\n",
              "// distributed under the License is distributed on an \"AS IS\" BASIS,\n",
              "// WITHOUT WARRANTIES OR CONDITIONS OF ANY KIND, either express or implied.\n",
              "// See the License for the specific language governing permissions and\n",
              "// limitations under the License.\n",
              "\n",
              "/**\n",
              " * @fileoverview Helpers for google.colab Python module.\n",
              " */\n",
              "(function(scope) {\n",
              "function span(text, styleAttributes = {}) {\n",
              "  const element = document.createElement('span');\n",
              "  element.textContent = text;\n",
              "  for (const key of Object.keys(styleAttributes)) {\n",
              "    element.style[key] = styleAttributes[key];\n",
              "  }\n",
              "  return element;\n",
              "}\n",
              "\n",
              "// Max number of bytes which will be uploaded at a time.\n",
              "const MAX_PAYLOAD_SIZE = 100 * 1024;\n",
              "\n",
              "function _uploadFiles(inputId, outputId) {\n",
              "  const steps = uploadFilesStep(inputId, outputId);\n",
              "  const outputElement = document.getElementById(outputId);\n",
              "  // Cache steps on the outputElement to make it available for the next call\n",
              "  // to uploadFilesContinue from Python.\n",
              "  outputElement.steps = steps;\n",
              "\n",
              "  return _uploadFilesContinue(outputId);\n",
              "}\n",
              "\n",
              "// This is roughly an async generator (not supported in the browser yet),\n",
              "// where there are multiple asynchronous steps and the Python side is going\n",
              "// to poll for completion of each step.\n",
              "// This uses a Promise to block the python side on completion of each step,\n",
              "// then passes the result of the previous step as the input to the next step.\n",
              "function _uploadFilesContinue(outputId) {\n",
              "  const outputElement = document.getElementById(outputId);\n",
              "  const steps = outputElement.steps;\n",
              "\n",
              "  const next = steps.next(outputElement.lastPromiseValue);\n",
              "  return Promise.resolve(next.value.promise).then((value) => {\n",
              "    // Cache the last promise value to make it available to the next\n",
              "    // step of the generator.\n",
              "    outputElement.lastPromiseValue = value;\n",
              "    return next.value.response;\n",
              "  });\n",
              "}\n",
              "\n",
              "/**\n",
              " * Generator function which is called between each async step of the upload\n",
              " * process.\n",
              " * @param {string} inputId Element ID of the input file picker element.\n",
              " * @param {string} outputId Element ID of the output display.\n",
              " * @return {!Iterable<!Object>} Iterable of next steps.\n",
              " */\n",
              "function* uploadFilesStep(inputId, outputId) {\n",
              "  const inputElement = document.getElementById(inputId);\n",
              "  inputElement.disabled = false;\n",
              "\n",
              "  const outputElement = document.getElementById(outputId);\n",
              "  outputElement.innerHTML = '';\n",
              "\n",
              "  const pickedPromise = new Promise((resolve) => {\n",
              "    inputElement.addEventListener('change', (e) => {\n",
              "      resolve(e.target.files);\n",
              "    });\n",
              "  });\n",
              "\n",
              "  const cancel = document.createElement('button');\n",
              "  inputElement.parentElement.appendChild(cancel);\n",
              "  cancel.textContent = 'Cancel upload';\n",
              "  const cancelPromise = new Promise((resolve) => {\n",
              "    cancel.onclick = () => {\n",
              "      resolve(null);\n",
              "    };\n",
              "  });\n",
              "\n",
              "  // Wait for the user to pick the files.\n",
              "  const files = yield {\n",
              "    promise: Promise.race([pickedPromise, cancelPromise]),\n",
              "    response: {\n",
              "      action: 'starting',\n",
              "    }\n",
              "  };\n",
              "\n",
              "  cancel.remove();\n",
              "\n",
              "  // Disable the input element since further picks are not allowed.\n",
              "  inputElement.disabled = true;\n",
              "\n",
              "  if (!files) {\n",
              "    return {\n",
              "      response: {\n",
              "        action: 'complete',\n",
              "      }\n",
              "    };\n",
              "  }\n",
              "\n",
              "  for (const file of files) {\n",
              "    const li = document.createElement('li');\n",
              "    li.append(span(file.name, {fontWeight: 'bold'}));\n",
              "    li.append(span(\n",
              "        `(${file.type || 'n/a'}) - ${file.size} bytes, ` +\n",
              "        `last modified: ${\n",
              "            file.lastModifiedDate ? file.lastModifiedDate.toLocaleDateString() :\n",
              "                                    'n/a'} - `));\n",
              "    const percent = span('0% done');\n",
              "    li.appendChild(percent);\n",
              "\n",
              "    outputElement.appendChild(li);\n",
              "\n",
              "    const fileDataPromise = new Promise((resolve) => {\n",
              "      const reader = new FileReader();\n",
              "      reader.onload = (e) => {\n",
              "        resolve(e.target.result);\n",
              "      };\n",
              "      reader.readAsArrayBuffer(file);\n",
              "    });\n",
              "    // Wait for the data to be ready.\n",
              "    let fileData = yield {\n",
              "      promise: fileDataPromise,\n",
              "      response: {\n",
              "        action: 'continue',\n",
              "      }\n",
              "    };\n",
              "\n",
              "    // Use a chunked sending to avoid message size limits. See b/62115660.\n",
              "    let position = 0;\n",
              "    do {\n",
              "      const length = Math.min(fileData.byteLength - position, MAX_PAYLOAD_SIZE);\n",
              "      const chunk = new Uint8Array(fileData, position, length);\n",
              "      position += length;\n",
              "\n",
              "      const base64 = btoa(String.fromCharCode.apply(null, chunk));\n",
              "      yield {\n",
              "        response: {\n",
              "          action: 'append',\n",
              "          file: file.name,\n",
              "          data: base64,\n",
              "        },\n",
              "      };\n",
              "\n",
              "      let percentDone = fileData.byteLength === 0 ?\n",
              "          100 :\n",
              "          Math.round((position / fileData.byteLength) * 100);\n",
              "      percent.textContent = `${percentDone}% done`;\n",
              "\n",
              "    } while (position < fileData.byteLength);\n",
              "  }\n",
              "\n",
              "  // All done.\n",
              "  yield {\n",
              "    response: {\n",
              "      action: 'complete',\n",
              "    }\n",
              "  };\n",
              "}\n",
              "\n",
              "scope.google = scope.google || {};\n",
              "scope.google.colab = scope.google.colab || {};\n",
              "scope.google.colab._files = {\n",
              "  _uploadFiles,\n",
              "  _uploadFilesContinue,\n",
              "};\n",
              "})(self);\n",
              "</script> "
            ],
            "text/plain": [
              "<IPython.core.display.HTML object>"
            ]
          },
          "metadata": {},
          "output_type": "display_data"
        },
        {
          "name": "stdout",
          "output_type": "stream",
          "text": [
            "Saving aclImdb_v1.tar.gz to aclImdb_v1.tar.gz\n"
          ]
        }
      ],
      "source": [
        "from google.colab import files\n",
        "uploaded = files.upload()"
      ]
    },
    {
      "cell_type": "code",
      "execution_count": null,
      "metadata": {
        "colab": {
          "base_uri": "https://localhost:8080/"
        },
        "id": "1iHksIPAVVaY",
        "outputId": "51e7c6f2-abd7-4c6f-b390-cf51e69b0c6a"
      },
      "outputs": [
        {
          "name": "stdout",
          "output_type": "stream",
          "text": [
            "total 81M\n",
            "-rw-r--r-- 1 root root  81M May 12 11:48 aclImdb_v1.tar.gz\n",
            "-rw-r--r-- 1 root root   22 May 12 11:33 aclImdb.zip\n",
            "drwxr-xr-x 1 root root 4.0K May  8 13:38 sample_data\n"
          ]
        }
      ],
      "source": [
        "!ls -lh"
      ]
    },
    {
      "cell_type": "code",
      "execution_count": null,
      "metadata": {
        "colab": {
          "base_uri": "https://localhost:8080/"
        },
        "id": "Gx_nCoZvTt0A",
        "outputId": "0e926efc-4163-44b3-9a8f-2c0ee87e2825"
      },
      "outputs": [],
      "source": [
        "!tar -xvzf aclImdb_v1.tar.gz -C /content"
      ]
    },
    {
      "cell_type": "code",
      "execution_count": null,
      "metadata": {
        "colab": {
          "base_uri": "https://localhost:8080/"
        },
        "id": "AIkC-_XgVgnR",
        "outputId": "fad6d4c5-876e-464c-b07f-71bfc86f3be9"
      },
      "outputs": [
        {
          "name": "stdout",
          "output_type": "stream",
          "text": [
            "imdbEr.txt  imdb.vocab\tREADME\ttest  train\n"
          ]
        }
      ],
      "source": [
        "!ls /content/aclImdb"
      ]
    },
    {
      "cell_type": "code",
      "execution_count": null,
      "metadata": {
        "colab": {
          "base_uri": "https://localhost:8080/"
        },
        "id": "INl8LgS0NyEJ",
        "outputId": "ef80a8ae-55e0-420b-fdaa-e3d91780549a"
      },
      "outputs": [
        {
          "name": "stdout",
          "output_type": "stream",
          "text": [
            "OK — found /content/aclImdb\n"
          ]
        }
      ],
      "source": [
        "# TODO: Update this path to your actual ACL IMDb folder location\n",
        "# Example for Colab with Google Drive mounted:\n",
        "# data_root = '/content/drive/MyDrive/aclImdb'\n",
        "# Or if you uploaded the folder directly to Colab working dir:\n",
        "data_root = '/content/aclImdb'\n",
        "\n",
        "# Verify the top-level folder\n",
        "if not os.path.isdir(data_root):\n",
        "    raise FileNotFoundError(f\"Data folder '{data_root}' not found.\")\n",
        "print(\"OK — found\", data_root)\n"
      ]
    },
    {
      "cell_type": "code",
      "execution_count": null,
      "metadata": {
        "colab": {
          "base_uri": "https://localhost:8080/"
        },
        "id": "P67FHBzUS7Vh",
        "outputId": "2ab197e3-01d1-4d6a-a9e6-17db64513f13"
      },
      "outputs": [
        {
          "name": "stdout",
          "output_type": "stream",
          "text": [
            "Split: train\n",
            "  pos  : 12500 files\n",
            "  neg  : 12500 files\n",
            "  unsup: 50000 files\n",
            "Split: test\n",
            "  pos  : 12500 files\n",
            "  neg  : 12500 files\n"
          ]
        }
      ],
      "source": [
        "# Inspect directory structure and counts\n",
        "for split in ['train', 'test']:\n",
        "    print(f\"Split: {split}\")\n",
        "    for label in ['pos', 'neg', 'unsup']:\n",
        "        folder = Path(data_root) / split / label\n",
        "        if folder.exists():\n",
        "            count = len(list(folder.glob('*.txt')))\n",
        "            print(f\"  {label:5s}: {count} files\")"
      ]
    },
    {
      "cell_type": "code",
      "execution_count": null,
      "metadata": {
        "colab": {
          "base_uri": "https://localhost:8080/"
        },
        "id": "fmM0Ya_nS8Kq",
        "outputId": "6c2e8539-d8b2-4968-906e-0d79e169f15c"
      },
      "outputs": [
        {
          "name": "stdout",
          "output_type": "stream",
          "text": [
            "Sample negative test reviews:\n",
            "- 2622_2.txt\n",
            "I watched the first few episodes a short while back and felt I couldn't take it anymore. The horrible looking fight scenes are the worst I've ever scene in my life. About one-third of each episode is  ...\n",
            "- 7744_1.txt\n",
            "Kathy Ireland: the body of a goddess, the face of an angel, the voice of a Smurf.<br /><br />And the acting talent of a shovel full of calcite. If you don't believe me, check this out: \"Alien from L.A ...\n",
            "Sample positive test reviews:\n",
            "- 10974_8.txt\n",
            "No bullets, no secret agents, a story that is entertaining, funny, and believable. Met some of the producers/actors in this film at the theater. They seemed as interesting in person as their character ...\n",
            "- 10792_8.txt\n",
            "I have never been a great fan of Oliver Stone, often because I have found his films to be forced, preachy and generally flawed. The two Stone films I truly like are JFK and Talk Radio, yet Talk Radio  ...\n"
          ]
        }
      ],
      "source": [
        "# Print a few sample filenames and contents from test\n",
        "print(\"Sample negative test reviews:\")\n",
        "neg_folder = Path(data_root) / 'test' / 'neg'\n",
        "neg_test = list(neg_folder.glob('*.txt'))[:2]\n",
        "for path in neg_test:\n",
        "    print(f\"- {path.name}\")\n",
        "    print(path.read_text()[:200].replace('\\n', ' '), '...')\n",
        "\n",
        "print(\"Sample positive test reviews:\")\n",
        "pos_folder = Path(data_root) / 'test' / 'pos'\n",
        "pos_test = list(pos_folder.glob('*.txt'))[:2]\n",
        "for path in pos_test:\n",
        "    print(f\"- {path.name}\")\n",
        "    print(path.read_text()[:200].replace('\\n', ' '), '...')"
      ]
    },
    {
      "cell_type": "code",
      "execution_count": null,
      "metadata": {
        "colab": {
          "base_uri": "https://localhost:8080/",
          "height": 53
        },
        "id": "E7zjsCwyMLa5",
        "outputId": "38916678-a5c5-4361-9a00-3790d9ba6cff"
      },
      "outputs": [
        {
          "data": {
            "application/vnd.google.colaboratory.intrinsic+json": {
              "type": "string"
            },
            "text/plain": [
              "'\\n## 1. Dataset loader\\n\\n\\nWe define a `IMDBDataset` class that:\\n- Reads raw text files from `train/pos`, `train/neg`, `test/pos`, `test/neg` directories.\\n- Uses a vectorizer (e.g., TF-IDF) to convert texts into feature vectors.\\n- Returns `(features, label)` pairs as PyTorch tensors.\\n'"
            ]
          },
          "execution_count": 40,
          "metadata": {},
          "output_type": "execute_result"
        }
      ],
      "source": [
        "# %% [markdown]\n",
        "\"\"\"\n",
        "## 1. Dataset loader\n",
        "\n",
        "\n",
        "We define a `IMDBDataset` class that:\n",
        "- Reads raw text files from `train/pos`, `train/neg`, `test/pos`, `test/neg` directories.\n",
        "- Uses a vectorizer (e.g., TF-IDF) to convert texts into feature vectors.\n",
        "- Returns `(features, label)` pairs as PyTorch tensors.\n",
        "\"\"\"\n",
        "# %%"
      ]
    },
    {
      "cell_type": "code",
      "execution_count": null,
      "metadata": {
        "id": "L05zPU9wMLYa"
      },
      "outputs": [],
      "source": [
        "class IMDBDataset(Dataset):\n",
        "    def __init__(self, data_dir, split, vectorizer):\n",
        "        \"\"\"\n",
        "        data_dir: root folder 'aclImdb'\n",
        "        split: 'train' or 'test'\n",
        "        vectorizer: fitted TfidfVectorizer or CountVectorizer\n",
        "        \"\"\"\n",
        "        self.texts, self.labels = [], []\n",
        "        folder_root = Path(data_dir) / split\n",
        "        for label in ['pos', 'neg']:\n",
        "            idx = 1 if label == 'pos' else 0\n",
        "            for txt_path in (folder_root / label).glob('*.txt'):\n",
        "                self.texts.append(txt_path.read_text())\n",
        "                self.labels.append(idx)\n",
        "\n",
        "        # Convert texts to feature matrix\n",
        "        X = vectorizer.transform(self.texts)\n",
        "        self.features = X  # sparse matrix\n",
        "        self.labels = torch.tensor(self.labels, dtype=torch.long)\n",
        "\n",
        "    def __len__(self):\n",
        "        return len(self.labels)\n",
        "\n",
        "    def __getitem__(self, idx):\n",
        "        x = torch.tensor(self.features[idx].toarray().squeeze(), dtype=torch.float32)\n",
        "        y = self.labels[idx]\n",
        "        return x, y"
      ]
    },
    {
      "cell_type": "code",
      "execution_count": null,
      "metadata": {
        "colab": {
          "base_uri": "https://localhost:8080/",
          "height": 53
        },
        "id": "2Z0E7AkqMLWK",
        "outputId": "b45a9ca4-eacb-4f6b-ddf7-776fa3ad3ed0"
      },
      "outputs": [
        {
          "data": {
            "application/vnd.google.colaboratory.intrinsic+json": {
              "type": "string"
            },
            "text/plain": [
              "\"\\n## 2. Feature extraction\\n\\nWe use scikit-learn's `TfidfVectorizer` to convert raw texts into TF-IDF feature vectors. We'll fit on the training texts only, then transform both train and test splits.\\n\""
            ]
          },
          "execution_count": 42,
          "metadata": {},
          "output_type": "execute_result"
        }
      ],
      "source": [
        "# %% [markdown]\n",
        "\"\"\"\n",
        "## 2. Feature extraction\n",
        "\n",
        "We use scikit-learn's `TfidfVectorizer` to convert raw texts into TF-IDF feature vectors. We'll fit on the training texts only, then transform both train and test splits.\n",
        "\"\"\"\n",
        "# %%"
      ]
    },
    {
      "cell_type": "code",
      "execution_count": null,
      "metadata": {
        "id": "VvetcHz8YVav"
      },
      "outputs": [],
      "source": [
        "# Both are good ways. The first one is easier to read :D"
      ]
    },
    {
      "cell_type": "code",
      "execution_count": null,
      "metadata": {
        "colab": {
          "base_uri": "https://localhost:8080/"
        },
        "id": "rClvUIB1MLTo",
        "outputId": "5a00ce48-a899-4d4d-8f1c-fd0f77950bab"
      },
      "outputs": [
        {
          "name": "stdout",
          "output_type": "stream",
          "text": [
            "Vocabulary size: 5000\n",
            "\n",
            "Train examples: 25000\n",
            "Test examples:  25000\n"
          ]
        }
      ],
      "source": [
        "# Prepare the vectorizer fit on training data\n",
        "train_files = (\n",
        "    list((Path(data_root) / 'train' / 'pos').glob('*.txt'))\n",
        "  + list((Path(data_root) / 'train' / 'neg').glob('*.txt'))\n",
        ")\n",
        "train_texts = [p.read_text() for p in train_files]\n",
        "vectorizer = TfidfVectorizer(max_features=5000)\n",
        "vectorizer.fit(train_texts)\n",
        "print(f\"Vocabulary size: {len(vectorizer.vocabulary_)}\\n\")\n",
        "\n",
        "# Create dataset objects\n",
        "train_dataset = IMDBDataset(data_root, 'train', vectorizer)\n",
        "test_dataset  = IMDBDataset(data_root, 'test',  vectorizer)\n",
        "\n",
        "print(f\"Train examples: {len(train_dataset)}\")\n",
        "print(f\"Test examples:  {len(test_dataset)}\")"
      ]
    },
    {
      "cell_type": "code",
      "execution_count": null,
      "metadata": {
        "colab": {
          "base_uri": "https://localhost:8080/"
        },
        "id": "pkzrGE4EYRGf",
        "outputId": "fff6b294-7794-481a-8be7-b34d1e84ea45"
      },
      "outputs": [
        {
          "name": "stdout",
          "output_type": "stream",
          "text": [
            "Vocabulary size: 5000\n",
            "\n",
            "Train examples: 25000\n",
            "Test examples:  25000\n"
          ]
        }
      ],
      "source": [
        "# 1) build the list of train files\n",
        "pos_folder = Path(data_root) / 'train' / 'pos'\n",
        "neg_folder = Path(data_root) / 'train' / 'neg'\n",
        "\n",
        "train_files = list(pos_folder.glob('*.txt')) + list(neg_folder.glob('*.txt'))\n",
        "\n",
        "# 2) read in the raw texts\n",
        "train_texts = [p.read_text(encoding='utf-8') for p in train_files]\n",
        "\n",
        "# 3) fit your TF–IDF vectorizer\n",
        "vectorizer = TfidfVectorizer(max_features=5000)\n",
        "vectorizer.fit(train_texts)\n",
        "print(f\"Vocabulary size: {len(vectorizer.vocabulary_)}\\n\")\n",
        "\n",
        "# 4) now create your datasets\n",
        "train_dataset = IMDBDataset(data_root, 'train', vectorizer)\n",
        "test_dataset  = IMDBDataset(data_root, 'test',  vectorizer)\n",
        "\n",
        "print(f\"Train examples: {len(train_dataset)}\")\n",
        "print(f\"Test examples:  {len(test_dataset)}\")"
      ]
    },
    {
      "cell_type": "code",
      "execution_count": null,
      "metadata": {
        "id": "BAI86V5YMLMa"
      },
      "outputs": [],
      "source": [
        "## STEP 1.\n",
        "# 1) Build train/dev/test splits and TF–IDF feature matrices\n",
        "# a) List all positive & negative training files\n",
        "pos_files = list((Path(data_root)/'train'/'pos').glob('*.txt'))\n",
        "neg_files = list((Path(data_root)/'train'/'neg').glob('*.txt'))\n",
        "all_files = pos_files + neg_files\n",
        "# Create corresponding labels: 1 for pos, 0 for neg\n",
        "all_labels = np.array([1]*len(pos_files) + [0]*len(neg_files))\n",
        "\n",
        "# b) Read raw text from each file\n",
        "all_texts = [p.read_text(encoding='utf-8') for p in all_files]"
      ]
    },
    {
      "cell_type": "code",
      "execution_count": null,
      "metadata": {
        "id": "NpUQiub6MLJ5"
      },
      "outputs": [],
      "source": [
        "# c) Split into train/dev (80/20), stratified to keep class balance\n",
        "X_train_texts, X_dev_texts, y_train, y_dev = train_test_split(\n",
        "    all_texts, all_labels,\n",
        "    test_size=0.2,\n",
        "    random_state=42,\n",
        "    stratify=all_labels\n",
        ")\n",
        "\n",
        "# d) Fit TF–IDF on training texts only, then transform train & dev\n",
        "vectorizer = TfidfVectorizer(max_features=5000)\n",
        "X_train = vectorizer.fit_transform(X_train_texts)\n",
        "X_dev   = vectorizer.transform(X_dev_texts)"
      ]
    },
    {
      "cell_type": "code",
      "execution_count": null,
      "metadata": {
        "colab": {
          "base_uri": "https://localhost:8080/"
        },
        "id": "4Yy1Npu1MLHq",
        "outputId": "3e2dafaa-3723-42c4-f0cf-2de0a88d52f8"
      },
      "outputs": [
        {
          "name": "stdout",
          "output_type": "stream",
          "text": [
            "Shapes: (20000, 5000) (5000, 5000) (25000, 5000)\n",
            "Label counts: [10000 10000] [2500 2500] [12500 12500]\n"
          ]
        }
      ],
      "source": [
        "# e) Prepare the test set in the same way\n",
        "pos_test = list((Path(data_root)/'test'/'pos').glob('*.txt'))\n",
        "neg_test = list((Path(data_root)/'test'/'neg').glob('*.txt'))\n",
        "X_test_texts = [p.read_text(encoding='utf-8') for p in (pos_test + neg_test)]\n",
        "y_test       = np.array([1]*len(pos_test) + [0]*len(neg_test))\n",
        "X_test = vectorizer.transform(X_test_texts)\n",
        "\n",
        "# Keras likes dense arrays, so convert sparse → dense\n",
        "X_train = X_train.toarray()\n",
        "X_dev   = X_dev.toarray()\n",
        "X_test  = X_test.toarray()\n",
        "\n",
        "print(\"Shapes:\", X_train.shape, X_dev.shape, X_test.shape)\n",
        "print(\"Label counts:\", np.bincount(y_train),\n",
        "      np.bincount(y_dev), np.bincount(y_test))"
      ]
    },
    {
      "cell_type": "code",
      "execution_count": null,
      "metadata": {
        "colab": {
          "base_uri": "https://localhost:8080/",
          "height": 289
        },
        "id": "S48ediL0MLFJ",
        "outputId": "e94d1123-d585-4e9e-f29d-427a64502d4c"
      },
      "outputs": [
        {
          "data": {
            "text/html": [
              "<pre style=\"white-space:pre;overflow-x:auto;line-height:normal;font-family:Menlo,'DejaVu Sans Mono',consolas,'Courier New',monospace\"><span style=\"font-weight: bold\">Model: \"sequential_3\"</span>\n",
              "</pre>\n"
            ],
            "text/plain": [
              "\u001b[1mModel: \"sequential_3\"\u001b[0m\n"
            ]
          },
          "metadata": {},
          "output_type": "display_data"
        },
        {
          "data": {
            "text/html": [
              "<pre style=\"white-space:pre;overflow-x:auto;line-height:normal;font-family:Menlo,'DejaVu Sans Mono',consolas,'Courier New',monospace\">┏━━━━━━━━━━━━━━━━━━━━━━━━━━━━━━━━━┳━━━━━━━━━━━━━━━━━━━━━━━━┳━━━━━━━━━━━━━━━┓\n",
              "┃<span style=\"font-weight: bold\"> Layer (type)                    </span>┃<span style=\"font-weight: bold\"> Output Shape           </span>┃<span style=\"font-weight: bold\">       Param # </span>┃\n",
              "┡━━━━━━━━━━━━━━━━━━━━━━━━━━━━━━━━━╇━━━━━━━━━━━━━━━━━━━━━━━━╇━━━━━━━━━━━━━━━┩\n",
              "│ dense_9 (<span style=\"color: #0087ff; text-decoration-color: #0087ff\">Dense</span>)                 │ (<span style=\"color: #00d7ff; text-decoration-color: #00d7ff\">None</span>, <span style=\"color: #00af00; text-decoration-color: #00af00\">512</span>)            │     <span style=\"color: #00af00; text-decoration-color: #00af00\">2,560,512</span> │\n",
              "├─────────────────────────────────┼────────────────────────┼───────────────┤\n",
              "│ dropout_6 (<span style=\"color: #0087ff; text-decoration-color: #0087ff\">Dropout</span>)             │ (<span style=\"color: #00d7ff; text-decoration-color: #00d7ff\">None</span>, <span style=\"color: #00af00; text-decoration-color: #00af00\">512</span>)            │             <span style=\"color: #00af00; text-decoration-color: #00af00\">0</span> │\n",
              "├─────────────────────────────────┼────────────────────────┼───────────────┤\n",
              "│ dense_10 (<span style=\"color: #0087ff; text-decoration-color: #0087ff\">Dense</span>)                │ (<span style=\"color: #00d7ff; text-decoration-color: #00d7ff\">None</span>, <span style=\"color: #00af00; text-decoration-color: #00af00\">256</span>)            │       <span style=\"color: #00af00; text-decoration-color: #00af00\">131,328</span> │\n",
              "├─────────────────────────────────┼────────────────────────┼───────────────┤\n",
              "│ dropout_7 (<span style=\"color: #0087ff; text-decoration-color: #0087ff\">Dropout</span>)             │ (<span style=\"color: #00d7ff; text-decoration-color: #00d7ff\">None</span>, <span style=\"color: #00af00; text-decoration-color: #00af00\">256</span>)            │             <span style=\"color: #00af00; text-decoration-color: #00af00\">0</span> │\n",
              "├─────────────────────────────────┼────────────────────────┼───────────────┤\n",
              "│ dense_11 (<span style=\"color: #0087ff; text-decoration-color: #0087ff\">Dense</span>)                │ (<span style=\"color: #00d7ff; text-decoration-color: #00d7ff\">None</span>, <span style=\"color: #00af00; text-decoration-color: #00af00\">1</span>)              │           <span style=\"color: #00af00; text-decoration-color: #00af00\">257</span> │\n",
              "└─────────────────────────────────┴────────────────────────┴───────────────┘\n",
              "</pre>\n"
            ],
            "text/plain": [
              "┏━━━━━━━━━━━━━━━━━━━━━━━━━━━━━━━━━┳━━━━━━━━━━━━━━━━━━━━━━━━┳━━━━━━━━━━━━━━━┓\n",
              "┃\u001b[1m \u001b[0m\u001b[1mLayer (type)                   \u001b[0m\u001b[1m \u001b[0m┃\u001b[1m \u001b[0m\u001b[1mOutput Shape          \u001b[0m\u001b[1m \u001b[0m┃\u001b[1m \u001b[0m\u001b[1m      Param #\u001b[0m\u001b[1m \u001b[0m┃\n",
              "┡━━━━━━━━━━━━━━━━━━━━━━━━━━━━━━━━━╇━━━━━━━━━━━━━━━━━━━━━━━━╇━━━━━━━━━━━━━━━┩\n",
              "│ dense_9 (\u001b[38;5;33mDense\u001b[0m)                 │ (\u001b[38;5;45mNone\u001b[0m, \u001b[38;5;34m512\u001b[0m)            │     \u001b[38;5;34m2,560,512\u001b[0m │\n",
              "├─────────────────────────────────┼────────────────────────┼───────────────┤\n",
              "│ dropout_6 (\u001b[38;5;33mDropout\u001b[0m)             │ (\u001b[38;5;45mNone\u001b[0m, \u001b[38;5;34m512\u001b[0m)            │             \u001b[38;5;34m0\u001b[0m │\n",
              "├─────────────────────────────────┼────────────────────────┼───────────────┤\n",
              "│ dense_10 (\u001b[38;5;33mDense\u001b[0m)                │ (\u001b[38;5;45mNone\u001b[0m, \u001b[38;5;34m256\u001b[0m)            │       \u001b[38;5;34m131,328\u001b[0m │\n",
              "├─────────────────────────────────┼────────────────────────┼───────────────┤\n",
              "│ dropout_7 (\u001b[38;5;33mDropout\u001b[0m)             │ (\u001b[38;5;45mNone\u001b[0m, \u001b[38;5;34m256\u001b[0m)            │             \u001b[38;5;34m0\u001b[0m │\n",
              "├─────────────────────────────────┼────────────────────────┼───────────────┤\n",
              "│ dense_11 (\u001b[38;5;33mDense\u001b[0m)                │ (\u001b[38;5;45mNone\u001b[0m, \u001b[38;5;34m1\u001b[0m)              │           \u001b[38;5;34m257\u001b[0m │\n",
              "└─────────────────────────────────┴────────────────────────┴───────────────┘\n"
            ]
          },
          "metadata": {},
          "output_type": "display_data"
        },
        {
          "data": {
            "text/html": [
              "<pre style=\"white-space:pre;overflow-x:auto;line-height:normal;font-family:Menlo,'DejaVu Sans Mono',consolas,'Courier New',monospace\"><span style=\"font-weight: bold\"> Total params: </span><span style=\"color: #00af00; text-decoration-color: #00af00\">2,692,097</span> (10.27 MB)\n",
              "</pre>\n"
            ],
            "text/plain": [
              "\u001b[1m Total params: \u001b[0m\u001b[38;5;34m2,692,097\u001b[0m (10.27 MB)\n"
            ]
          },
          "metadata": {},
          "output_type": "display_data"
        },
        {
          "data": {
            "text/html": [
              "<pre style=\"white-space:pre;overflow-x:auto;line-height:normal;font-family:Menlo,'DejaVu Sans Mono',consolas,'Courier New',monospace\"><span style=\"font-weight: bold\"> Trainable params: </span><span style=\"color: #00af00; text-decoration-color: #00af00\">2,692,097</span> (10.27 MB)\n",
              "</pre>\n"
            ],
            "text/plain": [
              "\u001b[1m Trainable params: \u001b[0m\u001b[38;5;34m2,692,097\u001b[0m (10.27 MB)\n"
            ]
          },
          "metadata": {},
          "output_type": "display_data"
        },
        {
          "data": {
            "text/html": [
              "<pre style=\"white-space:pre;overflow-x:auto;line-height:normal;font-family:Menlo,'DejaVu Sans Mono',consolas,'Courier New',monospace\"><span style=\"font-weight: bold\"> Non-trainable params: </span><span style=\"color: #00af00; text-decoration-color: #00af00\">0</span> (0.00 B)\n",
              "</pre>\n"
            ],
            "text/plain": [
              "\u001b[1m Non-trainable params: \u001b[0m\u001b[38;5;34m0\u001b[0m (0.00 B)\n"
            ]
          },
          "metadata": {},
          "output_type": "display_data"
        }
      ],
      "source": [
        "## STEP 2.\n",
        "input_dim = X_train.shape[1]  # = 5000 features\n",
        "\n",
        "model = Sequential([\n",
        "    Input(shape=(input_dim,)),    # explicit Input layer\n",
        "    Dense(512, activation='relu',\n",
        "          kernel_regularizer=tf.keras.regularizers.l2(1e-4)),  # add small L2\n",
        "    Dropout(0.5),                 # 50% dropout for regularization\n",
        "    Dense(256, activation='relu',\n",
        "          kernel_regularizer=tf.keras.regularizers.l2(1e-4)),\n",
        "    Dropout(0.5),\n",
        "    Dense(1, activation='sigmoid')  # single‐unit output for binary class\n",
        "])\n",
        "\n",
        "model.compile(\n",
        "    optimizer='adam',\n",
        "    loss='binary_crossentropy',\n",
        "    metrics=['accuracy']\n",
        ")\n",
        "\n",
        "model.summary()"
      ]
    },
    {
      "cell_type": "code",
      "execution_count": null,
      "metadata": {
        "colab": {
          "base_uri": "https://localhost:8080/",
          "height": 611
        },
        "id": "Kz6GL1zlMK_h",
        "outputId": "4e069d23-55f6-4070-c67d-45dc3c5c2d79"
      },
      "outputs": [
        {
          "name": "stdout",
          "output_type": "stream",
          "text": [
            "Epoch 1/20\n",
            "625/625 - 6s - 10ms/step - accuracy: 0.8496 - loss: 0.4303 - val_accuracy: 0.8734 - val_loss: 0.3904\n",
            "Epoch 2/20\n",
            "625/625 - 7s - 12ms/step - accuracy: 0.9087 - loss: 0.3402 - val_accuracy: 0.8778 - val_loss: 0.4143\n",
            "Epoch 3/20\n",
            "625/625 - 2s - 3ms/step - accuracy: 0.9252 - loss: 0.3236 - val_accuracy: 0.8624 - val_loss: 0.4606\n",
            "Epoch 4/20\n",
            "625/625 - 3s - 4ms/step - accuracy: 0.9387 - loss: 0.3023 - val_accuracy: 0.8698 - val_loss: 0.4721\n"
          ]
        },
        {
          "data": {
            "image/png": "[encoded data removed]",
            "text/plain": [
              "<Figure size 640x480 with 1 Axes>"
            ]
          },
          "metadata": {},
          "output_type": "display_data"
        }
      ],
      "source": [
        "## STEP 3.\n",
        "# 3) Train with EarlyStopping on validation loss\n",
        "es = EarlyStopping(\n",
        "    monitor='val_loss',\n",
        "    patience=3,      # stop if no improvement for 3 epochs\n",
        "    restore_best_weights=True\n",
        ")\n",
        "\n",
        "history = model.fit(\n",
        "    X_train, y_train,\n",
        "    validation_data=(X_dev, y_dev),\n",
        "    epochs=20,       # allow up to 20 epochs\n",
        "    batch_size=32,\n",
        "    callbacks=[es],\n",
        "    verbose=2\n",
        ")\n",
        "\n",
        "plt.plot(history.history['loss'],  label='train loss')\n",
        "plt.plot(history.history['val_loss'],  label='dev loss')\n",
        "plt.xlabel('Epoch')\n",
        "plt.ylabel('Binary Cross-Entropy')\n",
        "plt.legend()\n",
        "plt.title('Training & Dev Loss vs Epochs')\n",
        "plt.show()"
      ]
    },
    {
      "cell_type": "code",
      "execution_count": null,
      "metadata": {
        "id": "RCJ67LrAMKvo"
      },
      "outputs": [],
      "source": [
        "## STEP 4.\n",
        "from sklearn.metrics import classification_report, precision_recall_curve, auc"
      ]
    },
    {
      "cell_type": "code",
      "execution_count": null,
      "metadata": {
        "id": "aoZilCJWb-AQ"
      },
      "outputs": [],
      "source": [
        "def evaluate(name, y_true, y_proba):\n",
        "    \"\"\"Print classification report + PR AUC + macro-P/R/F1.\"\"\"\n",
        "    y_pred = (y_proba >= 0.5).astype(int)\n",
        "    print(f\"=== {name} ===\")\n",
        "    print(classification_report(\n",
        "        y_true, y_pred, target_names=['neg','pos'], digits=4\n",
        "    ))\n",
        "    precision, recall, _ = precision_recall_curve(y_true, y_proba)\n",
        "    pr_auc = auc(recall, precision)\n",
        "    print(f\"PR AUC: {pr_auc:.4f}\")\n",
        "    print()"
      ]
    },
    {
      "cell_type": "code",
      "execution_count": null,
      "metadata": {
        "colab": {
          "base_uri": "https://localhost:8080/"
        },
        "id": "UFoPX7NKb_2g",
        "outputId": "36e21dbd-4d36-4769-ae26-874d2c5c03c9"
      },
      "outputs": [
        {
          "name": "stdout",
          "output_type": "stream",
          "text": [
            "\u001b[1m625/625\u001b[0m \u001b[32m━━━━━━━━━━━━━━━━━━━━\u001b[0m\u001b[37m\u001b[0m \u001b[1m1s\u001b[0m 1ms/step\n",
            "=== MLP Train ===\n",
            "              precision    recall  f1-score   support\n",
            "\n",
            "         neg     0.9135    0.9536    0.9331     10000\n",
            "         pos     0.9515    0.9097    0.9301     10000\n",
            "\n",
            "    accuracy                         0.9316     20000\n",
            "   macro avg     0.9325    0.9316    0.9316     20000\n",
            "weighted avg     0.9325    0.9316    0.9316     20000\n",
            "\n",
            "PR AUC: 0.9819\n",
            "\n",
            "\u001b[1m157/157\u001b[0m \u001b[32m━━━━━━━━━━━━━━━━━━━━\u001b[0m\u001b[37m\u001b[0m \u001b[1m0s\u001b[0m 2ms/step\n",
            "=== MLP Dev ===\n",
            "              precision    recall  f1-score   support\n",
            "\n",
            "         neg     0.8511    0.9052    0.8773      2500\n",
            "         pos     0.8988    0.8416    0.8692      2500\n",
            "\n",
            "    accuracy                         0.8734      5000\n",
            "   macro avg     0.8749    0.8734    0.8733      5000\n",
            "weighted avg     0.8749    0.8734    0.8733      5000\n",
            "\n",
            "PR AUC: 0.9500\n",
            "\n",
            "\u001b[1m782/782\u001b[0m \u001b[32m━━━━━━━━━━━━━━━━━━━━\u001b[0m\u001b[37m\u001b[0m \u001b[1m1s\u001b[0m 1ms/step\n",
            "=== MLP Test ===\n",
            "              precision    recall  f1-score   support\n",
            "\n",
            "         neg     0.8418    0.9146    0.8767     12500\n",
            "         pos     0.9065    0.8282    0.8656     12500\n",
            "\n",
            "    accuracy                         0.8714     25000\n",
            "   macro avg     0.8742    0.8714    0.8711     25000\n",
            "weighted avg     0.8742    0.8714    0.8711     25000\n",
            "\n",
            "PR AUC: 0.9478\n",
            "\n",
            "=== Majority baseline (Test) ===\n",
            "              precision    recall  f1-score   support\n",
            "\n",
            "         neg     0.0000    0.0000    0.0000     12500\n",
            "         pos     0.5000    1.0000    0.6667     12500\n",
            "\n",
            "    accuracy                         0.5000     25000\n",
            "   macro avg     0.2500    0.5000    0.3333     25000\n",
            "weighted avg     0.2500    0.5000    0.3333     25000\n",
            "\n",
            "PR AUC: 0.7500\n",
            "\n"
          ]
        },
        {
          "name": "stderr",
          "output_type": "stream",
          "text": [
            "/usr/local/lib/python3.11/dist-packages/sklearn/metrics/_classification.py:1565: UndefinedMetricWarning: Precision is ill-defined and being set to 0.0 in labels with no predicted samples. Use `zero_division` parameter to control this behavior.\n",
            "  _warn_prf(average, modifier, f\"{metric.capitalize()} is\", len(result))\n",
            "/usr/local/lib/python3.11/dist-packages/sklearn/metrics/_classification.py:1565: UndefinedMetricWarning: Precision is ill-defined and being set to 0.0 in labels with no predicted samples. Use `zero_division` parameter to control this behavior.\n",
            "  _warn_prf(average, modifier, f\"{metric.capitalize()} is\", len(result))\n",
            "/usr/local/lib/python3.11/dist-packages/sklearn/metrics/_classification.py:1565: UndefinedMetricWarning: Precision is ill-defined and being set to 0.0 in labels with no predicted samples. Use `zero_division` parameter to control this behavior.\n",
            "  _warn_prf(average, modifier, f\"{metric.capitalize()} is\", len(result))\n"
          ]
        }
      ],
      "source": [
        "# MLP on train/dev/test\n",
        "for split_name, X_split, y_split in [\n",
        "    ('Train', X_train, y_train),\n",
        "    ('Dev',   X_dev,   y_dev),\n",
        "    ('Test',  X_test,  y_test),\n",
        "]:\n",
        "    y_proba = model.predict(X_split).ravel()\n",
        "    evaluate(f\"MLP {split_name}\", y_split, y_proba)\n",
        "\n",
        "# Majority‐class baseline for test\n",
        "majority_proba = np.full_like(y_test, fill_value=y_train.mean(), dtype=float)\n",
        "evaluate(\"Majority baseline (Test)\", y_test, majority_proba)"
      ]
    }
  ],
  "metadata": {
    "accelerator": "GPU",
    "colab": {
      "gpuType": "T4",
      "provenance": []
    },
    "kernelspec": {
      "display_name": "Python 3",
      "name": "python3"
    },
    "language_info": {
      "name": "python"
    }
  },
  "nbformat": 4,
  "nbformat_minor": 0
}
